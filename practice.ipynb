{
 "cells": [
  {
   "cell_type": "code",
   "execution_count": 1,
   "id": "8433c72b",
   "metadata": {},
   "outputs": [
    {
     "name": "stdout",
     "output_type": "stream",
     "text": [
      "6     344.00000000 276.00000000\n",
      "4.753623188405797 85.46254745 145.07624449\n",
      "4.164536065619037 14.81344308 96.17146213\n",
      "4.010504477133655 0.88635310 84.75764648\n",
      "4.000046976980266 0.00394615 84.00338237\n",
      "4.000000000945759 0.00000008 84.00000007\n",
      "4.0   0.00000000 84.00000000\n",
      "4.0   0.00000000 84.00000000\n"
     ]
    }
   ],
   "source": [
    "x = 6\n",
    "for _ in range(8):\n",
    "    y1 = 4*(x ** 3) - 12*(x ** 2) - 12*x - 16\n",
    "    y2 = 12*(x ** 2) - 24*x - 12\n",
    "    print(f\"{x:<5} {y1:<5.8f} {y2:<5.8f}\")\n",
    "    x = x - y1/y2"
   ]
  },
  {
   "cell_type": "code",
   "execution_count": 7,
   "id": "15344dbf",
   "metadata": {},
   "outputs": [
    {
     "name": "stdout",
     "output_type": "stream",
     "text": [
      "0     -6.00000000\n",
      "1     -3.91666667\n",
      "2     -3.36258865\n",
      "3     -3.31693893\n",
      "4     -3.31662481\n",
      "5     -3.31662479\n",
      "6     -3.31662479\n",
      "7     -3.31662479\n"
     ]
    }
   ],
   "source": [
    "import numpy as np\n",
    "from numpy import linalg as la\n",
    "\n",
    "x = -1\n",
    "for i in range(8):\n",
    "    x = x - (x**2 - 11)/(2*x)\n",
    "    print(f\"{i:<5} {x:<5.8f}\")"
   ]
  },
  {
   "cell_type": "code",
   "execution_count": null,
   "id": "bb2c02c3",
   "metadata": {},
   "outputs": [
    {
     "name": "stdout",
     "output_type": "stream",
     "text": [
      "newton:0.93235 截弦法:1.01000\n",
      "newton:0.95444 截弦法:1.00990\n"
     ]
    }
   ],
   "source": [
    "x0 = 0.9\n",
    "#https://github.com/loading-hh/diveintodeeplearning-pytorch.git\n",
    "x_0 = 0.9\n",
    "x_1 = 1.1\n",
    "for _ in range(2):\n",
    "    x0 = x0 - (((x0-1)**3)*(x0-2))/(((x0-1)**2)*(4*x0-7))\n",
    "    x_2 = x_1 - (((x_1-1)**3)*(x_1-2)*(x_1-x_0))/(((x_1-1)**3)*(x_1-2)-((x_0-1)**3)*(x_0-2))\n",
    "    x_0 = x_1\n",
    "    x_1 = x_2\n",
    "    print(f\"newton:{x0:<.5f} 截弦法:{x_2:<.5f}\")"
   ]
  },
  {
   "cell_type": "code",
   "execution_count": 13,
   "id": "415f1ce0",
   "metadata": {},
   "outputs": [
    {
     "data": {
      "text/plain": [
       "array([[ 1.73205081,  0.        ,  0.        ],\n",
       "       [ 1.15470054,  0.81649658,  0.        ],\n",
       "       [ 1.15470054, -1.63299316,  2.82842712]])"
      ]
     },
     "execution_count": 13,
     "metadata": {},
     "output_type": "execute_result"
    }
   ],
   "source": [
    "l = np.array([[1, 0, 0], [2/3, 1, 0], [2/3, -2, 1]])\n",
    "d = np.array([[np.sqrt(3), 0, 0], [0, np.sqrt(2/3), 0], [0, 0, np.sqrt(8)]])\n",
    "np.dot(l, d)"
   ]
  },
  {
   "cell_type": "code",
   "execution_count": 43,
   "id": "0a9bfe7d",
   "metadata": {},
   "outputs": [
    {
     "name": "stdout",
     "output_type": "stream",
     "text": [
      "0 0\n"
     ]
    }
   ],
   "source": [
    "x_1 = 1\n",
    "x_2 = 1\n",
    "y_1 = -2*(1-x_1)-8*x_1*(x_2 - (x_1**2))\n",
    "y_2 = 4*(x_2 - (x_1**2))\n",
    "y = y_1**2 + y_2**2\n",
    "print(y_1, y_2)"
   ]
  },
  {
   "cell_type": "code",
   "execution_count": 37,
   "id": "66b20605",
   "metadata": {},
   "outputs": [
    {
     "name": "stdout",
     "output_type": "stream",
     "text": [
      "k_1:0     k_1:-0.95 k_1:-0.9025 k_1:-0.8097500000000001 x:0.1   y:0.9097125\n",
      "k_1:0.19028749999999994 k_1:-0.769226875 k_1:-0.72125115625 k_1:-0.637587384375 x:0.2   y:0.84055404828125\n"
     ]
    }
   ],
   "source": [
    "x = 0\n",
    "y = 1\n",
    "for _ in range(2):\n",
    "    k_1 = x - y + 1\n",
    "    k_2 = (x + 0.1/2) - (y + 0.1*k_1 / 2)\n",
    "    k_3 = (x + 0.1/2) - (y + 0.1*k_2 / 2)\n",
    "    k_4 = (x + 0.1) - (y + 0.1*k_3)\n",
    "    y = y + 0.1*(k_1 +2 * k_2 + 3 * k_3 + k_4)/6\n",
    "    x = x + 0.1\n",
    "    print(f\"k_1:{k_1:<5} k_1:{k_2:<5} k_1:{k_3:<5} k_1:{k_4:<5} x:{x:<5} y:{y:<5}\")"
   ]
  },
  {
   "cell_type": "code",
   "execution_count": 9,
   "id": "200fa246",
   "metadata": {},
   "outputs": [
    {
     "name": "stdout",
     "output_type": "stream",
     "text": [
      "2.142857142857143\n",
      "2.132551528073916\n",
      "2.132493690289747\n",
      "2.132493688476412\n"
     ]
    }
   ],
   "source": [
    "x = 2\n",
    "for _ in range(4):\n",
    "    f_x = x ** 3 - 2 * (x ** 2) + 3 * x - 7\n",
    "    f__x = 3 * (x ** 2) - 4 * x + 3\n",
    "    x = x - f_x/f__x\n",
    "    print(x)"
   ]
  },
  {
   "cell_type": "code",
   "execution_count": 9,
   "id": "f8c709ef",
   "metadata": {},
   "outputs": [],
   "source": [
    "import torch\n",
    "from torch import nn"
   ]
  },
  {
   "cell_type": "code",
   "execution_count": 2,
   "id": "b661ce8e",
   "metadata": {},
   "outputs": [
    {
     "name": "stdout",
     "output_type": "stream",
     "text": [
      "0 1 2\n"
     ]
    }
   ],
   "source": [
    "print(*[0, 1, 2])"
   ]
  },
  {
   "cell_type": "code",
   "execution_count": 2,
   "id": "7939b2c3",
   "metadata": {},
   "outputs": [],
   "source": [
    "def f():\n",
    "    return (1, [0, 1])\n",
    "a = f()"
   ]
  },
  {
   "cell_type": "code",
   "execution_count": 6,
   "id": "686b43e5",
   "metadata": {},
   "outputs": [
    {
     "data": {
      "text/plain": [
       "tuple"
      ]
     },
     "execution_count": 6,
     "metadata": {},
     "output_type": "execute_result"
    }
   ],
   "source": [
    "type(a)"
   ]
  },
  {
   "cell_type": "code",
   "execution_count": 27,
   "id": "dc1bf114",
   "metadata": {},
   "outputs": [
    {
     "data": {
      "text/plain": [
       "tensor([[ 0.0441, -0.1110]], device='cuda:0', grad_fn=<AddmmBackward0>)"
      ]
     },
     "execution_count": 27,
     "metadata": {},
     "output_type": "execute_result"
    }
   ],
   "source": [
    "device = torch.device(\"cuda:0\")\n",
    "\n",
    "# 生产网络的工厂模式\n",
    "def get_net():\n",
    "    net = nn.Sequential(nn.Linear(512, 256),\n",
    "            nn.ReLU(),\n",
    "            nn.Linear(256, 128),\n",
    "            nn.ReLU(),\n",
    "            nn.Linear(128, 2))\n",
    "    return net\n",
    "\n",
    "x = torch.randn(size=(1, 512)).to(device)\n",
    "net = get_net()\n",
    "net.to(device)\n",
    "net(x)"
   ]
  },
  {
   "cell_type": "code",
   "execution_count": 28,
   "id": "4594c383",
   "metadata": {},
   "outputs": [
    {
     "data": {
      "text/plain": [
       "tensor([[ 0.0441, -0.1110]], device='cuda:0',\n",
       "       grad_fn=<DifferentiableGraphBackward>)"
      ]
     },
     "execution_count": 28,
     "metadata": {},
     "output_type": "execute_result"
    }
   ],
   "source": [
    "net = torch.jit.script(net)\n",
    "net(x)"
   ]
  },
  {
   "cell_type": "code",
   "execution_count": 1,
   "id": "91f262f4",
   "metadata": {},
   "outputs": [],
   "source": [
    "import torch\n",
    "import numpy as np\n",
    "import matplotlib.pyplot as plt\n",
    "%matplotlib widget"
   ]
  },
  {
   "cell_type": "code",
   "execution_count": 7,
   "id": "c6fb3312",
   "metadata": {},
   "outputs": [
    {
     "data": {
      "text/plain": [
       "array([[ 1. ],\n",
       "       [ 4. ],\n",
       "       [-1.5]])"
      ]
     },
     "execution_count": 7,
     "metadata": {},
     "output_type": "execute_result"
    }
   ],
   "source": [
    "d = np.array([[2, 0, 0], [0, 1, 0], [0, 0, -2]])\n",
    "l = np.array([[0, 0, 0], [-1, 0, 0], [-1, -1, 0]])\n",
    "u = np.array([[0, 1, -1], [0, 0, -1], [0, 0, 0]])\n",
    "b = np.array([[2], [5], [8]])\n",
    "np.dot((np.linalg.inv(d - l)), b)"
   ]
  },
  {
   "cell_type": "code",
   "execution_count": 3,
   "id": "084d44cc",
   "metadata": {},
   "outputs": [
    {
     "data": {
      "text/plain": [
       "array([[0.      ],\n",
       "       [0.599997],\n",
       "       [0.      ]])"
      ]
     },
     "execution_count": 3,
     "metadata": {},
     "output_type": "execute_result"
    }
   ],
   "source": [
    "a = np.array([[2, 0, 0.66667], [0, 0.66667, 0], [0.66667, 0, 2/5]])\n",
    "y = np.array([[0], [2/5], [0]])\n",
    "np.dot((np.linalg.inv(a)), y)"
   ]
  },
  {
   "cell_type": "code",
   "execution_count": 2,
   "id": "0c3ab63d",
   "metadata": {},
   "outputs": [
    {
     "data": {
      "text/plain": [
       "array([[1.23398170e+00],\n",
       "       [1.94549266e-04]])"
      ]
     },
     "execution_count": 2,
     "metadata": {},
     "output_type": "execute_result"
    }
   ],
   "source": [
    "a = np.array([[11, 330], [330, 308025]])\n",
    "y = np.array([[13.638], [467.14]])\n",
    "np.dot((np.linalg.inv(a)), y)"
   ]
  },
  {
   "cell_type": "code",
   "execution_count": 10,
   "id": "990c35a8",
   "metadata": {},
   "outputs": [
    {
     "name": "stdout",
     "output_type": "stream",
     "text": [
      "tensor([[ 0,  1,  2,  3],\n",
      "        [ 4,  5,  6,  7],\n",
      "        [ 8,  9, 10, 11]])\n",
      "torch.Size([1, 1, 3, 4])\n"
     ]
    }
   ],
   "source": [
    "x = torch.arange(12).reshape(3, 4)\n",
    "print(x)\n",
    "a = x.reshape((1, 1) + x.shape).shape\n",
    "print(a)"
   ]
  },
  {
   "cell_type": "code",
   "execution_count": 18,
   "id": "37457f2f",
   "metadata": {},
   "outputs": [],
   "source": [
    "import torch\n",
    "from torch.nn import functional as F\n",
    "from torch import nn\n",
    "\n",
    "\n",
    "class CenteredLayer(nn.Module):\n",
    "    def __init__(self):\n",
    "        super().__init__()\n",
    "\n",
    "    def forward(self, X):\n",
    "        return X - X.mean()"
   ]
  },
  {
   "cell_type": "code",
   "execution_count": 11,
   "id": "beb63371",
   "metadata": {},
   "outputs": [
    {
     "name": "stdout",
     "output_type": "stream",
     "text": [
      "OrderedDict([('weight', tensor([[ 0.0365,  0.1293, -0.3419,  0.2876],\n",
      "        [ 0.4252, -0.2766,  0.2860, -0.0544],\n",
      "        [-0.5000,  0.2174,  0.0421,  0.2883],\n",
      "        [ 0.1274,  0.2361, -0.0642,  0.1183],\n",
      "        [-0.4266,  0.3604,  0.3413, -0.3490],\n",
      "        [ 0.0769,  0.3139,  0.3673,  0.3569],\n",
      "        [ 0.0429, -0.0538,  0.0184,  0.4951],\n",
      "        [ 0.4786,  0.3276, -0.3053, -0.4023]])), ('bias', tensor([-0.0533,  0.3723, -0.0661,  0.2975, -0.4507, -0.2554, -0.3707,  0.1280]))])\n"
     ]
    }
   ],
   "source": [
    "print(net[0].state_dict())"
   ]
  },
  {
   "cell_type": "markdown",
   "id": "7bd55c12",
   "metadata": {},
   "source": [
    "## 1.数据操作"
   ]
  },
  {
   "cell_type": "code",
   "execution_count": 85,
   "id": "233f6ef4",
   "metadata": {},
   "outputs": [
    {
     "data": {
      "text/plain": [
       "(torch.Size([3, 4]),\n",
       " tensor([[ 0.,  1.,  2.,  3.],\n",
       "         [ 4.,  5.,  6.,  7.],\n",
       "         [ 8.,  9., 10., 11.]], requires_grad=True),\n",
       " tensor([0., 1., 2., 3.]),\n",
       " True)"
      ]
     },
     "execution_count": 85,
     "metadata": {},
     "output_type": "execute_result"
    }
   ],
   "source": [
    "x = torch.arange(12, dtype = torch.float32).reshape(3, 4)   #要求导的变量必须要最后在对x变为True，如果先True再reshape那么就不是叶节点了，\n",
    "                                                            #这个一定要注意。\n",
    "x.requires_grad_(True)\n",
    "a = torch.arange(4, dtype = torch.float32)\n",
    "x.shape, x, a, x.is_leaf"
   ]
  },
  {
   "cell_type": "code",
   "execution_count": 86,
   "id": "020aaf50",
   "metadata": {},
   "outputs": [
    {
     "data": {
      "text/plain": [
       "tensor([14., 38., 62.], grad_fn=<MvBackward0>)"
      ]
     },
     "execution_count": 86,
     "metadata": {},
     "output_type": "execute_result"
    }
   ],
   "source": [
    "y = torch.mv(x, a)\n",
    "y"
   ]
  },
  {
   "cell_type": "code",
   "execution_count": 88,
   "id": "6b805323",
   "metadata": {},
   "outputs": [
    {
     "name": "stdout",
     "output_type": "stream",
     "text": [
      "tensor([[0., 1., 2., 3.],\n",
      "        [0., 1., 2., 3.],\n",
      "        [0., 1., 2., 3.]]) True\n"
     ]
    }
   ],
   "source": [
    "y.backward(torch.ones_like(torch.arange(len(x))))\n",
    "print(x.grad, x.is_leaf)"
   ]
  },
  {
   "cell_type": "code",
   "execution_count": 7,
   "id": "f1a8edb7",
   "metadata": {},
   "outputs": [
    {
     "name": "stdout",
     "output_type": "stream",
     "text": [
      "torch.Size([3, 4]) 12\n"
     ]
    },
    {
     "data": {
      "text/plain": [
       "tensor([[ 0.,  1.,  2.,  3.],\n",
       "        [ 4.,  5.,  6.,  7.],\n",
       "        [ 8.,  9., 10., 11.]])"
      ]
     },
     "execution_count": 7,
     "metadata": {},
     "output_type": "execute_result"
    }
   ],
   "source": [
    "a = x.reshape(3, 4)\n",
    "print(a.shape, a.numel())\n",
    "a"
   ]
  },
  {
   "cell_type": "code",
   "execution_count": 8,
   "id": "4927eddb",
   "metadata": {},
   "outputs": [
    {
     "data": {
      "text/plain": [
       "tensor([[1, 1, 1, 1],\n",
       "        [1, 1, 1, 1],\n",
       "        [1, 1, 1, 1]], dtype=torch.int32)"
      ]
     },
     "execution_count": 8,
     "metadata": {},
     "output_type": "execute_result"
    }
   ],
   "source": [
    "x = torch.ones((3, 4), dtype = torch.int)\n",
    "x"
   ]
  },
  {
   "cell_type": "code",
   "execution_count": 9,
   "id": "860de9b6",
   "metadata": {},
   "outputs": [
    {
     "data": {
      "text/plain": [
       "(tensor([[ 1.,  2.,  3.,  4.],\n",
       "         [ 5.,  6.,  7.,  8.],\n",
       "         [ 9., 10., 11., 12.]]),\n",
       " tensor([[  1.,   0.,  -1.,  -2.],\n",
       "         [ -3.,  -4.,  -5.,  -6.],\n",
       "         [ -7.,  -8.,  -9., -10.]]),\n",
       " tensor([[ 0.,  1.,  2.,  3.],\n",
       "         [ 4.,  5.,  6.,  7.],\n",
       "         [ 8.,  9., 10., 11.]]),\n",
       " tensor([[   inf, 1.0000, 0.5000, 0.3333],\n",
       "         [0.2500, 0.2000, 0.1667, 0.1429],\n",
       "         [0.1250, 0.1111, 0.1000, 0.0909]]))"
      ]
     },
     "execution_count": 9,
     "metadata": {},
     "output_type": "execute_result"
    }
   ],
   "source": [
    "x + a, x - a, x * a, x / a"
   ]
  },
  {
   "cell_type": "code",
   "execution_count": 10,
   "id": "7c5d1aca",
   "metadata": {},
   "outputs": [
    {
     "data": {
      "text/plain": [
       "(tensor([[ 1.,  1.,  1.,  1.],\n",
       "         [ 1.,  1.,  1.,  1.],\n",
       "         [ 1.,  1.,  1.,  1.],\n",
       "         [ 0.,  1.,  2.,  3.],\n",
       "         [ 4.,  5.,  6.,  7.],\n",
       "         [ 8.,  9., 10., 11.]]),\n",
       " tensor([[ 1.,  1.,  1.,  1.,  0.,  1.,  2.,  3.],\n",
       "         [ 1.,  1.,  1.,  1.,  4.,  5.,  6.,  7.],\n",
       "         [ 1.,  1.,  1.,  1.,  8.,  9., 10., 11.]]))"
      ]
     },
     "execution_count": 10,
     "metadata": {},
     "output_type": "execute_result"
    }
   ],
   "source": [
    "torch.cat((x, a), dim = 0), torch.cat((x, a), dim = 1)"
   ]
  },
  {
   "cell_type": "code",
   "execution_count": 11,
   "id": "3da6ef9f",
   "metadata": {},
   "outputs": [
    {
     "data": {
      "text/plain": [
       "tensor([[ True,  True, False, False],\n",
       "        [False, False, False, False],\n",
       "        [False, False, False, False]])"
      ]
     },
     "execution_count": 11,
     "metadata": {},
     "output_type": "execute_result"
    }
   ],
   "source": [
    "x >= a"
   ]
  },
  {
   "cell_type": "code",
   "execution_count": 12,
   "id": "68b9d371",
   "metadata": {},
   "outputs": [
    {
     "data": {
      "text/plain": [
       "tensor(12)"
      ]
     },
     "execution_count": 12,
     "metadata": {},
     "output_type": "execute_result"
    }
   ],
   "source": [
    "x.sum()"
   ]
  },
  {
   "cell_type": "code",
   "execution_count": 13,
   "id": "d9ac95a7",
   "metadata": {},
   "outputs": [
    {
     "data": {
      "text/plain": [
       "(tensor([[0, 1, 2]]),\n",
       " tensor([[0],\n",
       "         [1],\n",
       "         [2]]),\n",
       " tensor([[0, 1, 2],\n",
       "         [1, 2, 3],\n",
       "         [2, 3, 4]]))"
      ]
     },
     "execution_count": 13,
     "metadata": {},
     "output_type": "execute_result"
    }
   ],
   "source": [
    "x = torch.arange(3).reshape(1, 3)\n",
    "y = torch.arange(3).reshape(3, 1)\n",
    "x, y, x + y"
   ]
  },
  {
   "cell_type": "code",
   "execution_count": 14,
   "id": "9e9d45ce",
   "metadata": {},
   "outputs": [
    {
     "data": {
      "text/plain": [
       "tensor([0., 1., 2., 3., 4., 5., 6., 7.])"
      ]
     },
     "execution_count": 14,
     "metadata": {},
     "output_type": "execute_result"
    }
   ],
   "source": [
    "a[0:2].reshape(a[0:2].numel())"
   ]
  },
  {
   "cell_type": "code",
   "execution_count": 15,
   "id": "a79580c4",
   "metadata": {},
   "outputs": [
    {
     "name": "stdout",
     "output_type": "stream",
     "text": [
      "<class 'numpy.ndarray'> [ 0  1  2  3  4  5  6  7  8  9 10 11]\n",
      "<class 'torch.Tensor'> tensor([ 0,  1,  2,  3,  4,  5,  6,  7,  8,  9, 10, 11], dtype=torch.int32)\n",
      "<class 'numpy.ndarray'> [ 0  1  2  3  4  5  6  7  8  9 10 11]\n"
     ]
    }
   ],
   "source": [
    "a = np.arange(12)\n",
    "print(type(a), a)\n",
    "b = torch.tensor(a)\n",
    "print(type(b), b)\n",
    "print(type(b.numpy()), b.numpy())"
   ]
  },
  {
   "cell_type": "code",
   "execution_count": 16,
   "id": "46fc8d47",
   "metadata": {},
   "outputs": [
    {
     "data": {
      "text/plain": [
       "(tensor([[[ 0],\n",
       "          [ 1],\n",
       "          [ 2],\n",
       "          [ 3],\n",
       "          [ 4],\n",
       "          [ 5]],\n",
       " \n",
       "         [[ 6],\n",
       "          [ 7],\n",
       "          [ 8],\n",
       "          [ 9],\n",
       "          [10],\n",
       "          [11]]]),\n",
       " tensor([[[ 0,  1,  2,  3,  4,  5]],\n",
       " \n",
       "         [[ 6,  7,  8,  9, 10, 11]]]),\n",
       " tensor([[[ 0,  1,  2,  3,  4,  5],\n",
       "          [ 1,  2,  3,  4,  5,  6],\n",
       "          [ 2,  3,  4,  5,  6,  7],\n",
       "          [ 3,  4,  5,  6,  7,  8],\n",
       "          [ 4,  5,  6,  7,  8,  9],\n",
       "          [ 5,  6,  7,  8,  9, 10]],\n",
       " \n",
       "         [[12, 13, 14, 15, 16, 17],\n",
       "          [13, 14, 15, 16, 17, 18],\n",
       "          [14, 15, 16, 17, 18, 19],\n",
       "          [15, 16, 17, 18, 19, 20],\n",
       "          [16, 17, 18, 19, 20, 21],\n",
       "          [17, 18, 19, 20, 21, 22]]]))"
      ]
     },
     "execution_count": 16,
     "metadata": {},
     "output_type": "execute_result"
    }
   ],
   "source": [
    "x = torch.arange(12).reshape(2, 6, 1)\n",
    "y = torch.arange(12).reshape(2, 1, 6)\n",
    "x, y, x + y"
   ]
  },
  {
   "cell_type": "code",
   "execution_count": 17,
   "id": "fbbbf27f",
   "metadata": {},
   "outputs": [
    {
     "data": {
      "text/plain": [
       "(tensor([[ 0.,  1.,  2.,  3.],\n",
       "         [ 4.,  5.,  6.,  7.],\n",
       "         [ 8.,  9., 10., 11.]]),\n",
       " tensor([[ 0.,  4.,  8.],\n",
       "         [ 1.,  5.,  9.],\n",
       "         [ 2.,  6., 10.],\n",
       "         [ 3.,  7., 11.]]))"
      ]
     },
     "execution_count": 17,
     "metadata": {},
     "output_type": "execute_result"
    }
   ],
   "source": [
    "x = torch.arange(12, dtype = torch.float32).reshape(3, 4)\n",
    "x, x.T"
   ]
  },
  {
   "cell_type": "code",
   "execution_count": 18,
   "id": "32cb7c80",
   "metadata": {},
   "outputs": [
    {
     "data": {
      "text/plain": [
       "(tensor(66.),\n",
       " tensor([[12., 15., 18., 21.]]),\n",
       " tensor([ 6., 22., 38.]),\n",
       " torch.Size([4]))"
      ]
     },
     "execution_count": 18,
     "metadata": {},
     "output_type": "execute_result"
    }
   ],
   "source": [
    "x.sum(), x.sum(dim = 0, keepdims = True), x.sum(dim = 1), x.sum(dim = 0).shape"
   ]
  },
  {
   "cell_type": "code",
   "execution_count": 15,
   "id": "720f16f1",
   "metadata": {},
   "outputs": [
    {
     "data": {
      "text/plain": [
       "(array([[1.5],\n",
       "        [5.5],\n",
       "        [9.5]], dtype=float32),\n",
       " tensor(5.5000))"
      ]
     },
     "execution_count": 15,
     "metadata": {},
     "output_type": "execute_result"
    }
   ],
   "source": [
    "x.mean(dim = 1, keepdims = True).numpy(), x.sum() / x.numel()"
   ]
  },
  {
   "cell_type": "code",
   "execution_count": 19,
   "id": "3b9fc40b",
   "metadata": {},
   "outputs": [
    {
     "data": {
      "text/plain": [
       "tensor([[14.],\n",
       "        [38.],\n",
       "        [62.]])"
      ]
     },
     "execution_count": 19,
     "metadata": {},
     "output_type": "execute_result"
    }
   ],
   "source": [
    "b = torch.arange(4, dtype = torch.float32).reshape(4, 1)\n",
    "torch.mm(x, b)"
   ]
  },
  {
   "cell_type": "code",
   "execution_count": 20,
   "id": "a10ed050",
   "metadata": {},
   "outputs": [
    {
     "data": {
      "text/plain": [
       "(tensor([1., 3.]), tensor([2., 5.]), tensor(3.1623))"
      ]
     },
     "execution_count": 20,
     "metadata": {},
     "output_type": "execute_result"
    }
   ],
   "source": [
    "a = torch.tensor([1, 3], dtype = torch.float32)\n",
    "b = torch.tensor([2, 5], dtype = torch.float32)\n",
    "a, b, torch.norm(a)"
   ]
  },
  {
   "cell_type": "code",
   "execution_count": 21,
   "id": "feb5056e",
   "metadata": {},
   "outputs": [
    {
     "data": {
      "text/plain": [
       "(tensor([[True, True, True, True],\n",
       "         [True, True, True, True],\n",
       "         [True, True, True, True]]),\n",
       " tensor([[True, True, True],\n",
       "         [True, True, True],\n",
       "         [True, True, True],\n",
       "         [True, True, True]]),\n",
       " 3,\n",
       " tensor([[0.0000, 0.0667, 0.1111, 0.1429],\n",
       "         [0.3333, 0.3333, 0.3333, 0.3333],\n",
       "         [0.6667, 0.6000, 0.5556, 0.5238]]))"
      ]
     },
     "execution_count": 21,
     "metadata": {},
     "output_type": "execute_result"
    }
   ],
   "source": [
    "x.T.T == x, x.T + x.T == (x + x).T, len(x), x / x.sum(dim = 0)"
   ]
  },
  {
   "cell_type": "code",
   "execution_count": 22,
   "id": "095cc548",
   "metadata": {},
   "outputs": [
    {
     "data": {
      "text/plain": [
       "(tensor([[[ 0.,  1.,  2.,  3.],\n",
       "          [ 4.,  5.,  6.,  7.],\n",
       "          [ 8.,  9., 10., 11.]],\n",
       " \n",
       "         [[12., 13., 14., 15.],\n",
       "          [16., 17., 18., 19.],\n",
       "          [20., 21., 22., 23.]]]),\n",
       " tensor([[12., 14., 16., 18.],\n",
       "         [20., 22., 24., 26.],\n",
       "         [28., 30., 32., 34.]]),\n",
       " tensor([[12., 15., 18., 21.],\n",
       "         [48., 51., 54., 57.]]),\n",
       " tensor([[ 6., 22., 38.],\n",
       "         [54., 70., 86.]]),\n",
       " tensor(65.7571))"
      ]
     },
     "execution_count": 22,
     "metadata": {},
     "output_type": "execute_result"
    }
   ],
   "source": [
    "a = torch.arange(24, dtype = torch.float32).reshape(2, 3, 4)\n",
    "a, a.sum(dim = 0), a.sum(dim = 1), a.sum(dim = 2), torch.norm(a)"
   ]
  },
  {
   "cell_type": "code",
   "execution_count": 26,
   "id": "1349d40b",
   "metadata": {},
   "outputs": [
    {
     "data": {
      "text/plain": [
       "(tensor(27.), tensor(3.))"
      ]
     },
     "execution_count": 26,
     "metadata": {},
     "output_type": "execute_result"
    }
   ],
   "source": [
    "import torch.autograd as autograd\n",
    "\n",
    "x = torch.tensor(3, dtype = torch.float32, requires_grad = True)\n",
    "y = x * x\n",
    "y.retain_grad()\n",
    "z = y * x + 2\n",
    "z.backward(retain_graph = True)\n",
    "x.grad, y.grad"
   ]
  },
  {
   "cell_type": "code",
   "execution_count": 27,
   "id": "dde41333",
   "metadata": {},
   "outputs": [
    {
     "name": "stdout",
     "output_type": "stream",
     "text": [
      "tensor(108.)\n"
     ]
    },
    {
     "data": {
      "text/plain": [
       "tensor(108.)"
      ]
     },
     "execution_count": 27,
     "metadata": {},
     "output_type": "execute_result"
    }
   ],
   "source": [
    "x.grad.zero_()\n",
    "z = y * x * x\n",
    "z.backward()\n",
    "with torch.no_grad():\n",
    "    print(x.grad)\n",
    "x.grad"
   ]
  },
  {
   "cell_type": "code",
   "execution_count": 22,
   "id": "2b0c795d",
   "metadata": {},
   "outputs": [],
   "source": [
    "torch.ones??"
   ]
  },
  {
   "cell_type": "code",
   "execution_count": 23,
   "id": "4c79cd84",
   "metadata": {},
   "outputs": [
    {
     "data": {
      "text/plain": [
       "[3, 1, 0, 2, 4]"
      ]
     },
     "execution_count": 23,
     "metadata": {},
     "output_type": "execute_result"
    }
   ],
   "source": [
    "import random\n",
    "a = list(range(5))\n",
    "random.shuffle(a)\n",
    "a"
   ]
  },
  {
   "cell_type": "code",
   "execution_count": 24,
   "id": "eff75f57",
   "metadata": {},
   "outputs": [
    {
     "data": {
      "text/plain": [
       "tensor(1)"
      ]
     },
     "execution_count": 24,
     "metadata": {},
     "output_type": "execute_result"
    }
   ],
   "source": [
    "torch.matmul(torch.arange(2), torch.arange(2))"
   ]
  },
  {
   "cell_type": "code",
   "execution_count": 25,
   "id": "59ac4588",
   "metadata": {},
   "outputs": [
    {
     "data": {
      "text/plain": [
       "(2,\n",
       " tensor([[ 3.],\n",
       "         [12.]]),\n",
       " torch.Size([2, 1]),\n",
       " tensor([0., 1., 2., 3., 4., 5.]))"
      ]
     },
     "execution_count": 25,
     "metadata": {},
     "output_type": "execute_result"
    }
   ],
   "source": [
    "a = torch.arange(6, dtype = torch.float32).reshape(2, 3)\n",
    "b = a.sum(dim = 1, keepdim = True)\n",
    "b.numel(), b, b.shape, a.reshape(a.numel())"
   ]
  },
  {
   "cell_type": "markdown",
   "id": "7a34e042",
   "metadata": {},
   "source": [
    "## 2 ReLU函数"
   ]
  },
  {
   "cell_type": "code",
   "execution_count": 32,
   "id": "876baf3e",
   "metadata": {},
   "outputs": [
    {
     "name": "stderr",
     "output_type": "stream",
     "text": [
      "C:\\Users\\CCU6\\AppData\\Local\\Temp\\ipykernel_9200\\1001333661.py:5: MatplotlibDeprecationWarning: Auto-removal of overlapping axes is deprecated since 3.6 and will be removed two minor releases later; explicitly call ax.remove() as needed.\n",
      "  ax1 = plt.subplot2grid((1, 2), (0, 0), colspan=1, rowspan=1)\n",
      "C:\\Users\\CCU6\\AppData\\Local\\Temp\\ipykernel_9200\\1001333661.py:7: MatplotlibDeprecationWarning: Auto-removal of overlapping axes is deprecated since 3.6 and will be removed two minor releases later; explicitly call ax.remove() as needed.\n",
      "  ax2 = plt.subplot2grid((1, 2), (0, 1), colspan=1, rowspan=1)\n"
     ]
    },
    {
     "data": {
      "application/vnd.jupyter.widget-view+json": {
       "model_id": "48f2f383186b4492b06eaddca8b3ac3b",
       "version_major": 2,
       "version_minor": 0
      },
      "image/png": "[encoded data removed]",
      "text/html": [
       "\n",
       "            <div style=\"display: inline-block;\">\n",
       "                <div class=\"jupyter-widgets widget-label\" style=\"text-align: center;\">\n",
       "                    Figure 1\n",
       "                </div>\n",
       "                <img src='data:image/png;base64,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' width=500.0/>\n",
       "            </div>\n",
       "        "
      ],
      "text/plain": [
       "Canvas(toolbar=Toolbar(toolitems=[('Home', 'Reset original view', 'home', 'home'), ('Back', 'Back to previous …"
      ]
     },
     "metadata": {},
     "output_type": "display_data"
    }
   ],
   "source": [
    "x = torch.arange(-8, 8, 0.1, requires_grad = True)\n",
    "y = torch.relu(x)\n",
    "y.backward(torch.ones_like(x))\n",
    "plt.figure(num = 1, figsize=(5, 5))\n",
    "ax1 = plt.subplot2grid((1, 2), (0, 0), colspan=1, rowspan=1)\n",
    "ax1.plot(x.detach(), y.detach())\n",
    "ax2 = plt.subplot2grid((1, 2), (0, 1), colspan=1, rowspan=1)\n",
    "ax2.plot(x.detach(), x.grad)\n",
    "plt.show()"
   ]
  },
  {
   "cell_type": "markdown",
   "id": "5e3388d9",
   "metadata": {},
   "source": [
    "## 3 sigmoid函数"
   ]
  },
  {
   "cell_type": "code",
   "execution_count": 41,
   "id": "2ffa0d18",
   "metadata": {},
   "outputs": [
    {
     "data": {
      "text/plain": [
       "tensor([[ 0.9248,  2.1536],\n",
       "        [ 0.2577,  0.1653],\n",
       "        [-0.2304, -1.4511]], requires_grad=True)"
      ]
     },
     "execution_count": 41,
     "metadata": {},
     "output_type": "execute_result"
    }
   ],
   "source": [
    "torch.randn(3, 2, requires_grad = True)"
   ]
  },
  {
   "cell_type": "code",
   "execution_count": 3,
   "id": "314c7ec8",
   "metadata": {},
   "outputs": [
    {
     "data": {
      "text/plain": [
       "(tensor([[ 1.,  2.,  3.,  4.],\n",
       "         [ 5.,  6.,  7.,  8.],\n",
       "         [ 9., 10., 11., 12.]]),\n",
       " tensor([[ 0,  1,  2,  3],\n",
       "         [ 4,  5,  6,  7],\n",
       "         [ 8,  9, 10, 11]]),\n",
       " tensor([1., 1., 1., 1.]))"
      ]
     },
     "execution_count": 3,
     "metadata": {},
     "output_type": "execute_result"
    }
   ],
   "source": [
    "a = torch.arange(12).reshape(3 ,4)\n",
    "b = torch.ones(4)\n",
    "a + b, a ,b"
   ]
  },
  {
   "cell_type": "code",
   "execution_count": 21,
   "id": "231ace7d",
   "metadata": {},
   "outputs": [
    {
     "name": "stdout",
     "output_type": "stream",
     "text": [
      "Sat Oct 19 11:22:07 2024       \n",
      "+-----------------------------------------------------------------------------------------+\n",
      "| NVIDIA-SMI 560.94                 Driver Version: 560.94         CUDA Version: 12.6     |\n",
      "|-----------------------------------------+------------------------+----------------------+\n",
      "| GPU  Name                  Driver-Model | Bus-Id          Disp.A | Volatile Uncorr. ECC |\n",
      "| Fan  Temp   Perf          Pwr:Usage/Cap |           Memory-Usage | GPU-Util  Compute M. |\n",
      "|                                         |                        |               MIG M. |\n",
      "|=========================================+========================+======================|\n",
      "|   0  NVIDIA GeForce GTX 1060 6GB  WDDM  |   00000000:01:00.0  On |                  N/A |\n",
      "|  0%   55C    P8              7W /  120W |     637MiB /   6144MiB |      2%      Default |\n",
      "|                                         |                        |                  N/A |\n",
      "+-----------------------------------------+------------------------+----------------------+\n",
      "                                                                                         \n",
      "+-----------------------------------------------------------------------------------------+\n",
      "| Processes:                                                                              |\n",
      "|  GPU   GI   CI        PID   Type   Process name                              GPU Memory |\n",
      "|        ID   ID                                                               Usage      |\n",
      "|=========================================================================================|\n",
      "|    0   N/A  N/A      6308    C+G   ...ekyb3d8bbwe\\PhoneExperienceHost.exe      N/A      |\n",
      "|    0   N/A  N/A      6476    C+G   C:\\Windows\\explorer.exe                     N/A      |\n",
      "|    0   N/A  N/A      7820      C   ...aconda3\\envs\\pytorch_gpu\\python.exe      N/A      |\n",
      "|    0   N/A  N/A      8020    C+G   ...nt.CBS_cw5n1h2txyewy\\SearchHost.exe      N/A      |\n",
      "|    0   N/A  N/A      8356    C+G   ...5n1h2txyewy\\ShellExperienceHost.exe      N/A      |\n",
      "|    0   N/A  N/A     10464    C+G   ...CBS_cw5n1h2txyewy\\TextInputHost.exe      N/A      |\n",
      "|    0   N/A  N/A     12892    C+G   ...2txyewy\\StartMenuExperienceHost.exe      N/A      |\n",
      "|    0   N/A  N/A     14856    C+G   ...crosoft\\Edge\\Application\\msedge.exe      N/A      |\n",
      "+-----------------------------------------------------------------------------------------+\n"
     ]
    }
   ],
   "source": [
    "!nvidia-smi"
   ]
  },
  {
   "cell_type": "code",
   "execution_count": 16,
   "id": "cc211b5d",
   "metadata": {},
   "outputs": [
    {
     "data": {
      "text/plain": [
       "(device(type='cpu'), device(type='cuda'), device(type='cuda', index=0))"
      ]
     },
     "execution_count": 16,
     "metadata": {},
     "output_type": "execute_result"
    }
   ],
   "source": [
    "torch.device('cpu'), torch.device('cuda'), torch.device(f'cuda:{0}')"
   ]
  },
  {
   "cell_type": "code",
   "execution_count": 8,
   "id": "83410fed",
   "metadata": {},
   "outputs": [
    {
     "data": {
      "text/plain": [
       "1"
      ]
     },
     "execution_count": 8,
     "metadata": {},
     "output_type": "execute_result"
    }
   ],
   "source": [
    "torch.cuda.device_count()"
   ]
  },
  {
   "cell_type": "code",
   "execution_count": 31,
   "id": "41c4e737",
   "metadata": {},
   "outputs": [
    {
     "ename": "TypeError",
     "evalue": "'module' object is not callable",
     "output_type": "error",
     "traceback": [
      "\u001b[1;31m---------------------------------------------------------------------------\u001b[0m",
      "\u001b[1;31mTypeError\u001b[0m                                 Traceback (most recent call last)",
      "Cell \u001b[1;32mIn[31], line 1\u001b[0m\n\u001b[1;32m----> 1\u001b[0m x \u001b[38;5;241m=\u001b[39m torch\u001b[38;5;241m.\u001b[39mtensor(\u001b[38;5;241m2\u001b[39m, device \u001b[38;5;241m=\u001b[39m \u001b[43mtorch\u001b[49m\u001b[38;5;241;43m.\u001b[39;49m\u001b[43mcuda\u001b[49m\u001b[43m(\u001b[49m\u001b[38;5;241;43m0\u001b[39;49m\u001b[43m)\u001b[49m)\n\u001b[0;32m      2\u001b[0m x\u001b[38;5;241m.\u001b[39mdevice, x\u001b[38;5;241m.\u001b[39mcuda\n",
      "\u001b[1;31mTypeError\u001b[0m: 'module' object is not callable"
     ]
    }
   ],
   "source": [
    "x = torch.tensor(2)\n",
    "x.device, x.cuda"
   ]
  },
  {
   "cell_type": "code",
   "execution_count": 24,
   "id": "4090fc40",
   "metadata": {},
   "outputs": [
    {
     "data": {
      "text/plain": [
       "tensor(2, device='cuda:0')"
      ]
     },
     "execution_count": 24,
     "metadata": {},
     "output_type": "execute_result"
    }
   ],
   "source": [
    "y = torch.tensor(2, device = torch.device('cuda'))\n",
    "y"
   ]
  },
  {
   "cell_type": "code",
   "execution_count": 25,
   "id": "b3c049b3",
   "metadata": {},
   "outputs": [
    {
     "data": {
      "text/plain": [
       "tensor(4, device='cuda:0')"
      ]
     },
     "execution_count": 25,
     "metadata": {},
     "output_type": "execute_result"
    }
   ],
   "source": [
    "x + y"
   ]
  },
  {
   "cell_type": "code",
   "execution_count": 7,
   "id": "77228c97",
   "metadata": {},
   "outputs": [
    {
     "name": "stdout",
     "output_type": "stream",
     "text": [
      "-2\n"
     ]
    }
   ],
   "source": [
    "print(f\"{2}\")"
   ]
  },
  {
   "cell_type": "code",
   "execution_count": null,
   "id": "3142f3ff",
   "metadata": {},
   "outputs": [],
   "source": []
  }
 ],
 "metadata": {
  "kernelspec": {
   "display_name": "pytorch_gpu",
   "language": "python",
   "name": "python3"
  },
  "language_info": {
   "codemirror_mode": {
    "name": "ipython",
    "version": 3
   },
   "file_extension": ".py",
   "mimetype": "text/x-python",
   "name": "python",
   "nbconvert_exporter": "python",
   "pygments_lexer": "ipython3",
   "version": "3.8.19"
  }
 },
 "nbformat": 4,
 "nbformat_minor": 5
}
