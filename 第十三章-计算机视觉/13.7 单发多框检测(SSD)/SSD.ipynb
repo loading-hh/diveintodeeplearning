{
 "cells": [
  {
   "cell_type": "markdown",
   "id": "af97617b",
   "metadata": {},
   "source": [
    "# SSD\n",
    "- 运用ssd算法的思想构建一个自己的ssd目标检测模型,自己构建的算法流程图如下所示.\n",
    "<img src=\"流程图.png\" width=\"1000\" height=\"1000\">"
   ]
  },
  {
   "cell_type": "markdown",
   "id": "0d7ed82a",
   "metadata": {},
   "source": [
    "## 1 加载相关库"
   ]
  },
  {
   "cell_type": "code",
   "execution_count": 1,
   "id": "89343449",
   "metadata": {},
   "outputs": [],
   "source": [
    "import numpy as np\n",
    "import pandas as pd\n",
    "import torch\n",
    "import torchvision\n",
    "from torch import nn\n",
    "from IPython import display\n",
    "from torch.nn import functional as F\n",
    "import matplotlib.pyplot as plt\n",
    "%matplotlib inline"
   ]
  },
  {
   "cell_type": "markdown",
   "id": "3cc13f45",
   "metadata": {},
   "source": [
    "## 加载相关函数"
   ]
  },
  {
   "cell_type": "markdown",
   "id": "66d6ee60",
   "metadata": {},
   "source": [
    "### 画图函数"
   ]
  },
  {
   "cell_type": "code",
   "execution_count": 2,
   "id": "8c445c33",
   "metadata": {},
   "outputs": [],
   "source": [
    "def plot_image(num, i, train_loss_his, val_loss_his, train_his_acc, val_his_acc):\n",
    "    plt.figure(num = num)\n",
    "    plt.ion()\n",
    "    plt.cla()\n",
    "    ax1 = plt.subplot2grid((1, 2), (0, 0), colspan=1, rowspan=1)\n",
    "    ax1.set_xlim((0, num_epochs))\n",
    "    #ax1.set_ylim(0, 1.6)\n",
    "    ax1.plot(range(i + 1), train_loss_his, label='train_loss')\n",
    "    ax1.plot(range(i + 1), val_loss_his, label='val_loss')\n",
    "    ax1.grid()\n",
    "    ax1.legend()\n",
    "    ax2 = plt.subplot2grid((1, 2), (0, 1), colspan=1, rowspan=1)\n",
    "    ax2.set_xlim(0, num_epochs)\n",
    "    ax2.set_ylim(0, 1)\n",
    "    ax2.plot(range(i + 1), train_his_acc, label='train_accuracy')\n",
    "    ax2.plot(range(i + 1), val_his_acc, label='val_accuracy')\n",
    "    ax2.grid()\n",
    "    ax2.legend()\n",
    "    display.clear_output(wait=True)\n",
    "    plt.pause(0.0000001)\n",
    "    plt.ioff()\n",
    "    plt.show()"
   ]
  },
  {
   "cell_type": "markdown",
   "id": "7e8a73db",
   "metadata": {},
   "source": [
    "### 由特征图的大小在原图生成default boxes"
   ]
  },
  {
   "cell_type": "code",
   "execution_count": 3,
   "id": "73b7f248",
   "metadata": {},
   "outputs": [],
   "source": [
    "def multibox_prior(feature_data, scale, ratio, origin_w = 256, origin_h = 256):\n",
    "    \"\"\"\n",
    "    竖直方向为x,横着方向为y.\n",
    "    feature_data为输入的数据,每个位置生成锚框,通道数没有用到,批量也没有用到,因为同一批量输入进来的数据的尺寸和通道数都是一样的,\n",
    "    而此函数是将特征映射图的每个位置映射到原图(锚框中心点不一定是整数),然后按scale和ratio的值生成锚框.所以输入数据在这个计算中\n",
    "    的锚框只计算一次即可.\n",
    "    input:\n",
    "        feature_data:输入的特征映射图\n",
    "        scale:是缩放比，是得出的锚框面积占原图像的多少\n",
    "        ratio:宽高比，生成的锚框的宽高比\n",
    "        origin_w:原图像的宽\n",
    "        origin_h:原图像的高\n",
    "    output:\n",
    "        返回锚框，（批量大小，锚框数量，每个锚框坐标（四个值））,是左上角坐标(x,y)和右下角坐标(x,y).\n",
    "        同一个位置的锚框是挨着的.每一行代表一个锚框.位置是从左到右,从上到下.是z型的.\n",
    "        锚框的坐标值都进行了归一化.\n",
    "    \"\"\"\n",
    "    ##输入特征图的高宽\n",
    "    in_height, in_width = feature_data.shape[-2], feature_data.shape[-1]\n",
    "    device, num_scale, num_ratio = feature_data.device, len(scale), len(ratio)\n",
    "    boxes_per_pixel = (num_scale + num_ratio - 1)\n",
    "    scale_tensor = torch.tensor(scale, device = device)\n",
    "    ratio_tensor = torch.tensor(ratio, device = device)\n",
    "    \n",
    "    #生成所有锚框中心点,因为将原图的长宽都归一化了,所以步长要为1/特征图的高或宽(因为这里的特征图的高宽一样)\n",
    "    ##先生成特征图的每个像素的中心(加0.5就是为了中心),然后再除以特征图的高宽,将中心点归一化.\n",
    "    center_x_all = (torch.arange(in_height, device = device) + 0.5) / in_height\n",
    "    center_y_all = (torch.arange(in_width, device = device) + 0.5) / in_width\n",
    "    center_x, center_y = torch.meshgrid(center_x_all, center_y_all, indexing = 'ij')\n",
    "    center_x, center_y = center_x.reshape(-1), center_y.reshape(-1)  #转为一维向量，对应xy构成中心点坐标。\n",
    "    \n",
    "    ##生成每个锚框的宽和高，是由缩放比和宽高比计算得到的。\n",
    "    ##w和h是先scale乘ratio第一个元素，再计算scale第一个元素乘ratio除了第一个元素的其他元素。用torch.cat来合到一维上。这个是无所谓的,\n",
    "    ##在这里是因为生成少一点的default boxes.\n",
    "    w = torch.cat((torch.sqrt(scale_tensor * ratio_tensor[0]), torch.sqrt(scale_tensor[0] * ratio_tensor[1:])))\n",
    "    h = torch.cat((torch.sqrt(scale_tensor / ratio_tensor[0]), torch.sqrt(scale_tensor[0] / ratio_tensor[1:])))\n",
    "    \n",
    "    ##宽高除以2来得到宽高的一半，以便通过中心点快速找到每个锚框右上角和右下加.\n",
    "    ##每个像素有boxes_per_pixel边框，故重复in_height * in_width像素次数。\n",
    "    anchor_manipulations = torch.stack((-w, -h, w, h), dim = 1).repeat(in_height * in_width, 1) / 2\n",
    "    \n",
    "    ##每个中心点有boxes_per_pixel锚框\n",
    "    ##有in_height * in_width个像素，每个像素有boxes_per_pixel边框。\n",
    "    out_grid = torch.stack((center_x, center_y, center_x, center_y), dim = 1).repeat_interleave(boxes_per_pixel, dim=0)\n",
    "    ##得到每个像素的boxes_per_pixel个锚框\n",
    "    output = (out_grid + anchor_manipulations).unsqueeze(0)\n",
    "    \n",
    "    return output"
   ]
  },
  {
   "cell_type": "code",
   "execution_count": 4,
   "id": "badb0710",
   "metadata": {
    "scrolled": true
   },
   "outputs": [
    {
     "data": {
      "text/plain": [
       "(torch.Size([1, 45, 4]),\n",
       " tensor([[[-0.2663, -0.2663,  0.5997,  0.5997],\n",
       "          [-0.1869, -0.1869,  0.5202,  0.5202],\n",
       "          [-0.0833, -0.0833,  0.4167,  0.4167],\n",
       "          [-0.4457, -0.1395,  0.7790,  0.4729],\n",
       "          [-0.1395, -0.4457,  0.4729,  0.7790],\n",
       "          [-0.2663,  0.0670,  0.5997,  0.9330],\n",
       "          [-0.1869,  0.1464,  0.5202,  0.8536],\n",
       "          [-0.0833,  0.2500,  0.4167,  0.7500],\n",
       "          [-0.4457,  0.1938,  0.7790,  0.8062],\n",
       "          [-0.1395, -0.1124,  0.4729,  1.1124],\n",
       "          [-0.2663,  0.4003,  0.5997,  1.2663],\n",
       "          [-0.1869,  0.4798,  0.5202,  1.1869],\n",
       "          [-0.0833,  0.5833,  0.4167,  1.0833],\n",
       "          [-0.4457,  0.5271,  0.7790,  1.1395],\n",
       "          [-0.1395,  0.2210,  0.4729,  1.4457],\n",
       "          [ 0.0670, -0.2663,  0.9330,  0.5997],\n",
       "          [ 0.1464, -0.1869,  0.8536,  0.5202],\n",
       "          [ 0.2500, -0.0833,  0.7500,  0.4167],\n",
       "          [-0.1124, -0.1395,  1.1124,  0.4729],\n",
       "          [ 0.1938, -0.4457,  0.8062,  0.7790],\n",
       "          [ 0.0670,  0.0670,  0.9330,  0.9330],\n",
       "          [ 0.1464,  0.1464,  0.8536,  0.8536],\n",
       "          [ 0.2500,  0.2500,  0.7500,  0.7500],\n",
       "          [-0.1124,  0.1938,  1.1124,  0.8062],\n",
       "          [ 0.1938, -0.1124,  0.8062,  1.1124],\n",
       "          [ 0.0670,  0.4003,  0.9330,  1.2663],\n",
       "          [ 0.1464,  0.4798,  0.8536,  1.1869],\n",
       "          [ 0.2500,  0.5833,  0.7500,  1.0833],\n",
       "          [-0.1124,  0.5271,  1.1124,  1.1395],\n",
       "          [ 0.1938,  0.2210,  0.8062,  1.4457],\n",
       "          [ 0.4003, -0.2663,  1.2663,  0.5997],\n",
       "          [ 0.4798, -0.1869,  1.1869,  0.5202],\n",
       "          [ 0.5833, -0.0833,  1.0833,  0.4167],\n",
       "          [ 0.2210, -0.1395,  1.4457,  0.4729],\n",
       "          [ 0.5271, -0.4457,  1.1395,  0.7790],\n",
       "          [ 0.4003,  0.0670,  1.2663,  0.9330],\n",
       "          [ 0.4798,  0.1464,  1.1869,  0.8536],\n",
       "          [ 0.5833,  0.2500,  1.0833,  0.7500],\n",
       "          [ 0.2210,  0.1938,  1.4457,  0.8062],\n",
       "          [ 0.5271, -0.1124,  1.1395,  1.1124],\n",
       "          [ 0.4003,  0.4003,  1.2663,  1.2663],\n",
       "          [ 0.4798,  0.4798,  1.1869,  1.1869],\n",
       "          [ 0.5833,  0.5833,  1.0833,  1.0833],\n",
       "          [ 0.2210,  0.5271,  1.4457,  1.1395],\n",
       "          [ 0.5271,  0.2210,  1.1395,  1.4457]]]))"
      ]
     },
     "execution_count": 4,
     "metadata": {},
     "output_type": "execute_result"
    }
   ],
   "source": [
    "x = torch.rand((1, 3 ,3, 3))\n",
    "y = multibox_prior(x, scale = [0.75, 0.5, 0.25], ratio = [1, 2, 0.5])\n",
    "y.shape, y"
   ]
  },
  {
   "cell_type": "code",
   "execution_count": 5,
   "id": "b52b3de6",
   "metadata": {},
   "outputs": [],
   "source": [
    "def box_iou(boxes1, boxes2):\n",
    "    \"\"\"\n",
    "    input:\n",
    "        boxes1:输入的第一组锚框(n, 4)n是有多少个锚框,4是锚框的左上角和左下角的四个值先x后y.\n",
    "        boxes2:输入的第二组锚框(n, 4)n是有多少个锚框,4是锚框的左上角和左下角的四个值先x后y.\n",
    "    output:\n",
    "        返回n个锚框的交并比.输出的每一行是boxes1的每一个锚框与boxes2的每个锚框的交并比.\n",
    "    \"\"\"\n",
    "    def box_area(boxes):\n",
    "        area = (boxes[:, 2] - boxes[:, 0]) * (boxes[:, 3] - boxes[:, 1])\n",
    "        return area\n",
    "    area1 = box_area(boxes1)\n",
    "    area2 = box_area(boxes2)\n",
    "    \n",
    "    #注意:是boxes1与boxes2中的每个锚框都要计算交并比,并不是只计算对应行的锚框的交并比.这个要进行注意\n",
    "    #找输入锚框boxes1和boxes2的左上角的最大的坐标,计算交并比.用了广播机制.\n",
    "    inter_upperleft = torch.max(boxes1[:, :2].unsqueeze(dim = 1), boxes2[:, :2])\n",
    "    #找输入锚框boxes1和boxes2的右下角的最小坐标.用了广播机制.\n",
    "    inter_lowerright = torch.min(boxes1[:, 2:].unsqueeze(dim = 1), boxes2[:, 2:])\n",
    "    #clamp(min = 0)是因为有些锚框是没有相交的,这样算的值都是负的.\n",
    "    inter = (inter_lowerright - inter_upperleft).clamp(min = 0)\n",
    "    \n",
    "    #相交区域\n",
    "    inter_area = inter[:, :, 0] * inter[:, :, 1]\n",
    "    #相并区域,union_area行是boxes1的锚框,列是boxes1中每个锚框与boxes2中每个锚框相并区域,用了广播机制.\n",
    "    union_area = area1.unsqueeze(dim = 1) + area2 - inter_area\n",
    "    \n",
    "    return inter_area / union_area"
   ]
  },
  {
   "cell_type": "code",
   "execution_count": 6,
   "id": "c4844eb0",
   "metadata": {
    "scrolled": false
   },
   "outputs": [
    {
     "data": {
      "text/plain": [
       "(tensor([[0.3333, 0.5469, 0.5469],\n",
       "         [0.5000, 0.5300, 0.5300],\n",
       "         [1.0000, 0.3333, 0.3333]]),\n",
       " tensor([[-0.2663, -0.2663,  0.5997,  0.5997],\n",
       "         [-0.1869, -0.1869,  0.5202,  0.5202],\n",
       "         [-0.0833, -0.0833,  0.4167,  0.4167]]),\n",
       " tensor([[-0.0833, -0.0833,  0.4167,  0.4167],\n",
       "         [-0.4457, -0.1395,  0.7790,  0.4729],\n",
       "         [-0.1395, -0.4457,  0.4729,  0.7790]]))"
      ]
     },
     "execution_count": 6,
     "metadata": {},
     "output_type": "execute_result"
    }
   ],
   "source": [
    "x1, x2 = y[0, 0:3], y[0, 2:5]\n",
    "box_iou(x1, x2), x1, x2"
   ]
  },
  {
   "cell_type": "code",
   "execution_count": 7,
   "id": "2c4ae580",
   "metadata": {},
   "outputs": [],
   "source": [
    "##(正样本个数,4)4是左上角与右下角坐标, (负样本个数,4)4是左上角与右下角坐标, (正样本个数, 4)4是预测的偏移量.\n",
    "def assign_anchor_to_bbox(ground_truth, anchors, device, iou_threshold = 0.5):\n",
    "    \"\"\"\n",
    "    将最接近的真实边界框分配给锚框,构建的iou矩阵,每行是每个anchor与每个真实框的iou.先通过阈值分配,再找最值分配(这个更重要),这样可以加快速度.\n",
    "    input:\n",
    "        ground_truth:二维张量,真实边界框,是自己标注的边界框.(真实边界框个数,4)是一张输入图片中有几个真实边界框,4是左上角与右下角坐标.\n",
    "        anchors:二维张量,输入图片在每个特征映射图上生成的所有边界框.是一张图片生成的所以边界框.(锚框个数,4)是一张图片生成的所有边界框,4是左上角与右下角坐标.\n",
    "        device:数据在gpu还是cpu上\n",
    "        iou_threshold:每个真实边界框都有锚框后,为了补充正样本,通过阈值找到与真实边界框iou超过阈值的锚框.\n",
    "    output:\n",
    "        anchors_bbox_map:一维张量,返回锚框分配给真实框的索引.返回一个一维张量(锚框个数,)值为整数是真实框的索引,-1为没有分配给真实框的锚框\n",
    "    \"\"\"\n",
    "    ##得到输入锚框与真实框的个数.\n",
    "    num_anchors, num_gt_boxes = anchors.shape[0], ground_truth.shape[0]\n",
    "    ##计算锚框与真实框的iou,每一行是每一个锚框与所有真实框的iou\n",
    "    jaccard = box_iou(anchors, ground_truth)\n",
    "    #print(f\"jaccard:{jaccard}\")\n",
    "    ##对于每个锚框，分配的真实边界框的张量,初始值均分配为-1，表示未分配真实边界框，长度为num_anchors,即锚框数量\n",
    "    ##数据类型是torch.long是因为真实框的个数可能有很多.\n",
    "    anchors_bbox_map = torch.full((num_anchors, ), -1, dtype = torch.long, device = device)\n",
    "    ##找到iou矩阵中每一行的最大值与索引\n",
    "    max_ious, index = torch.max(jaccard, dim = 1)\n",
    "    #print(f\"max_ious:{max_ious} \\n index:{index}\")\n",
    "    ##找到锚框大于阈值的锚框的索引\n",
    "    anc_i = torch.nonzero(max_ious >= iou_threshold).reshape(-1)\n",
    "    ##找到锚框大于阈值时应该分配的真实框索引\n",
    "    box_j = index[max_ious >= iou_threshold]\n",
    "    #print(f\"anc_i:{anc_i} \\n box_j:{box_j}\")\n",
    "    ##先通过阈值分配真实框\n",
    "    anchors_bbox_map[anc_i] = box_j\n",
    "    \n",
    "    ##找最值来分配真实框\n",
    "    col_replace = torch.full((num_anchors,), -1, dtype = torch.long, device = device)\n",
    "    row_replace = torch.full((num_gt_boxes,), -1, dtype = torch.long, device = device)\n",
    "    for _ in range(num_gt_boxes):\n",
    "        index = torch.argmax(jaccard)\n",
    "        anc_ind = (index / num_gt_boxes).long()\n",
    "        GTb_ind = (index % num_gt_boxes).long()\n",
    "        anchors_bbox_map[anc_ind] = GTb_ind\n",
    "        jaccard[anc_ind] = row_replace\n",
    "        jaccard[:, GTb_ind] = col_replace\n",
    "    \n",
    "    return anchors_bbox_map"
   ]
  },
  {
   "cell_type": "code",
   "execution_count": 10,
   "id": "b9fe4830",
   "metadata": {},
   "outputs": [
    {
     "data": {
      "text/plain": [
       "tensor([1, 2, 0])"
      ]
     },
     "execution_count": 10,
     "metadata": {},
     "output_type": "execute_result"
    }
   ],
   "source": [
    "ground_truth = torch.tensor([[10, 10, 20, 20], [15, 15, 30, 30], [20, 20, 40, 40]], device='cpu')\n",
    "anchors = torch.tensor([[5, 5, 40, 40], [15, 15, 45, 45], [30, 30, 70, 70]], device='cpu')\n",
    "assign_anchor_to_bbox(ground_truth, anchors, torch.device(\"cpu\"))"
   ]
  },
  {
   "cell_type": "code",
   "execution_count": 11,
   "id": "707fe10f",
   "metadata": {},
   "outputs": [],
   "source": [
    "def offset_boxes(anchors, assigned_bb, eps=1e-6):\n",
    "    \"\"\"\n",
    "    对锚框偏移量的转换,anchors与assigned_bb的框的个数都是相同的,第几个anchors就对应分配的真实框在第几个assigned_bb\n",
    "    input:\n",
    "        anchors:锚框.二维张量,(所有的锚框,4)是一张输入图片所有的锚框,\n",
    "                4是左上角与右下角坐标.已分配真实框的锚框.\n",
    "        assigned_bb:二维张量.(锚框个数,4)是一张图片标注的所有真实框,4是左上角与右下角坐标.行值全为0的值对应的行数的锚框没有分配真实边界框\n",
    "        eps:是防止被除数与除数太小导致除法时出现问题.\n",
    "    output:\n",
    "        offset:返回锚框分配给真实框的偏移量.返回一个二维张量(锚框个数, 4)，经过别的函数处理，没有被分配真实框的锚框的四个值才是全为0.\n",
    "    \"\"\"\n",
    "    def box_corner_to_center(boxes):\n",
    "        x1, y1, x2, y2 = boxes[:, 0], boxes[:, 1], boxes[:, 2], boxes[:, 3]\n",
    "        cx = (x1 + x2) / 2\n",
    "        cy = (y1 + y2) / 2\n",
    "        w = x2 - x1\n",
    "        h = y2 - y1\n",
    "        boxes = torch.stack((cx, cy, w, h), dim = -1)\n",
    "        return boxes\n",
    "    c_anc = box_corner_to_center(anchors)\n",
    "    c_assigned_bb = box_corner_to_center(assigned_bb)\n",
    "    offset_xy = (c_assigned_bb[:, :2] - c_anc[:, :2]) / c_anc[:, 2:]\n",
    "    offset_wh = torch.log(eps + c_assigned_bb[:, 2:] / c_anc[:, 2:])\n",
    "    offset = torch.cat([offset_xy, offset_wh], axis=1)\n",
    "    return offset"
   ]
  },
  {
   "cell_type": "code",
   "execution_count": 12,
   "id": "300b42e1",
   "metadata": {},
   "outputs": [
    {
     "data": {
      "text/plain": [
       "tensor([[ 0.0000,  0.0000, -0.5108, -0.5108],\n",
       "        [-0.0333, -0.0333, -0.2231, -0.2231]])"
      ]
     },
     "execution_count": 12,
     "metadata": {},
     "output_type": "execute_result"
    }
   ],
   "source": [
    "anchors = torch.tensor([[10, 10, 20, 20], [15, 15, 30, 30]])\n",
    "assigned_bb = torch.tensor([[12, 12, 18, 18], [16, 16, 28, 28]])\n",
    "offset_boxes(anchors, assigned_bb)"
   ]
  },
  {
   "cell_type": "code",
   "execution_count": 13,
   "id": "d784c15f",
   "metadata": {},
   "outputs": [],
   "source": [
    "def multibox_target(anchors, labels):\n",
    "    \"\"\"\n",
    "    此函数将背景类别的索引设置为零,然后将新类别的整数索引递增1\n",
    "    input:\n",
    "        anchors:所有锚框的集合，形状为（batch_size, num_gt_boxes, 4），其中最后一维4代表[x1, y1, x2, y2]。\n",
    "        labels:包含真实边界框和类别标签的张量，形状为(batch_size, num_gt_boxes, 5)，其中最后一维5代表[class_label, x1, y1, x2, y2]。\n",
    "    output:\n",
    "        bbox_offset:包含了为每个锚框标记的四个偏移值。 请注意，负类锚框的偏移量被标记为零。是二维数组\n",
    "        bbox_mask:掩码（mask）变量，形状为（批量大小，锚框数的四倍）。掩码变量中的元素与每个锚框的4个偏移量一一对应。\n",
    "                    掩码变量中的零将在计算目标函数之前过滤掉负类偏移量。不是背景则值是1。\n",
    "        class_labels:标记的锚框的类别，0是背景，原类别数加1。\n",
    "    \"\"\"\n",
    "    ##所有输入的图像的anchor都是一样\n",
    "    batch_size, anchors = labels.shape[0], anchors.squeeze(0)\n",
    "    batch_offset, batch_mask, batch_class_labels  = [], [], []\n",
    "    device, num_anchors = anchors.device, anchors.shape[0]\n",
    "    for i in range(batch_size):\n",
    "        label = labels[i, :, :]\n",
    "        anchors_bbox_map = assign_anchor_to_bbox(label[:, 1:], anchors, device)\n",
    "        bbox_mask = (anchors_bbox_map >= 0).float().unsqueeze(1).repeat(1, 4)\n",
    "        ##将类标签和分配的边界框坐标初始化为零，每个值代表每个锚框。\n",
    "        class_label = torch.zeros(num_anchors, dtype = torch.long, device=device)\n",
    "        assigned_bb = torch.zeros((num_anchors, 4), dtype = torch.float32, device=device)\n",
    "        ##使用真实边界框来标记锚框的类别。如果一个锚框没有被分配，标记其为背景（值为零）\n",
    "        ##分配有真实框的锚框的索引\n",
    "        indices_true  = torch.nonzero(anchors_bbox_map >= 0)\n",
    "        ##得到锚框所分配的真实框的索引\n",
    "        bb_idx = anchors_bbox_map[indices_true]\n",
    "        ##将分配有真实框的锚框的类别标注为真实框的类别数加1，0代表背景。\n",
    "        \"\"\"print(label[bb_idx[0]])\n",
    "        print(anchors[0])\"\"\"\n",
    "        class_label[indices_true] = label[bb_idx, 0].long() + 1\n",
    "        assigned_bb[indices_true] = label[bb_idx, 1:].float()\n",
    "        #print(assigned_bb)\n",
    "        ##偏移量转换\n",
    "        offset = offset_boxes(anchors, assigned_bb) * bbox_mask\n",
    "        \n",
    "        ##放到一起\n",
    "        batch_offset.append(offset.reshape(-1))\n",
    "        batch_mask.append(bbox_mask.reshape(-1))\n",
    "        batch_class_labels.append(class_label)\n",
    "        \n",
    "    bbox_offset = torch.stack(batch_offset)\n",
    "    bbox_mask = torch.stack(batch_mask)\n",
    "    class_labels = torch.stack(batch_class_labels)\n",
    "    return (bbox_offset, bbox_mask, class_labels)"
   ]
  },
  {
   "cell_type": "code",
   "execution_count": 14,
   "id": "ad173a35",
   "metadata": {
    "scrolled": true
   },
   "outputs": [
    {
     "data": {
      "text/plain": [
       "(tensor([[ 0.0000e+00,  0.0000e+00,  9.5367e-07,  9.5367e-07,  0.0000e+00,\n",
       "           0.0000e+00,  9.5367e-07,  9.5367e-07, -0.0000e+00, -0.0000e+00,\n",
       "          -0.0000e+00, -0.0000e+00, -0.0000e+00, -0.0000e+00, -0.0000e+00,\n",
       "          -0.0000e+00, -0.0000e+00, -0.0000e+00, -0.0000e+00, -0.0000e+00,\n",
       "          -0.0000e+00, -0.0000e+00, -0.0000e+00, -0.0000e+00, -0.0000e+00,\n",
       "          -0.0000e+00, -0.0000e+00, -0.0000e+00, -0.0000e+00, -0.0000e+00,\n",
       "          -0.0000e+00, -0.0000e+00, -0.0000e+00, -0.0000e+00, -0.0000e+00,\n",
       "          -0.0000e+00],\n",
       "         [ 0.0000e+00,  0.0000e+00, -5.1082e-01, -5.1082e-01, -3.3333e-02,\n",
       "          -3.3333e-02, -2.2314e-01, -2.2314e-01, -0.0000e+00, -0.0000e+00,\n",
       "          -0.0000e+00, -0.0000e+00, -0.0000e+00, -0.0000e+00, -0.0000e+00,\n",
       "          -0.0000e+00, -0.0000e+00, -0.0000e+00, -0.0000e+00, -0.0000e+00,\n",
       "          -0.0000e+00, -0.0000e+00, -0.0000e+00, -0.0000e+00, -0.0000e+00,\n",
       "          -0.0000e+00, -0.0000e+00, -0.0000e+00, -0.0000e+00, -0.0000e+00,\n",
       "          -0.0000e+00, -0.0000e+00, -0.0000e+00, -0.0000e+00, -0.0000e+00,\n",
       "          -0.0000e+00]]),\n",
       " tensor([[1., 1., 1., 1., 1., 1., 1., 1., 0., 0., 0., 0., 0., 0., 0., 0., 0., 0.,\n",
       "          0., 0., 0., 0., 0., 0., 0., 0., 0., 0., 0., 0., 0., 0., 0., 0., 0., 0.],\n",
       "         [1., 1., 1., 1., 1., 1., 1., 1., 0., 0., 0., 0., 0., 0., 0., 0., 0., 0.,\n",
       "          0., 0., 0., 0., 0., 0., 0., 0., 0., 0., 0., 0., 0., 0., 0., 0., 0., 0.]]),\n",
       " tensor([[1, 2, 0, 0, 0, 0, 0, 0, 0],\n",
       "         [2, 3, 0, 0, 0, 0, 0, 0, 0]]))"
      ]
     },
     "execution_count": 14,
     "metadata": {},
     "output_type": "execute_result"
    }
   ],
   "source": [
    "labels = torch.tensor([\n",
    "    [[1, 15, 15, 30, 30], [0, 10, 10, 20, 20]],  # 第一个批量的类别标签和边界框\n",
    "    [[1, 12, 12, 18, 18], [2, 16, 16, 28, 28]]   # 第二个批量的类别标签和边界框\n",
    "])\n",
    "# 假设我们有9个锚框\n",
    "anchors = torch.tensor([\n",
    "    [10, 10, 20, 20], [15, 15, 30, 30], [20, 20, 40, 40],\n",
    "    [25, 25, 45, 45], [30, 30, 50, 50], [35, 35, 55, 55],\n",
    "    [40, 40, 60, 60], [45, 45, 65, 65], [50, 50, 70, 70]\n",
    "])\n",
    "multibox_target(anchors, labels)"
   ]
  },
  {
   "cell_type": "markdown",
   "id": "adcb2d05",
   "metadata": {},
   "source": [
    "## 2 前向传播"
   ]
  },
  {
   "cell_type": "markdown",
   "id": "39bb418f",
   "metadata": {},
   "source": [
    "### 2.1 基础网络块\n",
    "- 用的预训练好的ResNet的前6层网络。"
   ]
  },
  {
   "cell_type": "code",
   "execution_count": 15,
   "id": "41299edd",
   "metadata": {
    "scrolled": true
   },
   "outputs": [
    {
     "data": {
      "text/plain": [
       "Sequential(\n",
       "  (0): Conv2d(3, 64, kernel_size=(7, 7), stride=(2, 2), padding=(3, 3), bias=False)\n",
       "  (1): BatchNorm2d(64, eps=1e-05, momentum=0.1, affine=True, track_running_stats=True)\n",
       "  (2): ReLU(inplace=True)\n",
       "  (3): MaxPool2d(kernel_size=3, stride=2, padding=1, dilation=1, ceil_mode=False)\n",
       "  (4): Sequential(\n",
       "    (0): BasicBlock(\n",
       "      (conv1): Conv2d(64, 64, kernel_size=(3, 3), stride=(1, 1), padding=(1, 1), bias=False)\n",
       "      (bn1): BatchNorm2d(64, eps=1e-05, momentum=0.1, affine=True, track_running_stats=True)\n",
       "      (relu): ReLU(inplace=True)\n",
       "      (conv2): Conv2d(64, 64, kernel_size=(3, 3), stride=(1, 1), padding=(1, 1), bias=False)\n",
       "      (bn2): BatchNorm2d(64, eps=1e-05, momentum=0.1, affine=True, track_running_stats=True)\n",
       "    )\n",
       "    (1): BasicBlock(\n",
       "      (conv1): Conv2d(64, 64, kernel_size=(3, 3), stride=(1, 1), padding=(1, 1), bias=False)\n",
       "      (bn1): BatchNorm2d(64, eps=1e-05, momentum=0.1, affine=True, track_running_stats=True)\n",
       "      (relu): ReLU(inplace=True)\n",
       "      (conv2): Conv2d(64, 64, kernel_size=(3, 3), stride=(1, 1), padding=(1, 1), bias=False)\n",
       "      (bn2): BatchNorm2d(64, eps=1e-05, momentum=0.1, affine=True, track_running_stats=True)\n",
       "    )\n",
       "  )\n",
       "  (5): Sequential(\n",
       "    (0): BasicBlock(\n",
       "      (conv1): Conv2d(64, 128, kernel_size=(3, 3), stride=(2, 2), padding=(1, 1), bias=False)\n",
       "      (bn1): BatchNorm2d(128, eps=1e-05, momentum=0.1, affine=True, track_running_stats=True)\n",
       "      (relu): ReLU(inplace=True)\n",
       "      (conv2): Conv2d(128, 128, kernel_size=(3, 3), stride=(1, 1), padding=(1, 1), bias=False)\n",
       "      (bn2): BatchNorm2d(128, eps=1e-05, momentum=0.1, affine=True, track_running_stats=True)\n",
       "      (downsample): Sequential(\n",
       "        (0): Conv2d(64, 128, kernel_size=(1, 1), stride=(2, 2), bias=False)\n",
       "        (1): BatchNorm2d(128, eps=1e-05, momentum=0.1, affine=True, track_running_stats=True)\n",
       "      )\n",
       "    )\n",
       "    (1): BasicBlock(\n",
       "      (conv1): Conv2d(128, 128, kernel_size=(3, 3), stride=(1, 1), padding=(1, 1), bias=False)\n",
       "      (bn1): BatchNorm2d(128, eps=1e-05, momentum=0.1, affine=True, track_running_stats=True)\n",
       "      (relu): ReLU(inplace=True)\n",
       "      (conv2): Conv2d(128, 128, kernel_size=(3, 3), stride=(1, 1), padding=(1, 1), bias=False)\n",
       "      (bn2): BatchNorm2d(128, eps=1e-05, momentum=0.1, affine=True, track_running_stats=True)\n",
       "    )\n",
       "  )\n",
       ")"
      ]
     },
     "execution_count": 15,
     "metadata": {},
     "output_type": "execute_result"
    }
   ],
   "source": [
    "net = torchvision.models.resnet18(weights = torchvision.models.ResNet18_Weights.DEFAULT)\n",
    "base_net = nn.Sequential(*list(net.children())[:6])\n",
    "base_net"
   ]
  },
  {
   "cell_type": "code",
   "execution_count": 16,
   "id": "dd9e6da6",
   "metadata": {
    "scrolled": true
   },
   "outputs": [
    {
     "name": "stdout",
     "output_type": "stream",
     "text": [
      "Conv2d output_shape:\t torch.Size([2, 64, 128, 128])\n",
      "BatchNorm2d output_shape:\t torch.Size([2, 64, 128, 128])\n",
      "ReLU output_shape:\t torch.Size([2, 64, 128, 128])\n",
      "MaxPool2d output_shape:\t torch.Size([2, 64, 64, 64])\n",
      "Sequential output_shape:\t torch.Size([2, 64, 64, 64])\n",
      "Sequential output_shape:\t torch.Size([2, 128, 32, 32])\n"
     ]
    }
   ],
   "source": [
    "x = torch.ones((2, 3, 256, 256))\n",
    "for layer in base_net:\n",
    "    x = layer(x)\n",
    "    print(layer.__class__.__name__, \"output_shape:\\t\", x.shape)"
   ]
  },
  {
   "cell_type": "markdown",
   "id": "044cc031",
   "metadata": {},
   "source": [
    "### 2.2 多尺度特征块"
   ]
  },
  {
   "cell_type": "code",
   "execution_count": 17,
   "id": "dd61a4ea",
   "metadata": {},
   "outputs": [],
   "source": [
    "def dowm_sample_block(in_channels, out_channels):\n",
    "    blk = []\n",
    "    for _ in range(2):\n",
    "        blk.append(nn.Conv2d(in_channels = in_channels, out_channels = out_channels, kernel_size = 3, padding = 1))\n",
    "        blk.append(nn.BatchNorm2d(out_channels))\n",
    "        blk.append(nn.ReLU())\n",
    "        in_channels = out_channels\n",
    "    blk.append(nn.MaxPool2d(kernel_size = 2, stride = 2, padding = 0))\n",
    "    \n",
    "    return nn.Sequential(*blk)"
   ]
  },
  {
   "cell_type": "code",
   "execution_count": 18,
   "id": "5c8af69a",
   "metadata": {},
   "outputs": [
    {
     "name": "stdout",
     "output_type": "stream",
     "text": [
      "Conv2d output_shape:\t torch.Size([2, 128, 8, 8])\n",
      "BatchNorm2d output_shape:\t torch.Size([2, 128, 8, 8])\n",
      "ReLU output_shape:\t torch.Size([2, 128, 8, 8])\n",
      "Conv2d output_shape:\t torch.Size([2, 128, 8, 8])\n",
      "BatchNorm2d output_shape:\t torch.Size([2, 128, 8, 8])\n",
      "ReLU output_shape:\t torch.Size([2, 128, 8, 8])\n",
      "MaxPool2d output_shape:\t torch.Size([2, 128, 4, 4])\n"
     ]
    }
   ],
   "source": [
    "x = torch.ones((2, 128, 8, 8))\n",
    "for layer in dowm_sample_block(128, 128):\n",
    "    x = layer(x)\n",
    "    print(layer.__class__.__name__, \"output_shape:\\t\", x.shape)"
   ]
  },
  {
   "cell_type": "markdown",
   "id": "f35ae383",
   "metadata": {},
   "source": [
    "### 2.3 完整模型"
   ]
  },
  {
   "cell_type": "code",
   "execution_count": 19,
   "id": "f16f4a7a",
   "metadata": {},
   "outputs": [],
   "source": [
    "def get_block(i):\n",
    "    if i == 0:\n",
    "        blk = base_net\n",
    "    elif i == 4:\n",
    "        blk = nn.AdaptiveMaxPool2d((1, 1))\n",
    "    else:\n",
    "        blk = dowm_sample_block(128, 128)\n",
    "    \n",
    "    return blk"
   ]
  },
  {
   "cell_type": "markdown",
   "id": "aa74b310",
   "metadata": {},
   "source": [
    "### 2.4 类别预测\n",
    "- SSD是用卷积层进行预测,输出的所有通道的每个位置为预测不同类别的概率."
   ]
  },
  {
   "cell_type": "code",
   "execution_count": 20,
   "id": "26b7965e",
   "metadata": {},
   "outputs": [],
   "source": [
    "def cls_predict(num_input, num_anchors, num_classes):\n",
    "    \"\"\"\n",
    "    输出的东西并没有说在特征映射图中每个位置的通道对应的值是同一个边框类别在一块,还是边框一组在一块.这个并不用在意,\n",
    "    因为这个对应的值是当我们训练的时候训练集中的东西是怎么放的,最后的输出值是怎么放的.\n",
    "    \"\"\"\n",
    "    return nn.Conv2d(in_channels = num_input, out_channels = num_anchors * (num_classes + 1), kernel_size = 3, padding = 1)"
   ]
  },
  {
   "cell_type": "markdown",
   "id": "0aeaeb30",
   "metadata": {},
   "source": [
    "### 2.5 边界框预测\n",
    "- 就是预测边界框的偏移量(offset)"
   ]
  },
  {
   "cell_type": "code",
   "execution_count": 21,
   "id": "8991dcfc",
   "metadata": {},
   "outputs": [],
   "source": [
    "def bbox_predict(num_input, num_anchors):\n",
    "    \"\"\"\n",
    "    输出的东西并没有说在特征映射图中每个位置的通道对应的值是同一个边框类别在一块,还是边框一组在一块.这个并不用在意,\n",
    "    因为这个对应的值是当我们训练的时候训练集中的东西是怎么放的,最后的输出值是怎么放的.\n",
    "    \"\"\"\n",
    "    return nn.Conv2d(in_channels = num_input, out_channels = num_anchors * 4, kernel_size = 3, padding = 1)"
   ]
  },
  {
   "cell_type": "markdown",
   "id": "55afe682",
   "metadata": {},
   "source": [
    "- 为了将数据展平融合"
   ]
  },
  {
   "cell_type": "code",
   "execution_count": 22,
   "id": "0d33f256",
   "metadata": {},
   "outputs": [],
   "source": [
    "def concat_preds1(preds):\n",
    "    \"\"\"\n",
    "    为了融合数据变为同一个位置的锚框的预测值挨着，相邻位置也挨着，在特征映射图上行与行是z字形连接。\n",
    "    \"\"\"\n",
    "    loca_preds = []\n",
    "    for i in range(len(preds)):\n",
    "        loca_preds.append(torch.flatten(preds[i].permute(0, 2, 3, 1), start_dim=1))\n",
    "    preds = torch.cat(loca_preds, dim = 1)\n",
    "    \n",
    "    return preds"
   ]
  },
  {
   "cell_type": "markdown",
   "id": "6c5942b0",
   "metadata": {},
   "source": [
    "### 2.6 前向传播"
   ]
  },
  {
   "cell_type": "code",
   "execution_count": 23,
   "id": "bbf84c83",
   "metadata": {},
   "outputs": [],
   "source": [
    "def blk_forward(X, blk, scale, ratio, cls_predict, bbox_predict):\n",
    "    \"\"\"\n",
    "    输出的是每个块的输出特征映射图,特征映射图对应的锚框,基于特征映射图的类别预测,基于特征映射图的边界框偏移量的预测.\n",
    "    \"\"\"\n",
    "    Y = blk(X)\n",
    "    anchors = multibox_prior(Y, scale, ratio)\n",
    "    cls_preds = cls_predict(Y)\n",
    "    bbox_preds = bbox_predict(Y)\n",
    "    \n",
    "    return Y, anchors, cls_preds, bbox_preds"
   ]
  },
  {
   "cell_type": "markdown",
   "id": "db55ddd9",
   "metadata": {},
   "source": [
    "### 2.7 SSD模型"
   ]
  },
  {
   "cell_type": "code",
   "execution_count": 24,
   "id": "38a98a56",
   "metadata": {},
   "outputs": [],
   "source": [
    "scales = [[0.2, 0.272], [0.37, 0.447], [0.54, 0.619], [0.71, 0.79], [0.88, 0.961]]\n",
    "ratios = [[1, 2, 0.5]] * 5\n",
    "num_anchors = len(scales[0]) + len(ratios[0]) - 1"
   ]
  },
  {
   "cell_type": "code",
   "execution_count": 25,
   "id": "fa9f2167",
   "metadata": {},
   "outputs": [],
   "source": [
    "class TinySSD(nn.Module):\n",
    "    def __init__(self, num_anchors, num_classes, **kwargs):\n",
    "        super().__init__(**kwargs)\n",
    "        self.num_classes = num_classes\n",
    "        self.num_anchors = num_anchors\n",
    "        idx_input_channels = [128, 128, 128, 128, 128]\n",
    "        self.blk_ = get_block(0)\n",
    "        self.cls_ = cls_predict(idx_input_channels[0], self.num_anchors, self.num_classes)\n",
    "        self.bbox_ = bbox_predict(idx_input_channels[0], self.num_anchors)\n",
    "        \"\"\"for i in range(5): ##是因为整个SSD网络有五部分\n",
    "            setattr(self, f\"blk_{i}\", get_block(i))\n",
    "            setattr(self, f\"cls_{i}\", cls_predict(idx_input_channels[i], self.num_anchors, self.num_classes))\n",
    "            setattr(self, f\"bbox_{i}\", bbox_predict(idx_input_channels[i], self.num_anchors))\"\"\"\n",
    "    \n",
    "    def forward(self, X):\n",
    "        self.batch_size = len(X)\n",
    "        anchors, cls_preds, bbox_preds = [],  [],  []\n",
    "        \"\"\"for i in range(5):\n",
    "            X, anchors[i], cls_preds[i], bbox_preds[i] = blk_forward(X, getattr(self, f\"blk_{i}\"), scales[i], ratios[i], \n",
    "                                                                     getattr(self, f\"cls_{i}\"), getattr(self, f\"bbox_{i}\"))\n",
    "        anchors = torch.cat(anchors, dim=1)\n",
    "        cls_preds = concat_preds(cls_preds)\n",
    "        ##不用在意形状改变后类别是同一个锚框的预测类别挨着还是同一个类别预测值挨着,\n",
    "        ##这是因为具体哪种情况是由训练的时候我的训练集的东西是怎么放的.\n",
    "        cls_preds = cls_preds.reshape(cls_preds.shape[0], -1, self.num_classes + 1)\n",
    "        bbox_preds = concat_preds(bbox_preds)\"\"\"\n",
    "        Y, anchor, cls_pred, bbox_pred = blk_forward(X, self.blk_, scales[0], ratios[0], self.cls_, self.bbox_)\n",
    "        \n",
    "        anchors.append(anchor)\n",
    "        cls_preds.append(cls_pred)\n",
    "        bbox_preds.append(bbox_pred)\n",
    "        \n",
    "        anchors = torch.cat(anchors, dim = 1)\n",
    "        cls_preds = concat_preds1(cls_preds).reshape(self.batch_size, -1, self.num_classes + 1)\n",
    "        bbox_preds = concat_preds1(bbox_preds).reshape(self.batch_size, -1, self.num_anchors)\n",
    "        \n",
    "        return Y, anchors, cls_preds, bbox_preds"
   ]
  },
  {
   "cell_type": "code",
   "execution_count": 38,
   "id": "ecafa76e",
   "metadata": {
    "scrolled": true
   },
   "outputs": [],
   "source": [
    "net = TinySSD(num_anchors, 1)"
   ]
  },
  {
   "cell_type": "code",
   "execution_count": 27,
   "id": "ddcd6a53",
   "metadata": {},
   "outputs": [
    {
     "data": {
      "text/plain": [
       "(torch.Size([2, 128, 32, 32]),\n",
       " torch.Size([1, 4096, 4]),\n",
       " torch.Size([2, 4096, 2]),\n",
       " torch.Size([2, 4096, 4]))"
      ]
     },
     "execution_count": 27,
     "metadata": {},
     "output_type": "execute_result"
    }
   ],
   "source": [
    "x = torch.ones((2, 3, 256, 256))\n",
    "Y, anchors, cls_preds, bbox_preds = net(x)\n",
    "Y.shape, anchors.shape, cls_preds.shape, bbox_preds.shape"
   ]
  },
  {
   "cell_type": "code",
   "execution_count": 28,
   "id": "28a8e9de",
   "metadata": {
    "scrolled": true
   },
   "outputs": [
    {
     "data": {
      "text/plain": [
       "(tensor([[-0.2080, -0.2080,  0.2392,  0.2392],\n",
       "         [-0.2451, -0.2451,  0.2764,  0.2764],\n",
       "         [-0.3006, -0.1425,  0.3319,  0.1737],\n",
       "         [-0.1425, -0.3006,  0.1737,  0.3319]]),\n",
       " tensor([[ 0.5675, -0.1531],\n",
       "         [-0.4040, -0.3229],\n",
       "         [ 0.2022, -0.3864],\n",
       "         [ 0.1109,  0.3222],\n",
       "         [-0.0512, -0.2267],\n",
       "         [-0.4944,  0.1246],\n",
       "         [ 0.3375, -0.1504],\n",
       "         [ 0.3743,  0.7429]], grad_fn=<SliceBackward0>),\n",
       " tensor([[-0.6037, -0.1444,  0.4082, -0.4591],\n",
       "         [ 0.2632, -0.0634, -0.2583,  0.2985],\n",
       "         [-0.2412,  0.3440,  0.2798,  0.2658],\n",
       "         [-0.0413, -0.2419,  0.0119, -0.1481],\n",
       "         [-0.1401, -0.0223,  0.3051, -0.1466],\n",
       "         [-0.8708,  0.0743,  0.1341,  0.1062],\n",
       "         [-0.5684,  0.7054,  0.0756, -0.2449],\n",
       "         [-0.1126, -0.4281,  0.6010,  0.1057],\n",
       "         [-0.0811, -0.0665,  0.1183, -0.4917],\n",
       "         [-0.6865,  0.4111, -0.1646,  0.1088],\n",
       "         [ 0.1607,  0.2087,  0.4120, -0.1211],\n",
       "         [-0.3327, -0.2302,  0.2875, -0.0332],\n",
       "         [ 0.0021, -0.2039,  0.2445, -0.4784],\n",
       "         [-0.6012,  0.3636, -0.1506, -0.0810],\n",
       "         [-0.0542,  0.2026,  0.1900, -0.0370],\n",
       "         [-0.1789, -0.3240,  0.2066, -0.0330]], grad_fn=<SliceBackward0>))"
      ]
     },
     "execution_count": 28,
     "metadata": {},
     "output_type": "execute_result"
    }
   ],
   "source": [
    "anchors[0, 0:4], cls_preds[0, 0:8], bbox_preds[0, 0:16]"
   ]
  },
  {
   "cell_type": "code",
   "execution_count": 51,
   "id": "e92ef513",
   "metadata": {
    "scrolled": true
   },
   "outputs": [
    {
     "ename": "RuntimeError",
     "evalue": "The size of tensor a (4) must match the size of tensor b (2) at non-singleton dimension 3",
     "output_type": "error",
     "traceback": [
      "\u001b[1;31m---------------------------------------------------------------------------\u001b[0m",
      "\u001b[1;31mRuntimeError\u001b[0m                              Traceback (most recent call last)",
      "Cell \u001b[1;32mIn[51], line 3\u001b[0m\n\u001b[0;32m      1\u001b[0m x, y \u001b[38;5;241m=\u001b[39m all_data[\u001b[38;5;241m0\u001b[39m][\u001b[38;5;241m0\u001b[39m]\u001b[38;5;241m.\u001b[39munsqueeze(\u001b[38;5;241m0\u001b[39m), all_data[\u001b[38;5;241m0\u001b[39m][\u001b[38;5;241m1\u001b[39m]\n\u001b[0;32m      2\u001b[0m Y, anchors, cls_preds, bbox_preds \u001b[38;5;241m=\u001b[39m net(x)\n\u001b[1;32m----> 3\u001b[0m \u001b[43massign_anchor_to_bbox\u001b[49m\u001b[43m(\u001b[49m\u001b[43my\u001b[49m\u001b[43m[\u001b[49m\u001b[38;5;241;43m1\u001b[39;49m\u001b[43m:\u001b[49m\u001b[43m]\u001b[49m\u001b[38;5;241;43m.\u001b[39;49m\u001b[43munsqueeze\u001b[49m\u001b[43m(\u001b[49m\u001b[38;5;241;43m0\u001b[39;49m\u001b[43m)\u001b[49m\u001b[43m,\u001b[49m\u001b[43m \u001b[49m\u001b[43manchors\u001b[49m\u001b[43m,\u001b[49m\u001b[43m \u001b[49m\u001b[43manchors\u001b[49m\u001b[38;5;241;43m.\u001b[39;49m\u001b[43mdevice\u001b[49m\u001b[43m)\u001b[49m\n",
      "Cell \u001b[1;32mIn[7], line 16\u001b[0m, in \u001b[0;36massign_anchor_to_bbox\u001b[1;34m(ground_truth, anchors, device, iou_threshold)\u001b[0m\n\u001b[0;32m     14\u001b[0m num_anchors, num_gt_boxes \u001b[38;5;241m=\u001b[39m anchors\u001b[38;5;241m.\u001b[39mshape[\u001b[38;5;241m0\u001b[39m], ground_truth\u001b[38;5;241m.\u001b[39mshape[\u001b[38;5;241m0\u001b[39m]\n\u001b[0;32m     15\u001b[0m \u001b[38;5;66;03m##计算锚框与真实框的iou,每一行是每一个锚框与所有真实框的iou\u001b[39;00m\n\u001b[1;32m---> 16\u001b[0m jaccard \u001b[38;5;241m=\u001b[39m \u001b[43mbox_iou\u001b[49m\u001b[43m(\u001b[49m\u001b[43manchors\u001b[49m\u001b[43m,\u001b[49m\u001b[43m \u001b[49m\u001b[43mground_truth\u001b[49m\u001b[43m)\u001b[49m\n\u001b[0;32m     17\u001b[0m \u001b[38;5;66;03m#print(f\"jaccard:{jaccard}\")\u001b[39;00m\n\u001b[0;32m     18\u001b[0m \u001b[38;5;66;03m##对于每个锚框，分配的真实边界框的张量,初始值均分配为-1，表示未分配真实边界框，长度为num_anchors,即锚框数量\u001b[39;00m\n\u001b[0;32m     19\u001b[0m \u001b[38;5;66;03m##数据类型是torch.long是因为真实框的个数可能有很多.\u001b[39;00m\n\u001b[0;32m     20\u001b[0m anchors_bbox_map \u001b[38;5;241m=\u001b[39m torch\u001b[38;5;241m.\u001b[39mfull((num_anchors, ), \u001b[38;5;241m-\u001b[39m\u001b[38;5;241m1\u001b[39m, dtype \u001b[38;5;241m=\u001b[39m torch\u001b[38;5;241m.\u001b[39mlong, device \u001b[38;5;241m=\u001b[39m device)\n",
      "Cell \u001b[1;32mIn[5], line 17\u001b[0m, in \u001b[0;36mbox_iou\u001b[1;34m(boxes1, boxes2)\u001b[0m\n\u001b[0;32m     13\u001b[0m area2 \u001b[38;5;241m=\u001b[39m box_area(boxes2)\n\u001b[0;32m     15\u001b[0m \u001b[38;5;66;03m#注意:是boxes1与boxes2中的每个锚框都要计算交并比,并不是只计算对应行的锚框的交并比.这个要进行注意\u001b[39;00m\n\u001b[0;32m     16\u001b[0m \u001b[38;5;66;03m#找输入锚框boxes1和boxes2的左上角的最大的坐标,计算交并比.用了广播机制.\u001b[39;00m\n\u001b[1;32m---> 17\u001b[0m inter_upperleft \u001b[38;5;241m=\u001b[39m \u001b[43mtorch\u001b[49m\u001b[38;5;241;43m.\u001b[39;49m\u001b[43mmax\u001b[49m\u001b[43m(\u001b[49m\u001b[43mboxes1\u001b[49m\u001b[43m[\u001b[49m\u001b[43m:\u001b[49m\u001b[43m,\u001b[49m\u001b[43m \u001b[49m\u001b[43m:\u001b[49m\u001b[38;5;241;43m2\u001b[39;49m\u001b[43m]\u001b[49m\u001b[38;5;241;43m.\u001b[39;49m\u001b[43munsqueeze\u001b[49m\u001b[43m(\u001b[49m\u001b[43mdim\u001b[49m\u001b[43m \u001b[49m\u001b[38;5;241;43m=\u001b[39;49m\u001b[43m \u001b[49m\u001b[38;5;241;43m1\u001b[39;49m\u001b[43m)\u001b[49m\u001b[43m,\u001b[49m\u001b[43m \u001b[49m\u001b[43mboxes2\u001b[49m\u001b[43m[\u001b[49m\u001b[43m:\u001b[49m\u001b[43m,\u001b[49m\u001b[43m \u001b[49m\u001b[43m:\u001b[49m\u001b[38;5;241;43m2\u001b[39;49m\u001b[43m]\u001b[49m\u001b[43m)\u001b[49m\n\u001b[0;32m     18\u001b[0m \u001b[38;5;66;03m#找输入锚框boxes1和boxes2的右下角的最小坐标.用了广播机制.\u001b[39;00m\n\u001b[0;32m     19\u001b[0m inter_lowerright \u001b[38;5;241m=\u001b[39m torch\u001b[38;5;241m.\u001b[39mmin(boxes1[:, \u001b[38;5;241m2\u001b[39m:]\u001b[38;5;241m.\u001b[39munsqueeze(dim \u001b[38;5;241m=\u001b[39m \u001b[38;5;241m1\u001b[39m), boxes2[:, \u001b[38;5;241m2\u001b[39m:])\n",
      "\u001b[1;31mRuntimeError\u001b[0m: The size of tensor a (4) must match the size of tensor b (2) at non-singleton dimension 3"
     ]
    }
   ],
   "source": [
    "x, y = all_data[0][0].unsqueeze(0), all_data[0][1]\n",
    "Y, anchors, cls_preds, bbox_preds = net(x)\n",
    "assign_anchor_to_bbox(y[1:].unsqueeze(0), anchors, anchors.device)"
   ]
  },
  {
   "cell_type": "markdown",
   "id": "86be2e9c",
   "metadata": {},
   "source": [
    "## 3 训练模型"
   ]
  },
  {
   "cell_type": "markdown",
   "id": "107ef591",
   "metadata": {},
   "source": [
    "### 3.1 加载香蕉数据集"
   ]
  },
  {
   "cell_type": "code",
   "execution_count": 29,
   "id": "e2ccb62b",
   "metadata": {},
   "outputs": [],
   "source": [
    "path_train = \"C:/Users/CCU6/Desktop/数据集/banana-detection/banana-detection/bananas_train\"\n",
    "path_validtion = \"C:/Users/CCU6/Desktop/数据集/banana-detection/banana-detection/bananas_val\""
   ]
  },
  {
   "cell_type": "code",
   "execution_count": 30,
   "id": "4a2aa10e",
   "metadata": {},
   "outputs": [],
   "source": [
    "def read_banana_data(is_train = True, path_train = path_train, path_val = path_validtion):\n",
    "    if is_train:\n",
    "        image_path = path_train\n",
    "        csv_path = path_train + \"/label.csv\"\n",
    "        csv_data = pd.read_csv(csv_path)\n",
    "    else:\n",
    "        image_path = path_val\n",
    "        csv_path = path_val + \"/label.csv\"\n",
    "        csv_data = pd.read_csv(csv_path)\n",
    "    images, targets = [], []\n",
    "    for image_index, target in csv_data.iterrows():\n",
    "        images.append(torchvision.io.read_image(image_path + \"/images/\" + target[0]).float())\n",
    "        target[2:] = target[2:] / 256\n",
    "        targets.append(list(target[1:]))\n",
    "    \n",
    "    return images, torch.tensor(targets)"
   ]
  },
  {
   "cell_type": "code",
   "execution_count": 31,
   "id": "8b02618d",
   "metadata": {},
   "outputs": [
    {
     "data": {
      "text/plain": [
       "tensor([0.0000, 0.4062, 0.0781, 0.5586, 0.2266])"
      ]
     },
     "execution_count": 31,
     "metadata": {},
     "output_type": "execute_result"
    }
   ],
   "source": [
    "image, target = read_banana_data()\n",
    "target[0]"
   ]
  },
  {
   "cell_type": "code",
   "execution_count": 32,
   "id": "4b3f1dd4",
   "metadata": {},
   "outputs": [],
   "source": [
    "class MyDataset(torch.utils.data.Dataset):\n",
    "    def __init__(self, is_train = True, transforms = None):\n",
    "        super().__init__()\n",
    "        self.images, self.labels = read_banana_data(is_train = is_train)\n",
    "        \n",
    "    def __getitem__(self, index):\n",
    "        return self.images[index], self.labels[index]\n",
    "    \n",
    "    def __len__(self):\n",
    "        return len(self.images)"
   ]
  },
  {
   "cell_type": "code",
   "execution_count": 33,
   "id": "d8ab0355",
   "metadata": {
    "scrolled": true
   },
   "outputs": [
    {
     "data": {
      "text/plain": [
       "(1000,\n",
       " (tensor([[[217., 223., 220.,  ...,  28.,  15.,  28.],\n",
       "           [206., 207., 215.,  ...,  41.,  18.,  29.],\n",
       "           [191., 197., 210.,  ...,  54.,  28.,  18.],\n",
       "           ...,\n",
       "           [205., 211., 207.,  ...,  44.,  50.,  75.],\n",
       "           [201., 202., 203.,  ...,  50.,  55.,  69.],\n",
       "           [198., 195., 198.,  ...,  55.,  59.,  68.]],\n",
       "  \n",
       "          [[214., 220., 219.,  ...,  23.,  10.,  23.],\n",
       "           [203., 207., 214.,  ...,  36.,  13.,  24.],\n",
       "           [191., 197., 210.,  ...,  46.,  23.,  13.],\n",
       "           ...,\n",
       "           [202., 208., 204.,  ...,  45.,  52.,  77.],\n",
       "           [197., 199., 200.,  ...,  52.,  57.,  72.],\n",
       "           [194., 191., 195.,  ...,  57.,  61.,  71.]],\n",
       "  \n",
       "          [[241., 249., 250.,  ...,  19.,   4.,  17.],\n",
       "           [230., 233., 245.,  ...,  32.,   7.,  18.],\n",
       "           [215., 223., 238.,  ...,  43.,  17.,   7.],\n",
       "           ...,\n",
       "           [221., 225., 221.,  ...,  37.,  39.,  63.],\n",
       "           [214., 216., 217.,  ...,  41.,  43.,  55.],\n",
       "           [209., 206., 212.,  ...,  46.,  47.,  54.]]]),\n",
       "  tensor([0.0000, 0.4062, 0.0781, 0.5586, 0.2266])))"
      ]
     },
     "execution_count": 33,
     "metadata": {},
     "output_type": "execute_result"
    }
   ],
   "source": [
    "all_data = MyDataset(True)\n",
    "len(all_data), all_data[0]"
   ]
  },
  {
   "cell_type": "code",
   "execution_count": 31,
   "id": "bce0ea00",
   "metadata": {},
   "outputs": [
    {
     "data": {
      "text/plain": [
       "'train = torch.utils.data.DataLoader(MyDataset(True), batch_size = 128, shuffle = True, num_workers = 0)\\nval = torch.utils.data.DataLoader(MyDataset(False), batch_size = 128, shuffle = True, num_workers = 0)'"
      ]
     },
     "execution_count": 31,
     "metadata": {},
     "output_type": "execute_result"
    }
   ],
   "source": [
    "\"\"\"train = torch.utils.data.DataLoader(MyDataset(True), batch_size = 128, shuffle = True, num_workers = 0)\n",
    "val = torch.utils.data.DataLoader(MyDataset(False), batch_size = 128, shuffle = True, num_workers = 0)\"\"\""
   ]
  },
  {
   "cell_type": "markdown",
   "id": "efd40538",
   "metadata": {},
   "source": [
    "### 3.2 定义损失函数"
   ]
  },
  {
   "cell_type": "code",
   "execution_count": 32,
   "id": "babc0da8",
   "metadata": {},
   "outputs": [],
   "source": [
    "cls_loss = nn.CrossEntropyLoss(reduction='none')\n",
    "bbox_loss = nn.L1Loss(reduction='none')\n",
    "\n",
    "def calc_loss(cls_preds, cls_labels, bbox_preds, bbox_labels, bbox_masks, alpha = 1):\n",
    "    \"\"\"\n",
    "    输入分别是类别预测值,类别真实值,边界框偏移量预测值,边界框偏移量真实值,掩码变量.\n",
    "    \"\"\"\n",
    "    batch_size, num_classes = cls_preds.shape[0], cls_preds.shape[2]\n",
    "    cls = cls_loss(cls_preds.reshape(-1, num_classes),\n",
    "                   cls_labels.reshape(-1)).reshape(batch_size, -1).mean(dim=1)\n",
    "    bbox = bbox_loss(bbox_preds * bbox_masks, bbox_labels * bbox_masks).mean(dim=1)\n",
    "    return cls + alpha * bbox"
   ]
  },
  {
   "cell_type": "markdown",
   "id": "6cbdb3c2",
   "metadata": {},
   "source": [
    "### 3.3 评估标准"
   ]
  },
  {
   "cell_type": "code",
   "execution_count": 33,
   "id": "74b93387",
   "metadata": {},
   "outputs": [],
   "source": [
    "def cls_eval(cls_preds, cls_labels):\n",
    "    # 由于类别预测结果放在最后一维，argmax需要指定最后一维。\n",
    "    return float((cls_preds.argmax(dim=-1).type(cls_labels.dtype) == cls_labels).sum())\n",
    "\n",
    "def bbox_eval(bbox_preds, bbox_labels, bbox_masks):\n",
    "    return float((torch.abs((bbox_labels - bbox_preds) * bbox_masks)).sum())"
   ]
  },
  {
   "cell_type": "markdown",
   "id": "6d0e56f8",
   "metadata": {},
   "source": [
    "### 3.4 训练函数"
   ]
  },
  {
   "cell_type": "code",
   "execution_count": 34,
   "id": "49de1895",
   "metadata": {},
   "outputs": [],
   "source": [
    "def train(net, num_epochs, alpha, device, batch_size):\n",
    "    train_cls_his_acc = []\n",
    "    val_cls_his_acc = []\n",
    "    train_bbox_loss_his = []\n",
    "    val_bbox_loss_his = []\n",
    "    train = torch.utils.data.DataLoader(MyDataset(True), batch_size = batch_size, shuffle = True, num_workers = 0)\n",
    "    val = torch.utils.data.DataLoader(MyDataset(False), batch_size = batch_size, shuffle = True, num_workers = 0)\n",
    "    trainer = torch.optim.SGD(net.parameters(), lr = alpha, weight_decay = 5e-4)\n",
    "    net = net.to(device)\n",
    "    print(f\"train on: {device}\")\n",
    "    for i in range(num_epochs):\n",
    "        train_cls_acc = 0\n",
    "        train_bbox_loss = 0\n",
    "        net.train()\n",
    "        for image, target in train:\n",
    "            trainer.zero_grad()\n",
    "            X, Y = image.to(device), target.unsqueeze(1).to(device)\n",
    "            ##边界框，类别预测值(批量,锚框数,类别数带背景)，偏移量预测值(批量,锚框偏移量)\n",
    "            anchors, cls_preds, bbox_preds = net(X)\n",
    "            ##锚框与真实框偏移量(批量,锚框个数*4)，掩码(批量,锚框个数*4)，锚框类别(批量,锚框个数)\n",
    "            bbox_labels, bbox_masks, cls_labels = multibox_target(anchors, Y)\n",
    "            loss = calc_loss(cls_preds, cls_labels, bbox_preds, bbox_labels, bbox_masks)\n",
    "            loss.mean().backward()\n",
    "            trainer.step()\n",
    "            with torch.no_grad():\n",
    "                train_cls_acc = cls_eval(cls_preds, cls_labels) + train_cls_acc\n",
    "                train_bbox_loss = bbox_eval(bbox_preds, bbox_labels, bbox_masks) + train_bbox_loss\n",
    "        net.eval()\n",
    "        with torch.no_grad():\n",
    "            val_cls_acc = 0\n",
    "            val_bbox_loss = 0\n",
    "            for image, target in val:\n",
    "                X, Y = image.to(device), target.unsqueeze(1).to(device)\n",
    "                anchors, cls_preds, bbox_preds = net(X)\n",
    "                bbox_labels, bbox_masks, cls_labels = multibox_target(anchors, Y)\n",
    "                val_cls_acc = cls_eval(cls_preds, cls_labels) + val_cls_acc\n",
    "                val_bbox_loss = bbox_eval(bbox_preds, bbox_labels, bbox_masks) + val_bbox_loss\n",
    "        \n",
    "        train_cls_his_acc.append(train_cls_acc)\n",
    "        val_cls_his_acc.append(val_cls_acc)\n",
    "        train_bbox_loss_his.append(train_bbox_loss)\n",
    "        val_bbox_loss_his.append(val_bbox_loss)\n",
    "        plot_image(2, i, train_bbox_loss_his, val_bbox_loss_his, train_cls_his_acc, val_cls_his_acc)\n",
    "    #print(f\"train acc:{max(train_cls_his_acc)}, test acc:{max(val_cls_his_acc)}\")"
   ]
  },
  {
   "cell_type": "markdown",
   "id": "f535c171",
   "metadata": {},
   "source": [
    "### 3.5 训练"
   ]
  },
  {
   "cell_type": "code",
   "execution_count": 35,
   "id": "9173ce02",
   "metadata": {
    "scrolled": false
   },
   "outputs": [
    {
     "data": {
      "image/png": "[encoded data removed]",
      "text/plain": [
       "<Figure size 640x480 with 2 Axes>"
      ]
     },
     "metadata": {},
     "output_type": "display_data"
    },
    {
     "name": "stdout",
     "output_type": "stream",
     "text": [
      "train acc:5443000.0, test acc:544300.0\n"
     ]
    }
   ],
   "source": [
    "net = TinySSD(num_anchors, 1)\n",
    "device = torch.device(\"cuda:0\")\n",
    "num_epochs, alpha, batch_size = 50, 0.5, 32\n",
    "train(net, num_epochs, alpha, device, batch_size)"
   ]
  },
  {
   "cell_type": "markdown",
   "id": "b0362702",
   "metadata": {},
   "source": [
    "## 4 测试"
   ]
  },
  {
   "cell_type": "code",
   "execution_count": 36,
   "id": "264865f7",
   "metadata": {},
   "outputs": [],
   "source": [
    "X, Y = read_banana_data(False)"
   ]
  },
  {
   "cell_type": "code",
   "execution_count": 37,
   "id": "77752d9d",
   "metadata": {
    "scrolled": false
   },
   "outputs": [
    {
     "data": {
      "text/plain": [
       "(100,\n",
       " torch.Size([3, 256, 256]),\n",
       " torch.Size([100, 5]),\n",
       " tensor([[[36., 37., 38.,  ..., 18., 17., 17.],\n",
       "          [38., 38., 39.,  ..., 18., 18., 18.],\n",
       "          [38., 39., 40.,  ..., 19., 18., 18.],\n",
       "          ...,\n",
       "          [11.,  8.,  8.,  ...,  3.,  2.,  2.],\n",
       "          [10.,  8.,  7.,  ...,  3.,  2.,  2.],\n",
       "          [ 8.,  8.,  5.,  ...,  3.,  2.,  2.]],\n",
       " \n",
       "         [[30., 31., 31.,  ..., 21., 20., 20.],\n",
       "          [32., 32., 32.,  ..., 21., 21., 21.],\n",
       "          [32., 33., 34.,  ..., 22., 21., 21.],\n",
       "          ...,\n",
       "          [ 3.,  3.,  2.,  ...,  3.,  2.,  2.],\n",
       "          [ 4.,  4.,  3.,  ...,  3.,  2.,  2.],\n",
       "          [ 4.,  4.,  3.,  ...,  3.,  2.,  2.]],\n",
       " \n",
       "         [[34., 35., 38.,  ..., 26., 25., 25.],\n",
       "          [36., 36., 39.,  ..., 26., 26., 26.],\n",
       "          [36., 37., 38.,  ..., 27., 26., 26.],\n",
       "          ...,\n",
       "          [ 1.,  0.,  2.,  ...,  3.,  2.,  2.],\n",
       "          [ 4.,  3.,  4.,  ...,  3.,  2.,  2.],\n",
       "          [ 3.,  3.,  6.,  ...,  3.,  2.,  2.]]]),\n",
       " tensor([0.0000, 0.7148, 0.2461, 0.9414, 0.4375]))"
      ]
     },
     "execution_count": 37,
     "metadata": {},
     "output_type": "execute_result"
    }
   ],
   "source": [
    "len(X), X[0].shape, Y.shape, X[0], Y[0]"
   ]
  },
  {
   "cell_type": "code",
   "execution_count": null,
   "id": "5b0f1627",
   "metadata": {},
   "outputs": [],
   "source": []
  }
 ],
 "metadata": {
  "kernelspec": {
   "display_name": "Python 3 (ipykernel)",
   "language": "python",
   "name": "python3"
  },
  "language_info": {
   "codemirror_mode": {
    "name": "ipython",
    "version": 3
   },
   "file_extension": ".py",
   "mimetype": "text/x-python",
   "name": "python",
   "nbconvert_exporter": "python",
   "pygments_lexer": "ipython3",
   "version": "3.8.19"
  }
 },
 "nbformat": 4,
 "nbformat_minor": 5
}
