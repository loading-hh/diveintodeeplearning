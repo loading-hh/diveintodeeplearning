{
 "cells": [
  {
   "cell_type": "code",
   "execution_count": 1,
   "id": "4386f303",
   "metadata": {},
   "outputs": [],
   "source": [
    "import torch\n",
    "import numpy as np\n",
    "import matplotlib.pyplot as plt\n",
    "%matplotlib widget"
   ]
  },
  {
   "cell_type": "code",
   "execution_count": 18,
   "id": "0f18d87b",
   "metadata": {},
   "outputs": [],
   "source": [
    "def pool2d(X, pool_size, mode = \"max\"):\n",
    "    pool_h, pool_w = pool_size\n",
    "    Y = torch.zeros((X.shape[0] - pool_h + 1, X.shape[1] - pool_w + 1), dtype = torch.float32)\n",
    "    for i in range(Y.shape[0]):\n",
    "        for j in range(Y.shape[1]):\n",
    "            if mode == \"max\":\n",
    "                Y[i, j] = X[i:i + pool_h, j:j + pool_w].max()\n",
    "            elif mode == \"ave\":\n",
    "                Y[i, j] = X[i:i + pool_h, j:j + pool_w].mean()\n",
    "    return Y"
   ]
  },
  {
   "cell_type": "code",
   "execution_count": 19,
   "id": "28c6f26e",
   "metadata": {},
   "outputs": [
    {
     "data": {
      "text/plain": [
       "tensor([[4., 5.],\n",
       "        [7., 8.]])"
      ]
     },
     "execution_count": 19,
     "metadata": {},
     "output_type": "execute_result"
    }
   ],
   "source": [
    "x = torch.arange(9, dtype = torch.float32).reshape(3, 3)\n",
    "pool2d(x, (2, 2))"
   ]
  },
  {
   "cell_type": "code",
   "execution_count": 20,
   "id": "6611e45e",
   "metadata": {},
   "outputs": [
    {
     "data": {
      "text/plain": [
       "tensor([[2., 3.],\n",
       "        [5., 6.]])"
      ]
     },
     "execution_count": 20,
     "metadata": {},
     "output_type": "execute_result"
    }
   ],
   "source": [
    "pool2d(x, (2, 2), \"ave\")"
   ]
  }
 ],
 "metadata": {
  "kernelspec": {
   "display_name": "Python 3 (ipykernel)",
   "language": "python",
   "name": "python3"
  },
  "language_info": {
   "codemirror_mode": {
    "name": "ipython",
    "version": 3
   },
   "file_extension": ".py",
   "mimetype": "text/x-python",
   "name": "python",
   "nbconvert_exporter": "python",
   "pygments_lexer": "ipython3",
   "version": "3.8.19"
  }
 },
 "nbformat": 4,
 "nbformat_minor": 5
}
