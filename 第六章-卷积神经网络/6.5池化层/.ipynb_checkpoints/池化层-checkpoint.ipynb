{
 "cells": [
  {
   "cell_type": "code",
   "execution_count": 1,
   "id": "17cd1961",
   "metadata": {},
   "outputs": [],
   "source": [
    "import torch\n",
    "import numpy as np\n",
    "import matplotlib.pyplot as plt\n",
    "%matplotlib widget"
   ]
  },
  {
   "cell_type": "code",
   "execution_count": null,
   "id": "ef3307f1",
   "metadata": {},
   "outputs": [],
   "source": [
    "def pool2d(X, pool_size, mode = \"sum\"):\n",
    "    pool_h, pool_w = pool_size\n",
    "    Y = torch.zeros((X.shape[0] - pool_h + 1, X.shape[1] - pool_w + 1), dtype = torch.float32)\n",
    "    for i in range(Y.shape[0]):\n",
    "        for j in range(Y.shape[1]):\n",
    "            if mode == \"mode\":\n",
    "                Y[i:j] = X[i:i + pool_h, j:j + pool_w].max()\n",
    "            elif mode == \"ave\":\n",
    "                Y[i:j] = X[i:i + pool_h, j:j + pool_w].max()"
   ]
  }
 ],
 "metadata": {
  "kernelspec": {
   "display_name": "Python 3 (ipykernel)",
   "language": "python",
   "name": "python3"
  },
  "language_info": {
   "codemirror_mode": {
    "name": "ipython",
    "version": 3
   },
   "file_extension": ".py",
   "mimetype": "text/x-python",
   "name": "python",
   "nbconvert_exporter": "python",
   "pygments_lexer": "ipython3",
   "version": "3.8.19"
  }
 },
 "nbformat": 4,
 "nbformat_minor": 5
}
