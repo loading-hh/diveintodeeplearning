{
 "cells": [
  {
   "cell_type": "code",
   "execution_count": 1,
   "id": "70fb803f",
   "metadata": {},
   "outputs": [],
   "source": [
    "import torch\n",
    "import numpy as np\n",
    "import matplotlib.pyplot as plt\n",
    "%matplotlib widget"
   ]
  },
  {
   "cell_type": "code",
   "execution_count": 2,
   "id": "7aaef8ba",
   "metadata": {},
   "outputs": [],
   "source": [
    "\"定义卷积\"\n",
    "def corr2d(X, K):\n",
    "    Y = torch.zeros((X.shape[0] - K.shape[0] + 1, X.shape[1] - K.shape[1] + 1), dtype = torch.float32)\n",
    "    for i in range(Y.shape[0]):\n",
    "        for j in range(Y.shape[1]):\n",
    "            Y[i, j] = (X[i:i + K.shape[0], j:j + K.shape[1]] * K).sum()\n",
    "    return Y"
   ]
  },
  {
   "cell_type": "markdown",
   "id": "0992c44e",
   "metadata": {},
   "source": [
    "### 1. 多输入单输出卷积"
   ]
  },
  {
   "cell_type": "code",
   "execution_count": 3,
   "id": "45ec938f",
   "metadata": {},
   "outputs": [],
   "source": [
    "\"多输入卷积\"\n",
    "def corr2d_multi_in(X, K):\n",
    "    y = torch.zeros((X.shape[1] - K.shape[1] + 1, X.shape[2] - K.shape[2] + 1), dtype = torch.float32)\n",
    "    for i, k in zip(X, K):\n",
    "        y[:] = corr2d(i, k) + y\n",
    "    return y"
   ]
  },
  {
   "cell_type": "code",
   "execution_count": 4,
   "id": "cd584863",
   "metadata": {},
   "outputs": [
    {
     "data": {
      "text/plain": [
       "(torch.Size([2, 3, 3]),\n",
       " torch.Size([2, 2, 2]),\n",
       " tensor([[[0., 1., 2.],\n",
       "          [3., 4., 5.],\n",
       "          [6., 7., 8.]],\n",
       " \n",
       "         [[1., 2., 3.],\n",
       "          [4., 5., 6.],\n",
       "          [7., 8., 9.]]]),\n",
       " tensor([[[0., 1.],\n",
       "          [2., 3.]],\n",
       " \n",
       "         [[1., 2.],\n",
       "          [3., 4.]]]))"
      ]
     },
     "execution_count": 4,
     "metadata": {},
     "output_type": "execute_result"
    }
   ],
   "source": [
    "x = torch.tensor([[[0, 1 ,2], [3, 4, 5], [6, 7, 8]], [[1, 2 ,3], [4, 5, 6], [7, 8, 9]]], dtype = torch.float32)\n",
    "k = torch.tensor([[[0, 1], [2, 3]], [[1, 2], [3, 4]]], dtype = torch.float32)\n",
    "x.shape, k.shape, x, k"
   ]
  },
  {
   "cell_type": "code",
   "execution_count": 5,
   "id": "25458a6a",
   "metadata": {},
   "outputs": [
    {
     "data": {
      "text/plain": [
       "tensor([[ 56.,  72.],\n",
       "        [104., 120.]])"
      ]
     },
     "execution_count": 5,
     "metadata": {},
     "output_type": "execute_result"
    }
   ],
   "source": [
    "corr2d_multi_in(x, k)"
   ]
  },
  {
   "cell_type": "markdown",
   "id": "ce11ef91",
   "metadata": {},
   "source": [
    "### 2. 多输入多输出卷积"
   ]
  },
  {
   "cell_type": "code",
   "execution_count": 6,
   "id": "ccad36ba",
   "metadata": {},
   "outputs": [
    {
     "data": {
      "text/plain": [
       "(torch.Size([2, 3, 3]),\n",
       " torch.Size([3, 2, 2, 2]),\n",
       " tensor([[[0., 1., 2.],\n",
       "          [3., 4., 5.],\n",
       "          [6., 7., 8.]],\n",
       " \n",
       "         [[1., 2., 3.],\n",
       "          [4., 5., 6.],\n",
       "          [7., 8., 9.]]]),\n",
       " tensor([[[[0., 1.],\n",
       "           [2., 3.]],\n",
       " \n",
       "          [[1., 2.],\n",
       "           [3., 4.]]],\n",
       " \n",
       " \n",
       "         [[[1., 2.],\n",
       "           [3., 4.]],\n",
       " \n",
       "          [[2., 3.],\n",
       "           [4., 5.]]],\n",
       " \n",
       " \n",
       "         [[[2., 3.],\n",
       "           [4., 5.]],\n",
       " \n",
       "          [[3., 4.],\n",
       "           [5., 6.]]]]))"
      ]
     },
     "execution_count": 6,
     "metadata": {},
     "output_type": "execute_result"
    }
   ],
   "source": [
    "x = torch.tensor([[[0, 1 ,2], [3, 4, 5], [6, 7, 8]], [[1, 2 ,3], [4, 5, 6], [7, 8, 9]]], dtype = torch.float32)\n",
    "k = torch.stack((k, k + 1, k + 2), 0)\n",
    "x.shape, k.shape, x, k"
   ]
  },
  {
   "cell_type": "code",
   "execution_count": 9,
   "id": "61b3d02b",
   "metadata": {},
   "outputs": [],
   "source": [
    "def corr2d_multi_in_out(X, K):\n",
    "    y = []\n",
    "    for i in range(len(K)):\n",
    "        a = corr2d_multi_in(X, K[i])\n",
    "        y.append(a)\n",
    "    return torch.cat(y,dim=0).reshape(-1, X.shape[1] - K.shape[2] + 1, X.shape[2] - K.shape[3] + 1)"
   ]
  },
  {
   "cell_type": "code",
   "execution_count": 10,
   "id": "c770de21",
   "metadata": {},
   "outputs": [
    {
     "data": {
      "text/plain": [
       "tensor([[[ 56.,  72.],\n",
       "         [104., 120.]],\n",
       "\n",
       "        [[ 76., 100.],\n",
       "         [148., 172.]],\n",
       "\n",
       "        [[ 96., 128.],\n",
       "         [192., 224.]]])"
      ]
     },
     "execution_count": 10,
     "metadata": {},
     "output_type": "execute_result"
    }
   ],
   "source": [
    "corr2d_multi_in_out(x, k)"
   ]
  },
  {
   "cell_type": "markdown",
   "id": "e26004c3",
   "metadata": {},
   "source": [
    "### 3. 1X1卷积层"
   ]
  },
  {
   "cell_type": "code",
   "execution_count": 11,
   "id": "b5ecfcf4",
   "metadata": {},
   "outputs": [],
   "source": [
    "def corr2d_multi_in_out_1x1(X, K):\n",
    "    c_i, h, w = X.shape\n",
    "    c_o = K.shape[0]\n",
    "    X = X.reshape(-1, h * w)\n",
    "    K = K.reshape(c_o, c_i)\n",
    "    y = torch.mm(K, X)\n",
    "    return y.reshape(c_o, h, w)"
   ]
  },
  {
   "cell_type": "code",
   "execution_count": 12,
   "id": "364aba1a",
   "metadata": {},
   "outputs": [],
   "source": [
    "x = torch.normal(0 ,1, (3, 3, 3))\n",
    "k = torch.normal(0, 1, (2, 3, 1, 1))"
   ]
  },
  {
   "cell_type": "code",
   "execution_count": 14,
   "id": "8dc2dee6",
   "metadata": {},
   "outputs": [
    {
     "data": {
      "text/plain": [
       "tensor([[[True, True, True],\n",
       "         [True, True, True],\n",
       "         [True, True, True]],\n",
       "\n",
       "        [[True, True, True],\n",
       "         [True, True, True],\n",
       "         [True, True, True]]])"
      ]
     },
     "execution_count": 14,
     "metadata": {},
     "output_type": "execute_result"
    }
   ],
   "source": [
    "corr2d_multi_in_out_1x1(x, k) == corr2d_multi_in_out(x, k)"
   ]
  }
 ],
 "metadata": {
  "kernelspec": {
   "display_name": "Python 3 (ipykernel)",
   "language": "python",
   "name": "python3"
  },
  "language_info": {
   "codemirror_mode": {
    "name": "ipython",
    "version": 3
   },
   "file_extension": ".py",
   "mimetype": "text/x-python",
   "name": "python",
   "nbconvert_exporter": "python",
   "pygments_lexer": "ipython3",
   "version": "3.8.19"
  }
 },
 "nbformat": 4,
 "nbformat_minor": 5
}
