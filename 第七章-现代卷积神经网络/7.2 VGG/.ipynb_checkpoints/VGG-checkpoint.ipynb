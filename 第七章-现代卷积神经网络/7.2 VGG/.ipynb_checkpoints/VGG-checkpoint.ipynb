{
 "cells": [
  {
   "cell_type": "markdown",
   "id": "7d72c5e9",
   "metadata": {},
   "source": [
    "# VGG\n",
    "使用卷积神经网络搭建VGG网络来对Fasion MNIST数据集进行训练。"
   ]
  },
  {
   "cell_type": "markdown",
   "id": "335ff092",
   "metadata": {},
   "source": [
    "## 1 加载相关库"
   ]
  },
  {
   "cell_type": "code",
   "execution_count": 1,
   "id": "6a90f5c3",
   "metadata": {},
   "outputs": [],
   "source": [
    "import torch\n",
    "import torchvision\n",
    "from torch import nn\n",
    "from IPython import display\n",
    "from torch.utils import data\n",
    "from torchvision import transforms\n",
    "import matplotlib.pyplot as plt\n",
    "%matplotlib inline"
   ]
  },
  {
   "cell_type": "markdown",
   "id": "639e1137",
   "metadata": {},
   "source": [
    "## 2 搭建模型"
   ]
  },
  {
   "cell_type": "markdown",
   "id": "3d2e2c32",
   "metadata": {},
   "source": [
    "### 2.1 构造VGG块"
   ]
  },
  {
   "cell_type": "code",
   "execution_count": 2,
   "id": "1ae6304f",
   "metadata": {},
   "outputs": [],
   "source": [
    "def vgg_block(num_convs, in_channels, out_channels):\n",
    "    layers = []\n",
    "    for _ in range(num_convs):\n",
    "        layers.append(nn.Conv2d(in_channels = in_channels, out_channels = out_channels, \n",
    "                                kernel_size = 3, padding = 1, stride = 1))\n",
    "        layers.append(nn.ReLU())\n",
    "        in_channels = out_channels\n",
    "    layers.append(nn.MaxPool2d(kernel_size = 2, stride = 2, padding = 0))\n",
    "    \n",
    "    return nn.Sequential(*layers)"
   ]
  },
  {
   "cell_type": "markdown",
   "id": "b4417df4",
   "metadata": {},
   "source": [
    "### 2.2 搭建VGG网络"
   ]
  },
  {
   "cell_type": "code",
   "execution_count": 3,
   "id": "fd421cba",
   "metadata": {},
   "outputs": [],
   "source": [
    "def vgg(conv_arch):\n",
    "    conv_blks = []\n",
    "    in_channels = 1\n",
    "    for num_convs, out_channels in conv_arch:\n",
    "        conv_blks.append(vgg_block(num_convs, in_channels, out_channels))\n",
    "        in_channels = out_channels\n",
    "    \n",
    "    return nn.Sequential(*conv_blks, nn.Flatten(), \n",
    "                          #全连接层部分\n",
    "                           nn.Linear(out_channels * 7 * 7, 4096), nn.ReLU (),\n",
    "                           nn.Dropout(p = 0.5),\n",
    "                           nn.Linear(4096, 4096), nn.ReLU (),\n",
    "                           nn.Dropout(p = 0.5),\n",
    "                           nn.Linear(4096, 10))"
   ]
  },
  {
   "cell_type": "code",
   "execution_count": 4,
   "id": "5e2dcd15",
   "metadata": {},
   "outputs": [],
   "source": [
    "conv_arch = ((1, 64), (1, 128), (2, 256), (2, 512), (2, 512))\n",
    "net = vgg(conv_arch)"
   ]
  },
  {
   "cell_type": "code",
   "execution_count": 5,
   "id": "f0936a17",
   "metadata": {},
   "outputs": [
    {
     "name": "stdout",
     "output_type": "stream",
     "text": [
      "Sequential out shape:\t\t torch.Size([1, 64, 112, 112])\n",
      "Sequential out shape:\t\t torch.Size([1, 128, 56, 56])\n",
      "Sequential out shape:\t\t torch.Size([1, 256, 28, 28])\n",
      "Sequential out shape:\t\t torch.Size([1, 512, 14, 14])\n",
      "Sequential out shape:\t\t torch.Size([1, 512, 7, 7])\n",
      "Flatten out shape:\t\t torch.Size([1, 25088])\n",
      "Linear out shape:\t\t torch.Size([1, 4096])\n",
      "ReLU out shape:\t\t torch.Size([1, 4096])\n",
      "Dropout out shape:\t\t torch.Size([1, 4096])\n",
      "Linear out shape:\t\t torch.Size([1, 4096])\n",
      "ReLU out shape:\t\t torch.Size([1, 4096])\n",
      "Dropout out shape:\t\t torch.Size([1, 4096])\n",
      "Linear out shape:\t\t torch.Size([1, 10])\n"
     ]
    }
   ],
   "source": [
    "X = torch.randn(size=(1, 1, 224, 224))\n",
    "for block in net:\n",
    "    X = block(X)\n",
    "    print(block.__class__.__name__, \"out shape:\\t\\t\", X.shape)"
   ]
  },
  {
   "cell_type": "markdown",
   "id": "7a5e9ad5",
   "metadata": {},
   "source": [
    "## 3 动态绘图"
   ]
  },
  {
   "cell_type": "code",
   "execution_count": 6,
   "id": "ee2c7a0a",
   "metadata": {},
   "outputs": [],
   "source": [
    "def plot_image(num, i, train_loss_his, val_loss_his, train_his_acc, val_his_acc):\n",
    "    plt.figure(num = num)\n",
    "    plt.ion()\n",
    "    plt.cla()\n",
    "    ax1 = plt.subplot2grid((1, 2), (0, 0), colspan=1, rowspan=1)\n",
    "    ax1.set_xlim((0, num_epochs))\n",
    "    #ax1.set_ylim(0, 1.6)\n",
    "    ax1.plot(range(i + 1), train_loss_his, label='train_loss')\n",
    "    ax1.plot(range(i + 1), val_loss_his, label='val_loss')\n",
    "    ax1.grid()\n",
    "    ax1.legend()\n",
    "    ax2 = plt.subplot2grid((1, 2), (0, 1), colspan=1, rowspan=1)\n",
    "    ax2.set_xlim(0, num_epochs)\n",
    "    ax2.set_ylim(0, 1)\n",
    "    ax2.plot(range(i + 1), train_his_acc, label='train_accuracy')\n",
    "    ax2.plot(range(i + 1), val_his_acc, label='val_accuracy')\n",
    "    ax2.grid()\n",
    "    ax2.legend()\n",
    "    display.clear_output(wait=True)\n",
    "    plt.pause(0.0000001)\n",
    "    plt.ioff()\n",
    "    plt.show()"
   ]
  },
  {
   "cell_type": "markdown",
   "id": "fd4dc3f6",
   "metadata": {},
   "source": [
    "## 4 训练模型"
   ]
  },
  {
   "cell_type": "markdown",
   "id": "4a04c515",
   "metadata": {},
   "source": [
    "### 4.1 更改图片大小\n",
    "- 因为AlexNet网络输入是224大小。"
   ]
  },
  {
   "cell_type": "code",
   "execution_count": 9,
   "id": "107b8d71",
   "metadata": {},
   "outputs": [],
   "source": [
    "trans = transforms.Compose([transforms.ToTensor(), transforms.Resize([224, 224])])\n",
    "mnist_train = torchvision.datasets.FashionMNIST(root = \"C:/Users/CCU6/Practice/pytorch/data\", train = True,\n",
    "                                                transform = trans, download = True)\n",
    "mnist_test = torchvision.datasets.FashionMNIST(root = \"C:/Users/CCU6/Practice/pytorch/data\", train = False,\n",
    "                                                transform = trans, download = True)"
   ]
  },
  {
   "cell_type": "markdown",
   "id": "c8bc8766",
   "metadata": {},
   "source": [
    "### 4.2 将网络参数用xavier初始化"
   ]
  },
  {
   "cell_type": "code",
   "execution_count": 7,
   "id": "3c62ea01",
   "metadata": {},
   "outputs": [],
   "source": [
    "def init_weight(m):\n",
    "    if type(m) == nn.Linear or type(m) == nn.Conv2d:\n",
    "        nn.init.xavier_uniform_(m.weight)"
   ]
  },
  {
   "cell_type": "markdown",
   "id": "f44f2b99",
   "metadata": {},
   "source": [
    "### 4.3 训练函数\n",
    "- 这里面使用了小批量梯度下降，如果不用批量梯度下降的话（其他参数不变），网络就会不收敛，准确率一直在0.1附近。"
   ]
  },
  {
   "cell_type": "code",
   "execution_count": 8,
   "id": "a6e369f0",
   "metadata": {},
   "outputs": [],
   "source": [
    "def train_model(net, num_epochs, alpha, device, batch_size):\n",
    "    #定义的东西\n",
    "    train_loss_his = []\n",
    "    val_loss_his = []\n",
    "    train_his_acc = []\n",
    "    val_his_acc = []\n",
    "    train_data_batch = torch.utils.data.DataLoader(mnist_train, batch_size = batch_size, shuffle = True, num_workers = 0)\n",
    "    val_data_batch = torch.utils.data.DataLoader(mnist_test, batch_size = batch_size, shuffle = True, num_workers = 0)\n",
    "    #正式代码\n",
    "    net.apply(init_weight)\n",
    "    print(f\"train on:{device}\")\n",
    "    net.to(device)\n",
    "    optimizer = torch.optim.SGD(net.parameters(), lr = alpha)\n",
    "    loss = nn.CrossEntropyLoss(reduction='none')\n",
    "    for i in range(num_epochs):\n",
    "        train_loss = 0.\n",
    "        train_acc = 0.\n",
    "        net.train()\n",
    "        #每次迭代用batch_size大小的数据集进行训练，一轮共every_num_epoch此迭代。\n",
    "        for k, (data_train, label_train) in enumerate(train_data_batch):\n",
    "            data_train_k = data_train.to(device)\n",
    "            label_train_k = label_train.to(device)\n",
    "            optimizer.zero_grad()\n",
    "            y_trian_hat = net(data_train_k)\n",
    "            l_train = loss(y_trian_hat, label_train_k)\n",
    "            l_train.mean().backward()\n",
    "            optimizer.step()\n",
    "            with torch.no_grad():\n",
    "                train_max_hat = torch.argmax(y_trian_hat, dim = 1)\n",
    "                train_acc_k = sum(train_max_hat == label_train_k)\n",
    "                train_acc += train_acc_k\n",
    "                train_loss += l_train.sum()\n",
    "        \n",
    "        net.eval()\n",
    "        with torch.no_grad():\n",
    "            val_loss = 0.\n",
    "            val_acc = 0.\n",
    "            #验证集的预测\n",
    "            for data_val, label_val in val_data_batch:\n",
    "                data_val_k = data_val.to(device)\n",
    "                label_val_k = label_val.to(device)\n",
    "                y_val_hat = net(data_val_k)\n",
    "                val_max_hat = torch.argmax(y_val_hat, dim = 1)\n",
    "                val_acc_k = sum(val_max_hat == label_val_k)\n",
    "                l_val = loss(y_val_hat, label_val_k)\n",
    "                val_acc += val_acc_k\n",
    "                val_loss += l_val.sum()\n",
    "            \n",
    "            train_loss_his.append(((train_loss * 1.0)/len(mnist_train)).cpu())\n",
    "            val_loss_his.append(((val_loss * 1.0)/len(mnist_test)).cpu())\n",
    "            train_his_acc.append(((train_acc * 1.0)/len(mnist_train)).cpu())\n",
    "            val_his_acc.append(((val_acc * 1.0)/len(mnist_test)).cpu())\n",
    "        #画出每次迭代的图\n",
    "        plot_image(2, i, train_loss_his, val_loss_his, train_his_acc, val_his_acc)\n",
    "    print(f\"train acc:{max(train_his_acc)}, test acc:{max(val_his_acc)}\")\n",
    "    \n",
    "    return train_loss_his, val_loss_his, train_his_acc, val_his_acc"
   ]
  },
  {
   "cell_type": "code",
   "execution_count": 12,
   "id": "97b7bd80",
   "metadata": {},
   "outputs": [],
   "source": [
    "device = torch.device(\"cuda:0\")\n",
    "num_epochs, alpha, batch_size = 30, 0.04, 256"
   ]
  },
  {
   "cell_type": "code",
   "execution_count": 13,
   "id": "bab3bce3",
   "metadata": {},
   "outputs": [],
   "source": [
    "ratio = 4\n",
    "small_conv_arch = [[pair[0], pair[1] // ratio] for pair in conv_arch]\n",
    "net = vgg(small_conv_arch)"
   ]
  },
  {
   "cell_type": "code",
   "execution_count": 14,
   "id": "8959853d",
   "metadata": {},
   "outputs": [
    {
     "data": {
      "image/png": "[encoded data removed]",
      "text/plain": [
       "<Figure size 640x480 with 2 Axes>"
      ]
     },
     "metadata": {},
     "output_type": "display_data"
    },
    {
     "name": "stdout",
     "output_type": "stream",
     "text": [
      "train acc:0.7988888621330261, test acc:0.7766666412353516\n"
     ]
    }
   ],
   "source": [
    "train_loss_his, test_loss_his, train_his_acc, test_his_acc = train_model(net, num_epochs, alpha, device, batch_size)"
   ]
  }
 ],
 "metadata": {
  "kernelspec": {
   "display_name": "Python 3 (ipykernel)",
   "language": "python",
   "name": "python3"
  },
  "language_info": {
   "codemirror_mode": {
    "name": "ipython",
    "version": 3
   },
   "file_extension": ".py",
   "mimetype": "text/x-python",
   "name": "python",
   "nbconvert_exporter": "python",
   "pygments_lexer": "ipython3",
   "version": "3.8.19"
  }
 },
 "nbformat": 4,
 "nbformat_minor": 5
}
