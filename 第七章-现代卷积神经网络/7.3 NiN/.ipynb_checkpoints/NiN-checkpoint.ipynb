{
 "cells": [
  {
   "cell_type": "markdown",
   "id": "70117187",
   "metadata": {},
   "source": [
    "# NiN\n",
    "使用卷积神经网络搭建NiN网络来对Fasion MNIST数据集进行训练。"
   ]
  },
  {
   "cell_type": "markdown",
   "id": "87660544",
   "metadata": {},
   "source": [
    "## 1 加载相关库"
   ]
  },
  {
   "cell_type": "code",
   "execution_count": 1,
   "id": "9077a04f",
   "metadata": {},
   "outputs": [],
   "source": [
    "import torch\n",
    "import torchvision\n",
    "from torch import nn\n",
    "from IPython import display\n",
    "from torch.utils import data\n",
    "from torchvision import transforms\n",
    "import matplotlib.pyplot as plt\n",
    "%matplotlib inline"
   ]
  },
  {
   "cell_type": "markdown",
   "id": "d6e74d18",
   "metadata": {},
   "source": [
    "## 2 搭建模型"
   ]
  },
  {
   "cell_type": "markdown",
   "id": "a97efdd5",
   "metadata": {},
   "source": [
    "### 2.1 构造NiN块"
   ]
  },
  {
   "cell_type": "code",
   "execution_count": 2,
   "id": "8a8c3c33",
   "metadata": {},
   "outputs": [],
   "source": [
    "def nin_block(in_channels, out_channels, kernel_size, stride, padding):\n",
    "    net = nn.Sequential(nn.Conv2d(in_channels = in_channels, out_channels = out_channels, \n",
    "                                  kernel_size = kernel_size, stride = stride, padding = padding), \n",
    "                                  nn.ReLU(),\n",
    "                                  nn.Conv2d(in_channels = out_channels, out_channels = out_channels, \n",
    "                                  kernel_size = 1, stride = 1, padding = 0), \n",
    "                                  nn.ReLU(),\n",
    "                                  nn.Conv2d(in_channels = out_channels, out_channels = out_channels, \n",
    "                                  kernel_size = 1, stride = 1, padding = 0), \n",
    "                                  nn.ReLU())\n",
    "    \n",
    "    return net"
   ]
  },
  {
   "cell_type": "markdown",
   "id": "863dfe7b",
   "metadata": {},
   "source": [
    "### 2.2 搭建NiN网络"
   ]
  },
  {
   "cell_type": "code",
   "execution_count": 3,
   "id": "4b8c3dca",
   "metadata": {},
   "outputs": [],
   "source": [
    "net = nn.Sequential(nin_block(1, 96, 11, 4, 0), \n",
    "                    nn.MaxPool2d(kernel_size = 3, stride = 2), \n",
    "                    nin_block(96, 256, 5, 1, 2), \n",
    "                    nn.MaxPool2d(kernel_size = 3, stride = 2), \n",
    "                    nin_block(256, 384, 3, 1, 1), \n",
    "                    nn.MaxPool2d(kernel_size = 3, stride = 2), \n",
    "                    nn.Dropout(0.5), \n",
    "                    nin_block(384, 10, 3, 1, 1), \n",
    "                    nn.AdaptiveAvgPool2d((1, 1)), \n",
    "                    nn.Flatten())"
   ]
  },
  {
   "cell_type": "code",
   "execution_count": 4,
   "id": "74ab3192",
   "metadata": {},
   "outputs": [
    {
     "name": "stdout",
     "output_type": "stream",
     "text": [
      "Sequential out shape:\t\t torch.Size([1, 96, 54, 54])\n",
      "MaxPool2d out shape:\t\t torch.Size([1, 96, 26, 26])\n",
      "Sequential out shape:\t\t torch.Size([1, 256, 26, 26])\n",
      "MaxPool2d out shape:\t\t torch.Size([1, 256, 12, 12])\n",
      "Sequential out shape:\t\t torch.Size([1, 384, 12, 12])\n",
      "MaxPool2d out shape:\t\t torch.Size([1, 384, 5, 5])\n",
      "Dropout out shape:\t\t torch.Size([1, 384, 5, 5])\n",
      "Sequential out shape:\t\t torch.Size([1, 10, 5, 5])\n",
      "AdaptiveAvgPool2d out shape:\t\t torch.Size([1, 10, 1, 1])\n",
      "Flatten out shape:\t\t torch.Size([1, 10])\n"
     ]
    }
   ],
   "source": [
    "X = torch.randn(size=(1, 1, 224, 224))\n",
    "for layer in net:\n",
    "    X = layer(X)\n",
    "    print(layer.__class__.__name__, \"out shape:\\t\\t\", X.shape)"
   ]
  },
  {
   "cell_type": "markdown",
   "id": "c59c9d65",
   "metadata": {},
   "source": [
    "## 3 动态绘图"
   ]
  },
  {
   "cell_type": "code",
   "execution_count": 5,
   "id": "a325694e",
   "metadata": {},
   "outputs": [],
   "source": [
    "def plot_image(num, i, train_loss_his, val_loss_his, train_his_acc, val_his_acc):\n",
    "    plt.figure(num = num)\n",
    "    plt.ion()\n",
    "    plt.cla()\n",
    "    ax1 = plt.subplot2grid((1, 2), (0, 0), colspan=1, rowspan=1)\n",
    "    ax1.grid(ls='-.')\n",
    "    ax1.set_xlim((0, num_epochs))\n",
    "    #ax1.set_ylim(0, 1.6)\n",
    "    ax1.plot(range(i + 1), train_loss_his, label='train_loss')\n",
    "    ax1.plot(range(i + 1), val_loss_his, label='val_loss')\n",
    "    ax1.legend()\n",
    "    ax2 = plt.subplot2grid((1, 2), (0, 1), colspan=1, rowspan=1)\n",
    "    ax2.grid(ls='-.')\n",
    "    ax2.set_xlim(0, num_epochs)\n",
    "    ax2.set_ylim(0, 1)\n",
    "    ax2.plot(range(i + 1), train_his_acc, label='train_accuracy')\n",
    "    ax2.plot(range(i + 1), val_his_acc, label='val_accuracy')\n",
    "    ax2.legend()\n",
    "    display.clear_output(wait=True)\n",
    "    plt.pause(0.0000001)\n",
    "    plt.ioff()\n",
    "    plt.show()"
   ]
  },
  {
   "cell_type": "markdown",
   "id": "f496e575",
   "metadata": {},
   "source": [
    "## 4 训练模型"
   ]
  },
  {
   "cell_type": "code",
   "execution_count": 6,
   "id": "865691cc",
   "metadata": {},
   "outputs": [],
   "source": [
    "trans = transforms.Compose([transforms.ToTensor(), transforms.Resize([224, 224])])\n",
    "mnist_train = torchvision.datasets.FashionMNIST(root = \"C:/Users/CCU6/Practice/pytorch/data\", train = True,\n",
    "                                                transform = trans, download = True)\n",
    "mnist_test = torchvision.datasets.FashionMNIST(root = \"C:/Users/CCU6/Practice/pytorch/data\", train = False,\n",
    "                                                transform = trans, download = True)"
   ]
  },
  {
   "cell_type": "markdown",
   "id": "ac732602",
   "metadata": {},
   "source": [
    "### 4.1 将网络参数用xavier初始化"
   ]
  },
  {
   "cell_type": "code",
   "execution_count": 7,
   "id": "a43b1444",
   "metadata": {},
   "outputs": [],
   "source": [
    "def init_weight(m):\n",
    "    if type(m) == nn.Linear or type(m) == nn.Conv2d:\n",
    "        nn.init.xavier_uniform_(m.weight)"
   ]
  },
  {
   "cell_type": "markdown",
   "id": "e6d776d5",
   "metadata": {},
   "source": [
    "### 4.2 训练函数\n",
    "- 这里面使用了小批量梯度下降，如果不用批量梯度下降的话（其他参数不变），网络就会不收敛，准确率一直在0.1附近。或者是训练更多轮。"
   ]
  },
  {
   "cell_type": "code",
   "execution_count": 8,
   "id": "ec9b7a19",
   "metadata": {},
   "outputs": [],
   "source": [
    "def train_model(net, num_epochs, alpha, device, batch_size):\n",
    "    #定义的东西\n",
    "    train_loss_his = []\n",
    "    val_loss_his = []\n",
    "    train_his_acc = []\n",
    "    val_his_acc = []\n",
    "    train_data_batch = torch.utils.data.DataLoader(mnist_train, batch_size = batch_size, shuffle = True, num_workers = 0)\n",
    "    val_data_batch = torch.utils.data.DataLoader(mnist_test, batch_size = batch_size, shuffle = True, num_workers = 0)\n",
    "    #正式代码\n",
    "    net.apply(init_weight)\n",
    "    print(f\"train on:{device}\")\n",
    "    net.to(device)\n",
    "    optimizer = torch.optim.SGD(net.parameters(), lr = alpha)\n",
    "    loss = nn.CrossEntropyLoss(reduction='none')\n",
    "    for i in range(num_epochs):\n",
    "        train_loss = 0.\n",
    "        train_acc = 0.\n",
    "        net.train()\n",
    "        #每次迭代用batch_size大小的数据集进行训练，一轮共every_num_epoch此迭代。\n",
    "        for k, (data_train, label_train) in enumerate(train_data_batch):\n",
    "            data_train_k = data_train.to(device)\n",
    "            label_train_k = label_train.to(device)\n",
    "            optimizer.zero_grad()\n",
    "            y_trian_hat = net(data_train_k)\n",
    "            l_train = loss(y_trian_hat, label_train_k)\n",
    "            l_train.mean().backward()\n",
    "            optimizer.step()\n",
    "            with torch.no_grad():\n",
    "                train_max_hat = torch.argmax(y_trian_hat, dim = 1)\n",
    "                train_acc_k = sum(train_max_hat == label_train_k)\n",
    "                train_acc += train_acc_k\n",
    "                train_loss += l_train.sum()\n",
    "        \n",
    "        net.eval()\n",
    "        with torch.no_grad():\n",
    "            val_loss = 0.\n",
    "            val_acc = 0.\n",
    "            #验证集的预测\n",
    "            for data_val, label_val in val_data_batch:\n",
    "                data_val_k = data_val.to(device)\n",
    "                label_val_k = label_val.to(device)\n",
    "                y_val_hat = net(data_val_k)\n",
    "                val_max_hat = torch.argmax(y_val_hat, dim = 1)\n",
    "                val_acc_k = sum(val_max_hat == label_val_k)\n",
    "                l_val = loss(y_val_hat, label_val_k)\n",
    "                val_acc += val_acc_k\n",
    "                val_loss += l_val.sum()\n",
    "            \n",
    "            train_loss_his.append(((train_loss * 1.0)/len(mnist_train)).cpu())\n",
    "            val_loss_his.append(((val_loss * 1.0)/len(mnist_test)).cpu())\n",
    "            train_his_acc.append(((train_acc * 1.0)/len(mnist_train)).cpu())\n",
    "            val_his_acc.append(((val_acc * 1.0)/len(mnist_test)).cpu())\n",
    "        #画出每次迭代的图\n",
    "        plot_image(2, i, train_loss_his, val_loss_his, train_his_acc, val_his_acc)\n",
    "    print(f\"train acc:{max(train_his_acc)}, test acc:{max(val_his_acc)}\")\n",
    "    \n",
    "    return train_loss_his, val_loss_his, train_his_acc, val_his_acc"
   ]
  },
  {
   "cell_type": "code",
   "execution_count": 9,
   "id": "b3806d54",
   "metadata": {},
   "outputs": [],
   "source": [
    "device = torch.device(\"cuda:0\")\n",
    "num_epochs, alpha, batch_size = 10, 0.2, 128"
   ]
  },
  {
   "cell_type": "code",
   "execution_count": 10,
   "id": "da2b1b89",
   "metadata": {},
   "outputs": [
    {
     "data": {
      "image/png": "[encoded data removed]",
      "text/plain": [
       "<Figure size 640x480 with 2 Axes>"
      ]
     },
     "metadata": {},
     "output_type": "display_data"
    },
    {
     "name": "stdout",
     "output_type": "stream",
     "text": [
      "train acc:0.725516676902771, test acc:0.7229999899864197\n"
     ]
    }
   ],
   "source": [
    "train_loss_his, test_loss_his, train_his_acc, test_his_acc = train_model(net, num_epochs, alpha, device, batch_size)"
   ]
  }
 ],
 "metadata": {
  "kernelspec": {
   "display_name": "Python 3 (ipykernel)",
   "language": "python",
   "name": "python3"
  },
  "language_info": {
   "codemirror_mode": {
    "name": "ipython",
    "version": 3
   },
   "file_extension": ".py",
   "mimetype": "text/x-python",
   "name": "python",
   "nbconvert_exporter": "python",
   "pygments_lexer": "ipython3",
   "version": "3.8.19"
  }
 },
 "nbformat": 4,
 "nbformat_minor": 5
}
