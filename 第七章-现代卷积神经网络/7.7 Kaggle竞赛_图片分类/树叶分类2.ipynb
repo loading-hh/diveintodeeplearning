{
 "cells": [
  {
   "cell_type": "markdown",
   "id": "db50ea0f",
   "metadata": {},
   "source": [
    "# 树叶分类kaggle竞赛\n",
    "使用ResNet来对所给数据集进行训练。"
   ]
  },
  {
   "cell_type": "code",
   "execution_count": 1,
   "id": "ffb380f9",
   "metadata": {},
   "outputs": [
    {
     "name": "stdout",
     "output_type": "stream",
     "text": [
      "Mon Nov 11 19:41:40 2024       \n",
      "+-----------------------------------------------------------------------------------------+\n",
      "| NVIDIA-SMI 560.94                 Driver Version: 560.94         CUDA Version: 12.6     |\n",
      "|-----------------------------------------+------------------------+----------------------+\n",
      "| GPU  Name                  Driver-Model | Bus-Id          Disp.A | Volatile Uncorr. ECC |\n",
      "| Fan  Temp   Perf          Pwr:Usage/Cap |           Memory-Usage | GPU-Util  Compute M. |\n",
      "|                                         |                        |               MIG M. |\n",
      "|=========================================+========================+======================|\n",
      "|   0  NVIDIA GeForce GTX 1060 6GB  WDDM  |   00000000:01:00.0  On |                  N/A |\n",
      "| 53%   64C    P8              9W /  120W |     265MiB /   6144MiB |      1%      Default |\n",
      "|                                         |                        |                  N/A |\n",
      "+-----------------------------------------+------------------------+----------------------+\n",
      "                                                                                         \n",
      "+-----------------------------------------------------------------------------------------+\n",
      "| Processes:                                                                              |\n",
      "|  GPU   GI   CI        PID   Type   Process name                              GPU Memory |\n",
      "|        ID   ID                                                               Usage      |\n",
      "|=========================================================================================|\n",
      "|    0   N/A  N/A      2884    C+G   ...5n1h2txyewy\\ShellExperienceHost.exe      N/A      |\n",
      "|    0   N/A  N/A      4844    C+G   ...t.LockApp_cw5n1h2txyewy\\LockApp.exe      N/A      |\n",
      "|    0   N/A  N/A      7876    C+G   ...1.0_x64__8wekyb3d8bbwe\\Video.UI.exe      N/A      |\n",
      "|    0   N/A  N/A      9228    C+G   ...CBS_cw5n1h2txyewy\\TextInputHost.exe      N/A      |\n",
      "|    0   N/A  N/A     11312    C+G   C:\\Windows\\explorer.exe                     N/A      |\n",
      "|    0   N/A  N/A     12572    C+G   ...crosoft\\Edge\\Application\\msedge.exe      N/A      |\n",
      "|    0   N/A  N/A     12836    C+G   ...nt.CBS_cw5n1h2txyewy\\SearchHost.exe      N/A      |\n",
      "|    0   N/A  N/A     14800    C+G   ...2txyewy\\StartMenuExperienceHost.exe      N/A      |\n",
      "+-----------------------------------------------------------------------------------------+\n"
     ]
    }
   ],
   "source": [
    "!nvidia-smi"
   ]
  },
  {
   "cell_type": "code",
   "execution_count": 2,
   "id": "6ce24d01",
   "metadata": {},
   "outputs": [],
   "source": [
    "import random\n",
    "import cv2 as cv\n",
    "import numpy as np\n",
    "import pandas as pd\n",
    "from PIL import Image\n",
    "import torch\n",
    "import torchvision\n",
    "from torch import nn\n",
    "from IPython import display\n",
    "from torch.utils import data\n",
    "from torchvision import models\n",
    "from torchvision import transforms\n",
    "from torch.nn import functional as F\n",
    "import matplotlib.pyplot as plt\n",
    "%matplotlib inline"
   ]
  },
  {
   "cell_type": "markdown",
   "id": "60e612f8",
   "metadata": {},
   "source": [
    "## 1 读取数据"
   ]
  },
  {
   "cell_type": "code",
   "execution_count": 3,
   "id": "3f8f2aaf",
   "metadata": {},
   "outputs": [
    {
     "data": {
      "text/plain": [
       "(image         object\n",
       " label         object\n",
       " num_label    float64\n",
       " dtype: object,\n",
       " (18353, 3))"
      ]
     },
     "execution_count": 3,
     "metadata": {},
     "output_type": "execute_result"
    }
   ],
   "source": [
    "train_data_label = pd.read_csv(\"data/train.csv\")\n",
    "train_data_label.dtypes, train_data_label.shape"
   ]
  },
  {
   "cell_type": "code",
   "execution_count": 4,
   "id": "4df572c2",
   "metadata": {},
   "outputs": [
    {
     "name": "stdout",
     "output_type": "stream",
     "text": [
      "          image                     label  num_label\n",
      "0  images/0.jpg          maclura_pomifera        NaN\n",
      "1  images/1.jpg          maclura_pomifera        NaN\n",
      "2  images/2.jpg          maclura_pomifera        NaN\n",
      "3  images/3.jpg          maclura_pomifera        NaN\n",
      "4  images/4.jpg          maclura_pomifera        NaN\n",
      "5  images/5.jpg          maclura_pomifera        NaN\n",
      "6  images/6.jpg               ulmus_rubra        NaN\n",
      "7  images/7.jpg  broussonettia_papyrifera        NaN\n"
     ]
    }
   ],
   "source": [
    "print(train_data_label.iloc[0:8])"
   ]
  },
  {
   "cell_type": "markdown",
   "id": "4bec2a13",
   "metadata": {},
   "source": [
    "## 2 对label列进行编码分类"
   ]
  },
  {
   "cell_type": "code",
   "execution_count": 5,
   "id": "12c6e4e2",
   "metadata": {},
   "outputs": [],
   "source": [
    "num_label = pd.factorize(train_data_label['label'])[0]\n",
    "train_data_label[\"num_label\"] = num_label"
   ]
  },
  {
   "cell_type": "code",
   "execution_count": 6,
   "id": "4766f364",
   "metadata": {},
   "outputs": [
    {
     "data": {
      "text/plain": [
       "(            image                     label  num_label\n",
       " 0    images/0.jpg          maclura_pomifera          0\n",
       " 1    images/1.jpg          maclura_pomifera          0\n",
       " 2    images/2.jpg          maclura_pomifera          0\n",
       " 3    images/3.jpg          maclura_pomifera          0\n",
       " 4    images/4.jpg          maclura_pomifera          0\n",
       " 5    images/5.jpg          maclura_pomifera          0\n",
       " 6    images/6.jpg               ulmus_rubra          1\n",
       " 7    images/7.jpg  broussonettia_papyrifera          2\n",
       " 8    images/8.jpg          maclura_pomifera          0\n",
       " 9    images/9.jpg  broussonettia_papyrifera          2\n",
       " 10  images/10.jpg          maclura_pomifera          0\n",
       " 11  images/11.jpg         prunus_virginiana          3\n",
       " 12  images/12.jpg          maclura_pomifera          0\n",
       " 13  images/13.jpg         prunus_virginiana          3\n",
       " 14  images/14.jpg  broussonettia_papyrifera          2\n",
       " 15  images/15.jpg          maclura_pomifera          0\n",
       " 16  images/16.jpg          maclura_pomifera          0\n",
       " 17  images/17.jpg  broussonettia_papyrifera          2\n",
       " 18  images/18.jpg          maclura_pomifera          0\n",
       " 19  images/19.jpg               ulmus_rubra          1,\n",
       " 'images/0.jpg',\n",
       " 18353)"
      ]
     },
     "execution_count": 6,
     "metadata": {},
     "output_type": "execute_result"
    }
   ],
   "source": [
    "train_data_label[0:20], train_data_label[\"image\"][0], len(train_data_label[\"image\"])"
   ]
  },
  {
   "cell_type": "markdown",
   "id": "5d2f2850",
   "metadata": {},
   "source": [
    "## 3 加载自己数据集"
   ]
  },
  {
   "cell_type": "markdown",
   "id": "46b2e27b",
   "metadata": {},
   "source": [
    "### 3.1 生成随机数\n",
    "- 因为这个电脑无法加载所有图片"
   ]
  },
  {
   "cell_type": "markdown",
   "id": "415b3cf3",
   "metadata": {},
   "source": [
    "### 3.1 自定义自己的Dataset类"
   ]
  },
  {
   "cell_type": "code",
   "execution_count": 7,
   "id": "34526b01",
   "metadata": {},
   "outputs": [],
   "source": [
    "class MyDataset(torch.utils.data.Dataset):\n",
    "    def __init__(self, data_path, data_label, image_name, transforms = None):\n",
    "        super().__init__()\n",
    "        self.img_path = data_path\n",
    "        #self.label = torch.tensor(data_label)\n",
    "        self.image_name = image_name\n",
    "        self.transforms = transforms\n",
    "        num = random.sample(range(0,len(train_data_label[\"image\"])),8100)\n",
    "        img = []\n",
    "        label = []\n",
    "        for i in num:\n",
    "            img_path = self.img_path + '/' + image_name[i]\n",
    "            img.append(Image.open(img_path))\n",
    "            label.append(torch.tensor(data_label[i]))\n",
    "        self.data = img\n",
    "        self.label = label\n",
    "        \n",
    "    def __getitem__(self, index):\n",
    "        data = self.data[index]\n",
    "        labels = self.label[index]\n",
    "        if self.transforms != None:\n",
    "            data = self.transforms(data)\n",
    "        \n",
    "        return data, labels\n",
    "    \n",
    "    def __len__(self):\n",
    "        return len(self.data)\n"
   ]
  },
  {
   "cell_type": "code",
   "execution_count": 8,
   "id": "d808580b",
   "metadata": {},
   "outputs": [],
   "source": [
    "img_path = \"C:/Users/CCU6/Desktop/classify-leaves\"\n",
    "normalize = transforms.Normalize([0.485, 0.456, 0.406], [0.229, 0.224, 0.225]) ##Imagenet中的图片的均值与方差。\n",
    "trans = transforms.Compose([transforms.RandomHorizontalFlip(p = 0.5), \n",
    "                            transforms.RandomVerticalFlip(p = 0.5), \n",
    "                            transforms.ToTensor(),   #transforms.ToTensor()会归一化\n",
    "                            normalize])\n",
    "train_data = MyDataset(img_path, num_label, train_data_label[\"image\"], trans)"
   ]
  },
  {
   "cell_type": "code",
   "execution_count": 9,
   "id": "57bcebcf",
   "metadata": {},
   "outputs": [
    {
     "data": {
      "text/plain": [
       "(<__main__.MyDataset at 0x28c0cc87cd0>,\n",
       " 8100,\n",
       " (tensor([[[1.1358, 1.1358, 1.1358,  ..., 0.8961, 0.9646, 0.9817],\n",
       "           [1.1358, 1.1358, 1.1358,  ..., 0.8961, 0.9646, 0.9817],\n",
       "           [1.1358, 1.1358, 1.1358,  ..., 0.8961, 0.9474, 0.9817],\n",
       "           ...,\n",
       "           [1.1358, 1.1358, 1.1358,  ..., 1.1358, 1.1187, 1.1187],\n",
       "           [1.1358, 1.1358, 1.1358,  ..., 1.1187, 1.1187, 1.1187],\n",
       "           [1.1358, 1.1358, 1.1358,  ..., 1.1187, 1.1187, 1.1187]],\n",
       "  \n",
       "          [[1.2906, 1.2906, 1.2906,  ..., 1.2381, 1.2731, 1.2906],\n",
       "           [1.2906, 1.2906, 1.2906,  ..., 1.2381, 1.2731, 1.2906],\n",
       "           [1.2906, 1.2906, 1.2906,  ..., 1.2381, 1.2731, 1.3081],\n",
       "           ...,\n",
       "           [1.2906, 1.2906, 1.2906,  ..., 1.4657, 1.4482, 1.4482],\n",
       "           [1.2906, 1.2906, 1.2906,  ..., 1.4482, 1.4482, 1.4482],\n",
       "           [1.2906, 1.2906, 1.2906,  ..., 1.4482, 1.4482, 1.4482]],\n",
       "  \n",
       "          [[1.5420, 1.5420, 1.5071,  ..., 1.3502, 1.4025, 1.4200],\n",
       "           [1.5420, 1.5420, 1.5071,  ..., 1.3502, 1.4025, 1.4200],\n",
       "           [1.5071, 1.5071, 1.5071,  ..., 1.3502, 1.3502, 1.3851],\n",
       "           ...,\n",
       "           [1.5071, 1.5071, 1.5071,  ..., 1.5245, 1.5071, 1.5071],\n",
       "           [1.5071, 1.5071, 1.5071,  ..., 1.4722, 1.4722, 1.4722],\n",
       "           [1.5071, 1.5071, 1.5071,  ..., 1.4722, 1.4722, 1.4722]]]),\n",
       "  tensor(32)))"
      ]
     },
     "execution_count": 9,
     "metadata": {},
     "output_type": "execute_result"
    }
   ],
   "source": [
    "train_data, len(train_data), train_data[0]"
   ]
  },
  {
   "cell_type": "code",
   "execution_count": 10,
   "id": "d55db112",
   "metadata": {},
   "outputs": [
    {
     "data": {
      "text/plain": [
       "4500.0"
      ]
     },
     "execution_count": 10,
     "metadata": {},
     "output_type": "execute_result"
    }
   ],
   "source": [
    "dataset = 5000\n",
    "x, y = next(iter(data.DataLoader(train_data, batch_size = dataset, shuffle = True, num_workers = 0)))\n",
    "dataset * 0.9"
   ]
  },
  {
   "cell_type": "code",
   "execution_count": 11,
   "id": "1cbdbf18",
   "metadata": {},
   "outputs": [],
   "source": [
    "x_train, x_val = x[0:int(dataset*0.9)], x[int(dataset*0.9):]\n",
    "y_train, y_val = y[0:int(dataset*0.9)], y[int(dataset*0.9):]"
   ]
  },
  {
   "cell_type": "code",
   "execution_count": 12,
   "id": "64aaf818",
   "metadata": {},
   "outputs": [
    {
     "data": {
      "text/plain": [
       "(4500, 500)"
      ]
     },
     "execution_count": 12,
     "metadata": {},
     "output_type": "execute_result"
    }
   ],
   "source": [
    "len(x_train), len(x_val)"
   ]
  },
  {
   "cell_type": "code",
   "execution_count": 13,
   "id": "a134632c",
   "metadata": {},
   "outputs": [
    {
     "data": {
      "text/plain": [
       "torch.Size([4500, 3, 224, 224])"
      ]
     },
     "execution_count": 13,
     "metadata": {},
     "output_type": "execute_result"
    }
   ],
   "source": [
    "x_train.shape"
   ]
  },
  {
   "cell_type": "markdown",
   "id": "a19cb7cc",
   "metadata": {},
   "source": [
    "## 4 定义ResNet模型"
   ]
  },
  {
   "cell_type": "markdown",
   "id": "a78db9c9",
   "metadata": {},
   "source": [
    "### 4.1 自定义Restidual类"
   ]
  },
  {
   "cell_type": "code",
   "execution_count": 14,
   "id": "108f3efc",
   "metadata": {},
   "outputs": [],
   "source": [
    "class Restidual(nn.Module):\n",
    "    def __init__(self, input_channels, num_channels, use_1x1conv = False, strides = 1, **kwargs):\n",
    "        super().__init__(**kwargs)\n",
    "        self.conv1 = nn.Conv2d(in_channels = input_channels, out_channels = num_channels, \n",
    "                               kernel_size = 3, padding = 1, stride = strides)\n",
    "        self.conv2 = nn.Conv2d(in_channels = num_channels, out_channels = num_channels, \n",
    "                               kernel_size = 3, padding = 1, stride = 1)\n",
    "        if use_1x1conv == True:\n",
    "            self.conv3 = nn.Conv2d(in_channels = input_channels, out_channels = num_channels, \n",
    "                                   kernel_size = 1, stride = strides)\n",
    "        else:\n",
    "            self.conv3 = None\n",
    "        self.bn1 = nn.BatchNorm2d(num_channels)\n",
    "        self.bn2 = nn.BatchNorm2d(num_channels)\n",
    "    \n",
    "    def forward(self, X):\n",
    "        Y = F.relu(self.bn1(self.conv1(X)))\n",
    "        Y = self.bn2(self.conv2(Y))\n",
    "        if self.conv3 != None:\n",
    "            X = self.conv3(X)\n",
    "        Y += X\n",
    "        \n",
    "        return F.relu(Y)"
   ]
  },
  {
   "cell_type": "markdown",
   "id": "ff066ca0",
   "metadata": {},
   "source": [
    "### 4.2 自定义resnet块"
   ]
  },
  {
   "cell_type": "code",
   "execution_count": 15,
   "id": "b64c8f59",
   "metadata": {},
   "outputs": [],
   "source": [
    "def resnet_block(input_channels, num_channels, num_restiduals, first_block = True):\n",
    "    blk = []\n",
    "    for i in range(num_restiduals):\n",
    "        if (i == 0) and (first_block == True):\n",
    "            blk.append(Restidual(input_channels, num_channels, use_1x1conv = True, strides = 2))\n",
    "        else:\n",
    "            blk.append(Restidual(num_channels, num_channels))\n",
    "    return blk"
   ]
  },
  {
   "cell_type": "code",
   "execution_count": 16,
   "id": "8310ed92",
   "metadata": {},
   "outputs": [],
   "source": [
    "b1 = nn.Sequential(nn.Conv2d(1, 64, kernel_size=7, stride=2, padding=3),\n",
    "                   nn.BatchNorm2d(64), nn.ReLU(),\n",
    "                   nn.MaxPool2d(kernel_size=3, stride=2, padding=1))\n",
    "b2 = nn.Sequential(*resnet_block(64, 64, 2, first_block = False))\n",
    "b3 = nn.Sequential(*resnet_block(64, 128, 2))\n",
    "b4 = nn.Sequential(*resnet_block(128, 256, 2))\n",
    "b5 = nn.Sequential(*resnet_block(256, 512, 2))"
   ]
  },
  {
   "cell_type": "code",
   "execution_count": 17,
   "id": "f46d74bb",
   "metadata": {},
   "outputs": [],
   "source": [
    "net1 = nn.Sequential(b1, b2, b3, b4, b5,\n",
    "                    nn.AdaptiveAvgPool2d((1,1)),\n",
    "                    nn.Flatten(), nn.Linear(512, 176))"
   ]
  },
  {
   "cell_type": "code",
   "execution_count": 18,
   "id": "a8bd1aff",
   "metadata": {},
   "outputs": [
    {
     "name": "stdout",
     "output_type": "stream",
     "text": [
      "Sequential output shape:\t torch.Size([1, 64, 56, 56])\n",
      "Sequential output shape:\t torch.Size([1, 64, 56, 56])\n",
      "Sequential output shape:\t torch.Size([1, 128, 28, 28])\n",
      "Sequential output shape:\t torch.Size([1, 256, 14, 14])\n",
      "Sequential output shape:\t torch.Size([1, 512, 7, 7])\n",
      "AdaptiveAvgPool2d output shape:\t torch.Size([1, 512, 1, 1])\n",
      "Flatten output shape:\t torch.Size([1, 512])\n",
      "Linear output shape:\t torch.Size([1, 176])\n"
     ]
    }
   ],
   "source": [
    "X = torch.rand(size=(1, 1, 224, 224))\n",
    "for layer in net1:\n",
    "    X = layer(X)\n",
    "    print(layer.__class__.__name__,'output shape:\\t', X.shape)"
   ]
  },
  {
   "cell_type": "markdown",
   "id": "b2de7464",
   "metadata": {},
   "source": [
    "### 4.3 加载ResNet18预训练模型"
   ]
  },
  {
   "cell_type": "code",
   "execution_count": 19,
   "id": "0ecdb934",
   "metadata": {},
   "outputs": [
    {
     "name": "stdout",
     "output_type": "stream",
     "text": [
      "Linear(in_features=512, out_features=1000, bias=True)\n"
     ]
    },
    {
     "data": {
      "text/plain": [
       "Parameter containing:\n",
       "tensor([[ 0.0733, -0.0778,  0.0781,  ...,  0.0485,  0.0101, -0.0478],\n",
       "        [ 0.0428,  0.0264,  0.0884,  ..., -0.0299, -0.0253,  0.0334],\n",
       "        [-0.0296, -0.0253,  0.0282,  ...,  0.0426,  0.0575,  0.0136],\n",
       "        ...,\n",
       "        [-0.0870,  0.0597, -0.0312,  ...,  0.0663,  0.0562, -0.0720],\n",
       "        [ 0.0240,  0.0209, -0.0595,  ..., -0.0526, -0.0171,  0.0088],\n",
       "        [ 0.0617,  0.0078, -0.0194,  ..., -0.0214,  0.0582,  0.0432]],\n",
       "       requires_grad=True)"
      ]
     },
     "execution_count": 19,
     "metadata": {},
     "output_type": "execute_result"
    }
   ],
   "source": [
    "net = models.resnet18(weights = \"ResNet18_Weights.IMAGENET1K_V1\")\n",
    "print(net.fc)\n",
    "net.fc = nn.Linear(in_features = net.fc.in_features, out_features = 176)\n",
    "nn.init.xavier_uniform_(net.fc.weight)"
   ]
  },
  {
   "cell_type": "code",
   "execution_count": 20,
   "id": "ac857ffe",
   "metadata": {},
   "outputs": [
    {
     "data": {
      "text/plain": [
       "<generator object Module.parameters at 0x0000028C48E412E0>"
      ]
     },
     "execution_count": 20,
     "metadata": {},
     "output_type": "execute_result"
    }
   ],
   "source": [
    "net.fc.parameters()"
   ]
  },
  {
   "cell_type": "markdown",
   "id": "0fee52b7",
   "metadata": {},
   "source": [
    "## 5 训练模型"
   ]
  },
  {
   "cell_type": "markdown",
   "id": "a7d55d24",
   "metadata": {},
   "source": [
    "### 5.1 绘制动图"
   ]
  },
  {
   "cell_type": "code",
   "execution_count": 21,
   "id": "51219b28",
   "metadata": {},
   "outputs": [],
   "source": [
    "def plot_image(num, i, train_loss_his, val_loss_his, train_his_acc, val_his_acc):\n",
    "    plt.figure(num = num)\n",
    "    plt.ion()\n",
    "    plt.cla()\n",
    "    ax1 = plt.subplot2grid((1, 2), (0, 0), colspan=1, rowspan=1)\n",
    "    ax1.set_xlim((0, num_epochs))\n",
    "    #ax1.set_ylim(0, 1.6)\n",
    "    ax1.plot(range(i + 1), train_loss_his, label='train_loss')\n",
    "    ax1.plot(range(i + 1), val_loss_his, label='val_loss')\n",
    "    ax1.grid()\n",
    "    ax1.legend()\n",
    "    ax2 = plt.subplot2grid((1, 2), (0, 1), colspan=1, rowspan=1)\n",
    "    ax2.set_xlim(0, num_epochs)\n",
    "    ax2.set_ylim(0, 1)\n",
    "    ax2.plot(range(i + 1), train_his_acc, label='train_accuracy')\n",
    "    ax2.plot(range(i + 1), val_his_acc, label='val_accuracy')\n",
    "    ax2.grid()\n",
    "    ax2.legend()\n",
    "    display.clear_output(wait=True)\n",
    "    plt.pause(0.0000001)\n",
    "    plt.ioff()\n",
    "    plt.show()"
   ]
  },
  {
   "cell_type": "markdown",
   "id": "b3e3a65d",
   "metadata": {},
   "source": [
    "### 5.2 将网络参数用xavier初始化"
   ]
  },
  {
   "cell_type": "code",
   "execution_count": 22,
   "id": "ccefe956",
   "metadata": {},
   "outputs": [],
   "source": [
    "def init_weight(m):\n",
    "    if type(m) == nn.Linear or type(m) == nn.Conv2d:\n",
    "        nn.init.xavier_uniform_(m.weight)"
   ]
  },
  {
   "cell_type": "markdown",
   "id": "467332f4",
   "metadata": {},
   "source": [
    "### 5.3 训练函数\n",
    "- 这里面使用了小批量梯度下降，如果不用批量梯度下降的话（其他参数不变），网络就会不收敛，准确率一直在0.1附近。"
   ]
  },
  {
   "cell_type": "code",
   "execution_count": 23,
   "id": "3bc3d9f7",
   "metadata": {},
   "outputs": [],
   "source": [
    "def train_model(net, X_train, Y_train, X_validate, Y_validate, num_epochs, alpha, device, batch_size):\n",
    "    #定义的东西\n",
    "    train_loss_his = []\n",
    "    val_loss_his = []\n",
    "    train_his_acc = []\n",
    "    val_his_acc = []\n",
    "    every_num_epoch = len(X_train)//batch_size\n",
    "    x_train, y_train = X_train.to(device), Y_train.to(device)\n",
    "    x_val, y_val = X_validate.to(device), Y_validate.to(device)\n",
    "    param_1x = [param for name, param in net.named_parameters() if name not in [\"fc.weight\", \"fc.bias\"]]\n",
    "    #正式代码\n",
    "    #net.apply(init_weight)\n",
    "    print(f\"train on:{device}\")\n",
    "    net.to(device)\n",
    "    optimizer = torch.optim.SGD([{\"params\": param_1x}, \n",
    "                                 {\"params\": net.fc.parameters(), \"lr\": 0.008}], \n",
    "                                lr = alpha, weight_decay=0.002)\n",
    "    loss = nn.CrossEntropyLoss(reduction='none')\n",
    "    for n in range(num_epochs):\n",
    "        loss_sum = 0\n",
    "        net.train()\n",
    "        #每次迭代用batch_size大小的数据集进行训练，一轮共every_num_epoch此迭代。\n",
    "        for i in range(every_num_epoch):\n",
    "            Xi_train = x_train[i*batch_size:(i+1)*batch_size]\n",
    "            Yi_train = y_train[i*batch_size:(i+1)*batch_size]\n",
    "            optimizer.zero_grad()\n",
    "            y_tarin_hat = net(Xi_train)\n",
    "            l_train = loss(y_tarin_hat, Yi_train)\n",
    "            l_train.mean().backward()\n",
    "            optimizer.step()\n",
    "            loss_sum = loss_sum + l_train.mean()\n",
    "        \n",
    "        net.eval()\n",
    "        with torch.no_grad():\n",
    "            #验证集的预测\n",
    "            y_val_hat = net(x_val)\n",
    "            l_val = loss(y_val_hat, y_val)\n",
    "            #将数据转到cpu\n",
    "            l_train = l_train.cpu()\n",
    "            l_val = l_val.cpu()\n",
    "            y_val_hat = y_val_hat.cpu()\n",
    "            #计算正确率\n",
    "            y_tarin_hat = net(x_train[0:200])\n",
    "            a1 = torch.argmax(y_tarin_hat, dim = 1)\n",
    "            a1 = a1.to(device)\n",
    "            b1 = sum(a1 == y_train[0:200])\n",
    "            a2 = torch.argmax(y_val_hat, dim = 1)\n",
    "            a2 = a2.to(device)\n",
    "            b2 = sum(a2 == y_val)\n",
    "            b1 = b1.cpu()\n",
    "            b2 = b2.cpu()\n",
    "            \n",
    "            loss_sum = loss_sum.cpu()\n",
    "            train_loss_his.append(loss_sum/every_num_epoch)\n",
    "            val_loss_his.append(l_val.mean())\n",
    "            train_his_acc.append(b1 / (200 * 1.0))\n",
    "            val_his_acc.append(b2 / (len(Y_validate) * 1.0))\n",
    "            \n",
    "        plot_image(2, n, train_loss_his, val_loss_his, train_his_acc, val_his_acc)\n",
    "    print(f\"train acc:{max(train_his_acc)}, test acc:{max(val_his_acc)}\")\n",
    "    \n",
    "    return train_loss_his, val_loss_his, train_his_acc, val_his_acc"
   ]
  },
  {
   "cell_type": "code",
   "execution_count": 24,
   "id": "a4e06635",
   "metadata": {},
   "outputs": [],
   "source": [
    "device = torch.device(\"cuda:0\")\n",
    "num_epochs, alpha, batch_size = 100, 0.002, 128\n",
    "net = torch.load(\"data/leave_model1.pt\")"
   ]
  },
  {
   "cell_type": "code",
   "execution_count": 25,
   "id": "6818c30e",
   "metadata": {},
   "outputs": [
    {
     "data": {
      "image/png": "[encoded data removed]",
      "text/plain": [
       "<Figure size 640x480 with 2 Axes>"
      ]
     },
     "metadata": {},
     "output_type": "display_data"
    },
    {
     "ename": "KeyboardInterrupt",
     "evalue": "",
     "output_type": "error",
     "traceback": [
      "\u001b[1;31m---------------------------------------------------------------------------\u001b[0m",
      "\u001b[1;31mKeyboardInterrupt\u001b[0m                         Traceback (most recent call last)",
      "Cell \u001b[1;32mIn[25], line 1\u001b[0m\n\u001b[1;32m----> 1\u001b[0m train_loss_his, test_loss_his, train_his_acc, test_his_acc \u001b[38;5;241m=\u001b[39m \u001b[43mtrain_model\u001b[49m\u001b[43m(\u001b[49m\u001b[43mnet\u001b[49m\u001b[43m,\u001b[49m\u001b[43m \u001b[49m\u001b[43mx_train\u001b[49m\u001b[43m,\u001b[49m\u001b[43m \u001b[49m\u001b[43my_train\u001b[49m\u001b[43m,\u001b[49m\u001b[43m \u001b[49m\u001b[43mx_val\u001b[49m\u001b[43m,\u001b[49m\u001b[43m \u001b[49m\u001b[43my_val\u001b[49m\u001b[43m,\u001b[49m\u001b[43m \u001b[49m\n\u001b[0;32m      2\u001b[0m \u001b[43m                                                                         \u001b[49m\u001b[43mnum_epochs\u001b[49m\u001b[43m,\u001b[49m\u001b[43m \u001b[49m\u001b[43malpha\u001b[49m\u001b[43m,\u001b[49m\u001b[43m \u001b[49m\u001b[43mdevice\u001b[49m\u001b[43m,\u001b[49m\u001b[43m \u001b[49m\u001b[43mbatch_size\u001b[49m\u001b[43m)\u001b[49m\n",
      "Cell \u001b[1;32mIn[23], line 29\u001b[0m, in \u001b[0;36mtrain_model\u001b[1;34m(net, X_train, Y_train, X_validate, Y_validate, num_epochs, alpha, device, batch_size)\u001b[0m\n\u001b[0;32m     27\u001b[0m y_tarin_hat \u001b[38;5;241m=\u001b[39m net(Xi_train)\n\u001b[0;32m     28\u001b[0m l_train \u001b[38;5;241m=\u001b[39m loss(y_tarin_hat, Yi_train)\n\u001b[1;32m---> 29\u001b[0m \u001b[43ml_train\u001b[49m\u001b[38;5;241;43m.\u001b[39;49m\u001b[43mmean\u001b[49m\u001b[43m(\u001b[49m\u001b[43m)\u001b[49m\u001b[38;5;241;43m.\u001b[39;49m\u001b[43mbackward\u001b[49m\u001b[43m(\u001b[49m\u001b[43m)\u001b[49m\n\u001b[0;32m     30\u001b[0m optimizer\u001b[38;5;241m.\u001b[39mstep()\n\u001b[0;32m     31\u001b[0m loss_sum \u001b[38;5;241m=\u001b[39m loss_sum \u001b[38;5;241m+\u001b[39m l_train\u001b[38;5;241m.\u001b[39mmean()\n",
      "File \u001b[1;32mE:\\anaconda3\\envs\\pytorch_gpu\\lib\\site-packages\\torch\\_tensor.py:396\u001b[0m, in \u001b[0;36mTensor.backward\u001b[1;34m(self, gradient, retain_graph, create_graph, inputs)\u001b[0m\n\u001b[0;32m    387\u001b[0m \u001b[38;5;28;01mif\u001b[39;00m has_torch_function_unary(\u001b[38;5;28mself\u001b[39m):\n\u001b[0;32m    388\u001b[0m     \u001b[38;5;28;01mreturn\u001b[39;00m handle_torch_function(\n\u001b[0;32m    389\u001b[0m         Tensor\u001b[38;5;241m.\u001b[39mbackward,\n\u001b[0;32m    390\u001b[0m         (\u001b[38;5;28mself\u001b[39m,),\n\u001b[1;32m   (...)\u001b[0m\n\u001b[0;32m    394\u001b[0m         create_graph\u001b[38;5;241m=\u001b[39mcreate_graph,\n\u001b[0;32m    395\u001b[0m         inputs\u001b[38;5;241m=\u001b[39minputs)\n\u001b[1;32m--> 396\u001b[0m \u001b[43mtorch\u001b[49m\u001b[38;5;241;43m.\u001b[39;49m\u001b[43mautograd\u001b[49m\u001b[38;5;241;43m.\u001b[39;49m\u001b[43mbackward\u001b[49m\u001b[43m(\u001b[49m\u001b[38;5;28;43mself\u001b[39;49m\u001b[43m,\u001b[49m\u001b[43m \u001b[49m\u001b[43mgradient\u001b[49m\u001b[43m,\u001b[49m\u001b[43m \u001b[49m\u001b[43mretain_graph\u001b[49m\u001b[43m,\u001b[49m\u001b[43m \u001b[49m\u001b[43mcreate_graph\u001b[49m\u001b[43m,\u001b[49m\u001b[43m \u001b[49m\u001b[43minputs\u001b[49m\u001b[38;5;241;43m=\u001b[39;49m\u001b[43minputs\u001b[49m\u001b[43m)\u001b[49m\n",
      "File \u001b[1;32mE:\\anaconda3\\envs\\pytorch_gpu\\lib\\site-packages\\torch\\autograd\\__init__.py:173\u001b[0m, in \u001b[0;36mbackward\u001b[1;34m(tensors, grad_tensors, retain_graph, create_graph, grad_variables, inputs)\u001b[0m\n\u001b[0;32m    168\u001b[0m     retain_graph \u001b[38;5;241m=\u001b[39m create_graph\n\u001b[0;32m    170\u001b[0m \u001b[38;5;66;03m# The reason we repeat same the comment below is that\u001b[39;00m\n\u001b[0;32m    171\u001b[0m \u001b[38;5;66;03m# some Python versions print out the first line of a multi-line function\u001b[39;00m\n\u001b[0;32m    172\u001b[0m \u001b[38;5;66;03m# calls in the traceback and some print out the last line\u001b[39;00m\n\u001b[1;32m--> 173\u001b[0m \u001b[43mVariable\u001b[49m\u001b[38;5;241;43m.\u001b[39;49m\u001b[43m_execution_engine\u001b[49m\u001b[38;5;241;43m.\u001b[39;49m\u001b[43mrun_backward\u001b[49m\u001b[43m(\u001b[49m\u001b[43m  \u001b[49m\u001b[38;5;66;43;03m# Calls into the C++ engine to run the backward pass\u001b[39;49;00m\n\u001b[0;32m    174\u001b[0m \u001b[43m    \u001b[49m\u001b[43mtensors\u001b[49m\u001b[43m,\u001b[49m\u001b[43m \u001b[49m\u001b[43mgrad_tensors_\u001b[49m\u001b[43m,\u001b[49m\u001b[43m \u001b[49m\u001b[43mretain_graph\u001b[49m\u001b[43m,\u001b[49m\u001b[43m \u001b[49m\u001b[43mcreate_graph\u001b[49m\u001b[43m,\u001b[49m\u001b[43m \u001b[49m\u001b[43minputs\u001b[49m\u001b[43m,\u001b[49m\n\u001b[0;32m    175\u001b[0m \u001b[43m    \u001b[49m\u001b[43mallow_unreachable\u001b[49m\u001b[38;5;241;43m=\u001b[39;49m\u001b[38;5;28;43;01mTrue\u001b[39;49;00m\u001b[43m,\u001b[49m\u001b[43m \u001b[49m\u001b[43maccumulate_grad\u001b[49m\u001b[38;5;241;43m=\u001b[39;49m\u001b[38;5;28;43;01mTrue\u001b[39;49;00m\u001b[43m)\u001b[49m\n",
      "\u001b[1;31mKeyboardInterrupt\u001b[0m: "
     ]
    }
   ],
   "source": [
    "train_loss_his, test_loss_his, train_his_acc, test_his_acc = train_model(net, x_train, y_train, x_val, y_val, \n",
    "                                                                         num_epochs, alpha, device, batch_size)"
   ]
  },
  {
   "cell_type": "code",
   "execution_count": null,
   "id": "fc788505",
   "metadata": {},
   "outputs": [],
   "source": [
    "!nvidia-smi\n",
    "torch.save(net, \"data/leave_model1.pt\")"
   ]
  },
  {
   "cell_type": "code",
   "execution_count": null,
   "id": "509d58a8",
   "metadata": {},
   "outputs": [],
   "source": []
  }
 ],
 "metadata": {
  "kernelspec": {
   "display_name": "Python 3 (ipykernel)",
   "language": "python",
   "name": "python3"
  },
  "language_info": {
   "codemirror_mode": {
    "name": "ipython",
    "version": 3
   },
   "file_extension": ".py",
   "mimetype": "text/x-python",
   "name": "python",
   "nbconvert_exporter": "python",
   "pygments_lexer": "ipython3",
   "version": "3.8.19"
  }
 },
 "nbformat": 4,
 "nbformat_minor": 5
}
