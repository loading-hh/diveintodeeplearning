{
 "cells": [
  {
   "cell_type": "markdown",
   "id": "db50ea0f",
   "metadata": {},
   "source": [
    "# 树叶分类kaggle竞赛\n",
    "使用ResNet来对所给数据集进行训练。"
   ]
  },
  {
   "cell_type": "code",
   "execution_count": 1,
   "id": "ffb380f9",
   "metadata": {},
   "outputs": [
    {
     "name": "stdout",
     "output_type": "stream",
     "text": [
      "Mon Nov 18 17:05:47 2024       \n",
      "+-----------------------------------------------------------------------------------------+\n",
      "| NVIDIA-SMI 560.94                 Driver Version: 560.94         CUDA Version: 12.6     |\n",
      "|-----------------------------------------+------------------------+----------------------+\n",
      "| GPU  Name                  Driver-Model | Bus-Id          Disp.A | Volatile Uncorr. ECC |\n",
      "| Fan  Temp   Perf          Pwr:Usage/Cap |           Memory-Usage | GPU-Util  Compute M. |\n",
      "|                                         |                        |               MIG M. |\n",
      "|=========================================+========================+======================|\n",
      "|   0  NVIDIA GeForce GTX 1060 6GB  WDDM  |   00000000:01:00.0  On |                  N/A |\n",
      "|  0%   51C    P8              7W /  120W |     333MiB /   6144MiB |      3%      Default |\n",
      "|                                         |                        |                  N/A |\n",
      "+-----------------------------------------+------------------------+----------------------+\n",
      "                                                                                         \n",
      "+-----------------------------------------------------------------------------------------+\n",
      "| Processes:                                                                              |\n",
      "|  GPU   GI   CI        PID   Type   Process name                              GPU Memory |\n",
      "|        ID   ID                                                               Usage      |\n",
      "|=========================================================================================|\n",
      "|    0   N/A  N/A      5296    C+G   ...5n1h2txyewy\\ShellExperienceHost.exe      N/A      |\n",
      "|    0   N/A  N/A      5908    C+G   C:\\Windows\\explorer.exe                     N/A      |\n",
      "|    0   N/A  N/A     11900    C+G   ...ekyb3d8bbwe\\PhoneExperienceHost.exe      N/A      |\n",
      "|    0   N/A  N/A     14384    C+G   ...crosoft\\Edge\\Application\\msedge.exe      N/A      |\n",
      "|    0   N/A  N/A     14552    C+G   ...2txyewy\\StartMenuExperienceHost.exe      N/A      |\n",
      "|    0   N/A  N/A     18668    C+G   ...CBS_cw5n1h2txyewy\\TextInputHost.exe      N/A      |\n",
      "|    0   N/A  N/A     19832    C+G   ...1.0_x64__8wekyb3d8bbwe\\Video.UI.exe      N/A      |\n",
      "|    0   N/A  N/A     20464    C+G   ...nt.CBS_cw5n1h2txyewy\\SearchHost.exe      N/A      |\n",
      "+-----------------------------------------------------------------------------------------+\n"
     ]
    }
   ],
   "source": [
    "!nvidia-smi"
   ]
  },
  {
   "cell_type": "code",
   "execution_count": 2,
   "id": "6ce24d01",
   "metadata": {},
   "outputs": [],
   "source": [
    "import random\n",
    "import cv2 as cv\n",
    "import numpy as np\n",
    "import pandas as pd\n",
    "from PIL import Image\n",
    "import torch\n",
    "import torchvision\n",
    "from torch import nn\n",
    "from IPython import display\n",
    "from torch.utils import data\n",
    "from torchvision import models\n",
    "from torchvision import transforms\n",
    "from torch.nn import functional as F\n",
    "import matplotlib.pyplot as plt\n",
    "%matplotlib inline"
   ]
  },
  {
   "cell_type": "markdown",
   "id": "60e612f8",
   "metadata": {},
   "source": [
    "## 1 读取数据"
   ]
  },
  {
   "cell_type": "code",
   "execution_count": 3,
   "id": "3f8f2aaf",
   "metadata": {},
   "outputs": [
    {
     "data": {
      "text/plain": [
       "(image         object\n",
       " label         object\n",
       " num_label    float64\n",
       " dtype: object,\n",
       " (18353, 3))"
      ]
     },
     "execution_count": 3,
     "metadata": {},
     "output_type": "execute_result"
    }
   ],
   "source": [
    "train_data_label = pd.read_csv(\"data/train.csv\")\n",
    "train_data_label.dtypes, train_data_label.shape"
   ]
  },
  {
   "cell_type": "code",
   "execution_count": 4,
   "id": "4df572c2",
   "metadata": {},
   "outputs": [
    {
     "name": "stdout",
     "output_type": "stream",
     "text": [
      "          image                     label  num_label\n",
      "0  images/0.jpg          maclura_pomifera        NaN\n",
      "1  images/1.jpg          maclura_pomifera        NaN\n",
      "2  images/2.jpg          maclura_pomifera        NaN\n",
      "3  images/3.jpg          maclura_pomifera        NaN\n",
      "4  images/4.jpg          maclura_pomifera        NaN\n",
      "5  images/5.jpg          maclura_pomifera        NaN\n",
      "6  images/6.jpg               ulmus_rubra        NaN\n",
      "7  images/7.jpg  broussonettia_papyrifera        NaN\n"
     ]
    }
   ],
   "source": [
    "print(train_data_label.iloc[0:8])"
   ]
  },
  {
   "cell_type": "markdown",
   "id": "4bec2a13",
   "metadata": {},
   "source": [
    "## 2 对label列进行编码分类"
   ]
  },
  {
   "cell_type": "code",
   "execution_count": 5,
   "id": "12c6e4e2",
   "metadata": {},
   "outputs": [],
   "source": [
    "num_label, leave_name= pd.factorize(train_data_label['label'])\n",
    "train_data_label[\"num_label\"] = num_label"
   ]
  },
  {
   "cell_type": "code",
   "execution_count": 6,
   "id": "4766f364",
   "metadata": {},
   "outputs": [
    {
     "data": {
      "text/plain": [
       "(            image                     label  num_label\n",
       " 0    images/0.jpg          maclura_pomifera          0\n",
       " 1    images/1.jpg          maclura_pomifera          0\n",
       " 2    images/2.jpg          maclura_pomifera          0\n",
       " 3    images/3.jpg          maclura_pomifera          0\n",
       " 4    images/4.jpg          maclura_pomifera          0\n",
       " 5    images/5.jpg          maclura_pomifera          0\n",
       " 6    images/6.jpg               ulmus_rubra          1\n",
       " 7    images/7.jpg  broussonettia_papyrifera          2\n",
       " 8    images/8.jpg          maclura_pomifera          0\n",
       " 9    images/9.jpg  broussonettia_papyrifera          2\n",
       " 10  images/10.jpg          maclura_pomifera          0\n",
       " 11  images/11.jpg         prunus_virginiana          3\n",
       " 12  images/12.jpg          maclura_pomifera          0\n",
       " 13  images/13.jpg         prunus_virginiana          3\n",
       " 14  images/14.jpg  broussonettia_papyrifera          2\n",
       " 15  images/15.jpg          maclura_pomifera          0\n",
       " 16  images/16.jpg          maclura_pomifera          0\n",
       " 17  images/17.jpg  broussonettia_papyrifera          2\n",
       " 18  images/18.jpg          maclura_pomifera          0\n",
       " 19  images/19.jpg               ulmus_rubra          1,\n",
       " 'images/0.jpg',\n",
       " 18353)"
      ]
     },
     "execution_count": 6,
     "metadata": {},
     "output_type": "execute_result"
    }
   ],
   "source": [
    "train_data_label[0:20], train_data_label[\"image\"][0], len(train_data_label[\"image\"])"
   ]
  },
  {
   "cell_type": "markdown",
   "id": "5d2f2850",
   "metadata": {},
   "source": [
    "## 3 加载自己数据集"
   ]
  },
  {
   "cell_type": "markdown",
   "id": "46b2e27b",
   "metadata": {},
   "source": [
    "### 3.1 生成随机数\n",
    "- 因为这个电脑无法加载所有图片，但可通过opencv来读取，然后再转换为PIL类型数据，因为pytorch中的图像增强只能用PIL类型的数据。"
   ]
  },
  {
   "cell_type": "markdown",
   "id": "415b3cf3",
   "metadata": {},
   "source": [
    "### 3.1 自定义自己的Dataset类"
   ]
  },
  {
   "cell_type": "code",
   "execution_count": 7,
   "id": "34526b01",
   "metadata": {},
   "outputs": [],
   "source": [
    "class MyDataset(torch.utils.data.Dataset):\n",
    "    def __init__(self, data_path, data_label, image_name, transforms = None):\n",
    "        super().__init__()\n",
    "        self.img_path = data_path\n",
    "        #self.label = torch.tensor(data_label)\n",
    "        self.image_name = image_name\n",
    "        self.transforms = transforms\n",
    "        #num = random.sample(range(0,len(train_data_label[\"image\"])),10000)\n",
    "        img = []\n",
    "        label = []\n",
    "        for i in range(len(image_name)):\n",
    "            img_path = self.img_path + '/' + image_name[i]\n",
    "            cv_image = cv.imread(img_path)\n",
    "            image = Image.fromarray(cv.cvtColor(cv_image, cv.COLOR_BGR2RGB))\n",
    "            img.append(image)\n",
    "            #image.close()\n",
    "            label.append(torch.tensor(data_label[i]))\n",
    "        self.data = img\n",
    "        self.label = label\n",
    "        \n",
    "    def __getitem__(self, index):\n",
    "        data = self.data[index]\n",
    "        labels = self.label[index]\n",
    "        if self.transforms != None:\n",
    "            data = self.transforms(data)\n",
    "        \n",
    "        return data, labels\n",
    "    \n",
    "    def __len__(self):\n",
    "        return len(self.data)\n"
   ]
  },
  {
   "cell_type": "code",
   "execution_count": 8,
   "id": "d808580b",
   "metadata": {},
   "outputs": [],
   "source": [
    "img_path = \"C:/Users/CCU6/Desktop/classify-leaves\"\n",
    "normalize = transforms.Normalize([0.485, 0.456, 0.406], [0.229, 0.224, 0.225]) ##Imagenet中的图片的均值与方差。\n",
    "trans = transforms.Compose([transforms.RandomHorizontalFlip(p = 0.5), \n",
    "                            transforms.RandomVerticalFlip(p = 0.5), \n",
    "                            transforms.ToTensor(),   #transforms.ToTensor()会归一化\n",
    "                            normalize])\n",
    "all_data = MyDataset(img_path, num_label, train_data_label[\"image\"], trans)"
   ]
  },
  {
   "cell_type": "code",
   "execution_count": 9,
   "id": "da36645f",
   "metadata": {},
   "outputs": [
    {
     "data": {
      "text/plain": [
       "(18353,\n",
       " (tensor([[[2.2318, 2.2318, 2.2318,  ..., 2.2318, 2.2318, 2.2318],\n",
       "           [2.2318, 2.2318, 2.2318,  ..., 2.2318, 2.2318, 2.2318],\n",
       "           [2.2318, 2.2318, 2.2318,  ..., 2.2318, 2.2318, 2.2318],\n",
       "           ...,\n",
       "           [2.2318, 2.2318, 2.2318,  ..., 2.2318, 2.2318, 2.2318],\n",
       "           [2.2318, 2.2318, 2.2318,  ..., 2.2318, 2.2318, 2.2318],\n",
       "           [2.2318, 2.2318, 2.2318,  ..., 2.2318, 2.2318, 2.2318]],\n",
       "  \n",
       "          [[2.4111, 2.4111, 2.4111,  ..., 2.4111, 2.4111, 2.4111],\n",
       "           [2.4111, 2.4111, 2.4111,  ..., 2.4111, 2.4111, 2.4111],\n",
       "           [2.4111, 2.4111, 2.4111,  ..., 2.4111, 2.4111, 2.4111],\n",
       "           ...,\n",
       "           [2.4111, 2.4111, 2.4111,  ..., 2.4111, 2.4111, 2.4111],\n",
       "           [2.4111, 2.4111, 2.4111,  ..., 2.4111, 2.4111, 2.4111],\n",
       "           [2.4111, 2.4111, 2.4111,  ..., 2.4111, 2.4111, 2.4111]],\n",
       "  \n",
       "          [[2.6226, 2.6226, 2.6226,  ..., 2.6226, 2.6226, 2.6226],\n",
       "           [2.6226, 2.6226, 2.6226,  ..., 2.6226, 2.6226, 2.6226],\n",
       "           [2.6226, 2.6226, 2.6226,  ..., 2.6226, 2.6226, 2.6226],\n",
       "           ...,\n",
       "           [2.6226, 2.6226, 2.6226,  ..., 2.6226, 2.6226, 2.6226],\n",
       "           [2.6226, 2.6226, 2.6226,  ..., 2.6226, 2.6226, 2.6226],\n",
       "           [2.6226, 2.6226, 2.6226,  ..., 2.6226, 2.6226, 2.6226]]]),\n",
       "  tensor(0)),\n",
       " 18352)"
      ]
     },
     "execution_count": 9,
     "metadata": {},
     "output_type": "execute_result"
    }
   ],
   "source": [
    "len(all_data), all_data[0], int(len(all_data) * 0.9) + int(len(all_data) * 0.1)"
   ]
  },
  {
   "cell_type": "code",
   "execution_count": 10,
   "id": "6248c38b",
   "metadata": {},
   "outputs": [],
   "source": [
    "#切分数据集的函数，采取数据集样本是由第三个参数，可以使用默认随机采样，切分后数据集是没有重复的。故可以将源数据切分为训练集，验证集，测试集。\n",
    "#第二个参数是个整数列表，指定每个分割后的数据集的长度\n",
    "train_data, val_data = torch.utils.data.random_split(all_data, [int(len(all_data) * 0.9), (len(all_data) - int(len(all_data) * 0.9))])"
   ]
  },
  {
   "cell_type": "code",
   "execution_count": 11,
   "id": "57bcebcf",
   "metadata": {},
   "outputs": [
    {
     "data": {
      "text/plain": [
       "(<torch.utils.data.dataset.Subset at 0x15c1031d250>,\n",
       " 16517,\n",
       " 1836,\n",
       " (tensor([[[1.4098, 1.4098, 1.4098,  ..., 1.3927, 1.4098, 1.4098],\n",
       "           [1.4098, 1.4098, 1.4098,  ..., 1.3927, 1.4098, 1.4098],\n",
       "           [1.4098, 1.4098, 1.4098,  ..., 1.3927, 1.4098, 1.4098],\n",
       "           ...,\n",
       "           [1.4098, 1.4098, 1.4098,  ..., 1.3927, 1.3927, 1.3927],\n",
       "           [1.4098, 1.4098, 1.4098,  ..., 1.3927, 1.3927, 1.3927],\n",
       "           [1.4098, 1.4098, 1.4098,  ..., 1.3927, 1.3927, 1.3927]],\n",
       "  \n",
       "          [[1.5707, 1.5707, 1.5707,  ..., 1.7283, 1.7458, 1.7458],\n",
       "           [1.5707, 1.5707, 1.5707,  ..., 1.7283, 1.7458, 1.7458],\n",
       "           [1.5707, 1.5707, 1.5707,  ..., 1.7283, 1.7458, 1.7458],\n",
       "           ...,\n",
       "           [1.5707, 1.5707, 1.5707,  ..., 1.7283, 1.7283, 1.7283],\n",
       "           [1.5707, 1.5707, 1.5707,  ..., 1.7283, 1.7283, 1.7283],\n",
       "           [1.5707, 1.5707, 1.5707,  ..., 1.7283, 1.7283, 1.7283]],\n",
       "  \n",
       "          [[1.7860, 1.7860, 1.7860,  ..., 1.8034, 1.8208, 1.8208],\n",
       "           [1.7860, 1.7860, 1.7860,  ..., 1.8034, 1.8208, 1.8208],\n",
       "           [1.7860, 1.7860, 1.7860,  ..., 1.8034, 1.8208, 1.8208],\n",
       "           ...,\n",
       "           [1.7860, 1.7860, 1.7860,  ..., 1.7860, 1.7860, 1.7860],\n",
       "           [1.7860, 1.7860, 1.7860,  ..., 1.7860, 1.7860, 1.7860],\n",
       "           [1.7860, 1.7860, 1.7860,  ..., 1.7860, 1.7860, 1.7860]]]),\n",
       "  tensor(117)))"
      ]
     },
     "execution_count": 11,
     "metadata": {},
     "output_type": "execute_result"
    }
   ],
   "source": [
    "train_data, len(train_data), len(val_data), train_data[0]"
   ]
  },
  {
   "cell_type": "code",
   "execution_count": 12,
   "id": "d55db112",
   "metadata": {},
   "outputs": [],
   "source": [
    "train = torch.utils.data.DataLoader(train_data, batch_size = 128, shuffle = True, num_workers = 0)\n",
    "val = torch.utils.data.DataLoader(val_data, batch_size = 128, shuffle = True, num_workers = 0)"
   ]
  },
  {
   "cell_type": "code",
   "execution_count": 13,
   "id": "64aaf818",
   "metadata": {},
   "outputs": [
    {
     "data": {
      "text/plain": [
       "(130, 15)"
      ]
     },
     "execution_count": 13,
     "metadata": {},
     "output_type": "execute_result"
    }
   ],
   "source": [
    "len(train), len(val)"
   ]
  },
  {
   "cell_type": "markdown",
   "id": "a19cb7cc",
   "metadata": {},
   "source": [
    "## 4 定义ResNet模型"
   ]
  },
  {
   "cell_type": "markdown",
   "id": "a78db9c9",
   "metadata": {},
   "source": [
    "### 4.1 自定义Restidual类"
   ]
  },
  {
   "cell_type": "code",
   "execution_count": 14,
   "id": "108f3efc",
   "metadata": {},
   "outputs": [],
   "source": [
    "class Restidual(nn.Module):\n",
    "    def __init__(self, input_channels, num_channels, use_1x1conv = False, strides = 1, **kwargs):\n",
    "        super().__init__(**kwargs)\n",
    "        self.conv1 = nn.Conv2d(in_channels = input_channels, out_channels = num_channels, \n",
    "                               kernel_size = 3, padding = 1, stride = strides)\n",
    "        self.conv2 = nn.Conv2d(in_channels = num_channels, out_channels = num_channels, \n",
    "                               kernel_size = 3, padding = 1, stride = 1)\n",
    "        if use_1x1conv == True:\n",
    "            self.conv3 = nn.Conv2d(in_channels = input_channels, out_channels = num_channels, \n",
    "                                   kernel_size = 1, stride = strides)\n",
    "        else:\n",
    "            self.conv3 = None\n",
    "        self.bn1 = nn.BatchNorm2d(num_channels)\n",
    "        self.bn2 = nn.BatchNorm2d(num_channels)\n",
    "    \n",
    "    def forward(self, X):\n",
    "        Y = F.relu(self.bn1(self.conv1(X)))\n",
    "        Y = self.bn2(self.conv2(Y))\n",
    "        if self.conv3 != None:\n",
    "            X = self.conv3(X)\n",
    "        Y += X\n",
    "        \n",
    "        return F.relu(Y)"
   ]
  },
  {
   "cell_type": "markdown",
   "id": "ff066ca0",
   "metadata": {},
   "source": [
    "### 4.2 自定义resnet块"
   ]
  },
  {
   "cell_type": "code",
   "execution_count": 15,
   "id": "b64c8f59",
   "metadata": {},
   "outputs": [],
   "source": [
    "def resnet_block(input_channels, num_channels, num_restiduals, first_block = True):\n",
    "    blk = []\n",
    "    for i in range(num_restiduals):\n",
    "        if (i == 0) and (first_block == True):\n",
    "            blk.append(Restidual(input_channels, num_channels, use_1x1conv = True, strides = 2))\n",
    "        else:\n",
    "            blk.append(Restidual(num_channels, num_channels))\n",
    "    return blk"
   ]
  },
  {
   "cell_type": "code",
   "execution_count": 16,
   "id": "8310ed92",
   "metadata": {},
   "outputs": [],
   "source": [
    "b1 = nn.Sequential(nn.Conv2d(1, 64, kernel_size=7, stride=2, padding=3),\n",
    "                   nn.BatchNorm2d(64), nn.ReLU(),\n",
    "                   nn.MaxPool2d(kernel_size=3, stride=2, padding=1))\n",
    "b2 = nn.Sequential(*resnet_block(64, 64, 2, first_block = False))\n",
    "b3 = nn.Sequential(*resnet_block(64, 128, 2))\n",
    "b4 = nn.Sequential(*resnet_block(128, 256, 2))\n",
    "b5 = nn.Sequential(*resnet_block(256, 512, 2))"
   ]
  },
  {
   "cell_type": "code",
   "execution_count": 17,
   "id": "f46d74bb",
   "metadata": {},
   "outputs": [],
   "source": [
    "net1 = nn.Sequential(b1, b2, b3, b4, b5,\n",
    "                    nn.AdaptiveAvgPool2d((1,1)),\n",
    "                    nn.Flatten(), nn.Linear(512, 176))"
   ]
  },
  {
   "cell_type": "code",
   "execution_count": 18,
   "id": "a8bd1aff",
   "metadata": {},
   "outputs": [
    {
     "name": "stdout",
     "output_type": "stream",
     "text": [
      "Sequential output shape:\t torch.Size([1, 64, 56, 56])\n",
      "Sequential output shape:\t torch.Size([1, 64, 56, 56])\n",
      "Sequential output shape:\t torch.Size([1, 128, 28, 28])\n",
      "Sequential output shape:\t torch.Size([1, 256, 14, 14])\n",
      "Sequential output shape:\t torch.Size([1, 512, 7, 7])\n",
      "AdaptiveAvgPool2d output shape:\t torch.Size([1, 512, 1, 1])\n",
      "Flatten output shape:\t torch.Size([1, 512])\n",
      "Linear output shape:\t torch.Size([1, 176])\n"
     ]
    }
   ],
   "source": [
    "X = torch.rand(size=(1, 1, 224, 224))\n",
    "for layer in net1:\n",
    "    X = layer(X)\n",
    "    print(layer.__class__.__name__,'output shape:\\t', X.shape)"
   ]
  },
  {
   "cell_type": "markdown",
   "id": "b2de7464",
   "metadata": {},
   "source": [
    "### 4.3 加载ResNet18预训练模型"
   ]
  },
  {
   "cell_type": "code",
   "execution_count": 19,
   "id": "0ecdb934",
   "metadata": {},
   "outputs": [
    {
     "name": "stdout",
     "output_type": "stream",
     "text": [
      "Linear(in_features=512, out_features=1000, bias=True)\n"
     ]
    },
    {
     "data": {
      "text/plain": [
       "Parameter containing:\n",
       "tensor([[-0.0503, -0.0478, -0.0022,  ..., -0.0183,  0.0106, -0.0380],\n",
       "        [-0.0466,  0.0374, -0.0611,  ...,  0.0004, -0.0926, -0.0715],\n",
       "        [ 0.0385, -0.0412, -0.0076,  ..., -0.0905, -0.0872, -0.0562],\n",
       "        ...,\n",
       "        [-0.0531, -0.0715,  0.0458,  ..., -0.0158,  0.0198, -0.0221],\n",
       "        [-0.0317, -0.0877, -0.0932,  ...,  0.0193,  0.0926,  0.0597],\n",
       "        [ 0.0863,  0.0094, -0.0647,  ...,  0.0044,  0.0624,  0.0742]],\n",
       "       requires_grad=True)"
      ]
     },
     "execution_count": 19,
     "metadata": {},
     "output_type": "execute_result"
    }
   ],
   "source": [
    "net = models.resnet18(weights = \"ResNet18_Weights.IMAGENET1K_V1\")\n",
    "print(net.fc)\n",
    "net.fc = nn.Linear(in_features = net.fc.in_features, out_features = 176)\n",
    "nn.init.xavier_uniform_(net.fc.weight)"
   ]
  },
  {
   "cell_type": "code",
   "execution_count": 20,
   "id": "ac857ffe",
   "metadata": {},
   "outputs": [
    {
     "data": {
      "text/plain": [
       "<generator object Module.parameters at 0x0000015C74B5D890>"
      ]
     },
     "execution_count": 20,
     "metadata": {},
     "output_type": "execute_result"
    }
   ],
   "source": [
    "net.fc.parameters()"
   ]
  },
  {
   "cell_type": "markdown",
   "id": "0fee52b7",
   "metadata": {},
   "source": [
    "## 5 训练模型"
   ]
  },
  {
   "cell_type": "markdown",
   "id": "a7d55d24",
   "metadata": {},
   "source": [
    "### 5.1 绘制动图"
   ]
  },
  {
   "cell_type": "code",
   "execution_count": 21,
   "id": "51219b28",
   "metadata": {},
   "outputs": [],
   "source": [
    "def plot_image(num, i, train_loss_his, val_loss_his, train_his_acc, val_his_acc):\n",
    "    plt.figure(num = num)\n",
    "    plt.ion()\n",
    "    plt.cla()\n",
    "    ax1 = plt.subplot2grid((1, 2), (0, 0), colspan=1, rowspan=1)\n",
    "    ax1.set_xlim((0, num_epochs))\n",
    "    #ax1.set_ylim(0, 1.6)\n",
    "    ax1.plot(range(i + 1), train_loss_his, label='train_loss')\n",
    "    ax1.plot(range(i + 1), val_loss_his, label='val_loss')\n",
    "    ax1.grid()\n",
    "    ax1.legend()\n",
    "    ax2 = plt.subplot2grid((1, 2), (0, 1), colspan=1, rowspan=1)\n",
    "    ax2.set_xlim(0, num_epochs)\n",
    "    ax2.set_ylim(0, 1)\n",
    "    ax2.plot(range(i + 1), train_his_acc, label='train_accuracy')\n",
    "    ax2.plot(range(i + 1), val_his_acc, label='val_accuracy')\n",
    "    ax2.grid()\n",
    "    ax2.legend()\n",
    "    display.clear_output(wait=True)\n",
    "    plt.pause(0.0000001)\n",
    "    plt.ioff()\n",
    "    plt.show()"
   ]
  },
  {
   "cell_type": "markdown",
   "id": "b3e3a65d",
   "metadata": {},
   "source": [
    "### 5.2 将网络参数用xavier初始化"
   ]
  },
  {
   "cell_type": "code",
   "execution_count": 22,
   "id": "ccefe956",
   "metadata": {},
   "outputs": [],
   "source": [
    "def init_weight(m):\n",
    "    if type(m) == nn.Linear or type(m) == nn.Conv2d:\n",
    "        nn.init.xavier_uniform_(m.weight)"
   ]
  },
  {
   "cell_type": "markdown",
   "id": "467332f4",
   "metadata": {},
   "source": [
    "### 5.3 训练函数\n",
    "- 这里面使用了小批量梯度下降，如果不用批量梯度下降的话（其他参数不变），网络就会不收敛，准确率一直在0.1附近。"
   ]
  },
  {
   "cell_type": "code",
   "execution_count": 24,
   "id": "3bc3d9f7",
   "metadata": {},
   "outputs": [],
   "source": [
    "def train_model(net, all_data, num_epochs, batch_size, alpha, device):\n",
    "    #定义的东西\n",
    "    train_loss_his = []\n",
    "    val_loss_his = []\n",
    "    train_his_acc = []\n",
    "    val_his_acc = []\n",
    "    #优化器\n",
    "    param_1x = [param for name, param in net.named_parameters() if name not in [\"fc.weight\", \"fc.bias\"]]\n",
    "    #数据集划分为训练集与验证集\n",
    "    train_data, val_data = torch.utils.data.random_split(all_data, [int(len(all_data) * 0.9), (len(all_data) - int(len(all_data) * 0.9))])\n",
    "    train_data_batch = torch.utils.data.DataLoader(train_data, batch_size = batch_size, shuffle = True, num_workers = 0)\n",
    "    val_data_batch = torch.utils.data.DataLoader(val_data, batch_size = batch_size, shuffle = True, num_workers = 0)\n",
    "    #正式代码\n",
    "    #net.apply(init_weight)\n",
    "    print(f\"train on:{device}\")\n",
    "    net.to(device)\n",
    "    optimizer = torch.optim.SGD([{\"params\": param_1x}, \n",
    "                                 {\"params\": net.fc.parameters(), \"lr\": 0.0008}], \n",
    "                                lr = alpha, weight_decay=0.001)\n",
    "    loss = nn.CrossEntropyLoss(reduction='none')\n",
    "    for i in range(num_epochs):\n",
    "        train_loss = 0.\n",
    "        train_acc = 0.\n",
    "        net.train()\n",
    "        #每次迭代用batch_size大小的数据集进行训练，一轮共every_num_epoch此迭代。\n",
    "        for k, (data_train, label_train) in enumerate(train_data_batch):\n",
    "            data_train_k = data_train.to(device)\n",
    "            label_train_k = label_train.to(device)\n",
    "            optimizer.zero_grad()\n",
    "            y_trian_hat = net(data_train_k)\n",
    "            l_train = loss(y_trian_hat, label_train_k)\n",
    "            l_train.mean().backward()\n",
    "            optimizer.step()\n",
    "            with torch.no_grad():\n",
    "                train_max_hat = torch.argmax(y_trian_hat, dim = 1)\n",
    "                train_acc_k = sum(train_max_hat == label_train_k)\n",
    "                train_acc += train_acc_k\n",
    "                train_loss += l_train.sum()\n",
    "        \n",
    "        net.eval()\n",
    "        with torch.no_grad():\n",
    "            val_loss = 0.\n",
    "            val_acc = 0.\n",
    "            #验证集的预测\n",
    "            for data_val, label_val in val_data_batch:\n",
    "                data_val_k = data_val.to(device)\n",
    "                label_val_k = label_val.to(device)\n",
    "                y_val_hat = net(data_val_k)\n",
    "                val_max_hat = torch.argmax(y_val_hat, dim = 1)\n",
    "                val_acc_k = sum(val_max_hat == label_val_k)\n",
    "                l_val = loss(y_val_hat, label_val_k)\n",
    "                val_acc += val_acc_k\n",
    "                val_loss += l_val.sum()\n",
    "            \n",
    "            train_loss_his.append(((train_loss * 1.0)/len(train_data)).cpu())\n",
    "            val_loss_his.append(((val_loss * 1.0)/len(val_data)).cpu())\n",
    "            train_his_acc.append(((train_acc * 1.0)/len(train_data)).cpu())\n",
    "            val_his_acc.append(((val_acc * 1.0)/len(val_data)).cpu())\n",
    "        #画出每次迭代的图\n",
    "        plot_image(2, i, train_loss_his, val_loss_his, train_his_acc, val_his_acc)\n",
    "    print(f\"train acc:{max(train_his_acc)}, test acc:{max(val_his_acc)}\")\n",
    "    \n",
    "    return train_loss_his, val_loss_his, train_his_acc, val_his_acc"
   ]
  },
  {
   "cell_type": "code",
   "execution_count": 25,
   "id": "a4e06635",
   "metadata": {},
   "outputs": [],
   "source": [
    "device = torch.device(\"cuda:0\")\n",
    "num_epochs, alpha, batch_size = 30, 0.0005, 128\n",
    "net = torch.load(\"data/leave_model_transfer_learning.pt\")"
   ]
  },
  {
   "cell_type": "code",
   "execution_count": 26,
   "id": "6818c30e",
   "metadata": {},
   "outputs": [
    {
     "data": {
      "image/png": "[encoded data removed]",
      "text/plain": [
       "<Figure size 640x480 with 2 Axes>"
      ]
     },
     "metadata": {},
     "output_type": "display_data"
    },
    {
     "name": "stdout",
     "output_type": "stream",
     "text": [
      "train acc:0.9817763566970825, test acc:0.9803921580314636\n"
     ]
    }
   ],
   "source": [
    "train_loss_his, test_loss_his, train_his_acc, test_his_acc = train_model(net, all_data, num_epochs, batch_size, alpha, device)"
   ]
  },
  {
   "cell_type": "code",
   "execution_count": 27,
   "id": "fc788505",
   "metadata": {},
   "outputs": [
    {
     "name": "stdout",
     "output_type": "stream",
     "text": [
      "Fri Nov 15 15:39:41 2024       \n",
      "+-----------------------------------------------------------------------------------------+\n",
      "| NVIDIA-SMI 560.94                 Driver Version: 560.94         CUDA Version: 12.6     |\n",
      "|-----------------------------------------+------------------------+----------------------+\n",
      "| GPU  Name                  Driver-Model | Bus-Id          Disp.A | Volatile Uncorr. ECC |\n",
      "| Fan  Temp   Perf          Pwr:Usage/Cap |           Memory-Usage | GPU-Util  Compute M. |\n",
      "|                                         |                        |               MIG M. |\n",
      "|=========================================+========================+======================|\n",
      "|   0  NVIDIA GeForce GTX 1060 6GB  WDDM  |   00000000:01:00.0  On |                  N/A |\n",
      "| 16%   54C    P8              8W /  120W |    5142MiB /   6144MiB |      2%      Default |\n",
      "|                                         |                        |                  N/A |\n",
      "+-----------------------------------------+------------------------+----------------------+\n",
      "                                                                                         \n",
      "+-----------------------------------------------------------------------------------------+\n",
      "| Processes:                                                                              |\n",
      "|  GPU   GI   CI        PID   Type   Process name                              GPU Memory |\n",
      "|        ID   ID                                                               Usage      |\n",
      "|=========================================================================================|\n",
      "|    0   N/A  N/A      1572    C+G   ...CBS_cw5n1h2txyewy\\TextInputHost.exe      N/A      |\n",
      "|    0   N/A  N/A      5264    C+G   C:\\Windows\\explorer.exe                     N/A      |\n",
      "|    0   N/A  N/A      5888      C   ...aconda3\\envs\\pytorch_gpu\\python.exe      N/A      |\n",
      "|    0   N/A  N/A      5912    C+G   ...5n1h2txyewy\\ShellExperienceHost.exe      N/A      |\n",
      "|    0   N/A  N/A      7564    C+G   ...ekyb3d8bbwe\\PhoneExperienceHost.exe      N/A      |\n",
      "|    0   N/A  N/A     11152    C+G   ...nt.CBS_cw5n1h2txyewy\\SearchHost.exe      N/A      |\n",
      "|    0   N/A  N/A     16748    C+G   ...2txyewy\\StartMenuExperienceHost.exe      N/A      |\n",
      "|    0   N/A  N/A     19620    C+G   ...crosoft\\Edge\\Application\\msedge.exe      N/A      |\n",
      "+-----------------------------------------------------------------------------------------+\n"
     ]
    }
   ],
   "source": [
    "!nvidia-smi\n",
    "torch.save(net, \"data/leave_model_transfer_learning.pt\")"
   ]
  },
  {
   "cell_type": "markdown",
   "id": "d1bd4445",
   "metadata": {},
   "source": [
    "## 6 预测类别，并将类别填到test.csv文件中"
   ]
  },
  {
   "cell_type": "code",
   "execution_count": 28,
   "id": "63a886e7",
   "metadata": {},
   "outputs": [
    {
     "data": {
      "text/plain": [
       "(image     object\n",
       " label    float64\n",
       " dtype: object,\n",
       " (8800, 2))"
      ]
     },
     "execution_count": 28,
     "metadata": {},
     "output_type": "execute_result"
    }
   ],
   "source": [
    "test_data = pd.read_csv(\"data/test.csv\")\n",
    "test_data.dtypes, test_data.shape"
   ]
  },
  {
   "cell_type": "code",
   "execution_count": 29,
   "id": "c049817d",
   "metadata": {},
   "outputs": [
    {
     "name": "stdout",
     "output_type": "stream",
     "text": [
      "              image  label\n",
      "0  images/18353.jpg    NaN\n",
      "1  images/18354.jpg    NaN\n",
      "2  images/18355.jpg    NaN\n",
      "3  images/18356.jpg    NaN\n",
      "4  images/18357.jpg    NaN\n",
      "5  images/18358.jpg    NaN\n",
      "6  images/18359.jpg    NaN\n",
      "7  images/18360.jpg    NaN\n"
     ]
    },
    {
     "data": {
      "text/plain": [
       "(None,\n",
       " 0      NaN\n",
       " 1      NaN\n",
       " 2      NaN\n",
       " 3      NaN\n",
       " 4      NaN\n",
       "         ..\n",
       " 8795   NaN\n",
       " 8796   NaN\n",
       " 8797   NaN\n",
       " 8798   NaN\n",
       " 8799   NaN\n",
       " Name: label, Length: 8800, dtype: float64)"
      ]
     },
     "execution_count": 29,
     "metadata": {},
     "output_type": "execute_result"
    }
   ],
   "source": [
    "print(test_data.iloc[0:8]), test_data[\"label\"]"
   ]
  },
  {
   "cell_type": "code",
   "execution_count": 30,
   "id": "62f09bcf",
   "metadata": {},
   "outputs": [
    {
     "data": {
      "text/plain": [
       "('C:/Users/CCU6/Desktop/classify-leaves/images/18360.jpg', 8800)"
      ]
     },
     "execution_count": 30,
     "metadata": {},
     "output_type": "execute_result"
    }
   ],
   "source": [
    "\"C:/Users/CCU6/Desktop/classify-leaves\" + '/' + test_data[\"image\"][7], len(test_data)"
   ]
  },
  {
   "cell_type": "code",
   "execution_count": 31,
   "id": "4dd0e997",
   "metadata": {},
   "outputs": [],
   "source": [
    "img_path = \"C:/Users/CCU6/Desktop/classify-leaves\"\n",
    "test_trans = transforms.Compose([transforms.RandomHorizontalFlip(p = 0.5), \n",
    "                                 transforms.RandomVerticalFlip(p = 0.5), \n",
    "                                 transforms.ToTensor(),   #transforms.ToTensor()会归一化\n",
    "                            normalize])\n",
    "net.eval()\n",
    "label = []\n",
    "for i in range(len(test_data)):\n",
    "    img = Image.open(img_path + '/' + test_data[\"image\"][i])\n",
    "    input_img = test_trans(img).to(device).reshape(1, 3, 224, 224)\n",
    "    predicte = net(input_img)\n",
    "    label.append(leave_name[int(torch.argmax(predicte))])"
   ]
  },
  {
   "cell_type": "code",
   "execution_count": 33,
   "id": "23fd502b",
   "metadata": {},
   "outputs": [],
   "source": [
    "test_data[\"label\"] = label"
   ]
  },
  {
   "cell_type": "code",
   "execution_count": 34,
   "id": "27453213",
   "metadata": {},
   "outputs": [],
   "source": [
    "test_data.to_csv(\"submision.csv\", index=False)"
   ]
  },
  {
   "cell_type": "code",
   "execution_count": null,
   "id": "2674c8d3",
   "metadata": {},
   "outputs": [],
   "source": []
  }
 ],
 "metadata": {
  "kernelspec": {
   "display_name": "Python 3 (ipykernel)",
   "language": "python",
   "name": "python3"
  },
  "language_info": {
   "codemirror_mode": {
    "name": "ipython",
    "version": 3
   },
   "file_extension": ".py",
   "mimetype": "text/x-python",
   "name": "python",
   "nbconvert_exporter": "python",
   "pygments_lexer": "ipython3",
   "version": "3.8.19"
  }
 },
 "nbformat": 4,
 "nbformat_minor": 5
}
