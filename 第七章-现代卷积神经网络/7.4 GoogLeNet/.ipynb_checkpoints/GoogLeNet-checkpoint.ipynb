{
 "cells": [
  {
   "cell_type": "markdown",
   "id": "dbaadd56",
   "metadata": {},
   "source": [
    "# GoogLeNet\n",
    "使用卷积神经网络搭建GoogLeNet网络来对Fasion MNIST数据集进行训练。"
   ]
  },
  {
   "cell_type": "markdown",
   "id": "f3b00fc2",
   "metadata": {},
   "source": [
    "## 1 加载相关库"
   ]
  },
  {
   "cell_type": "code",
   "execution_count": 1,
   "id": "7393a28e",
   "metadata": {},
   "outputs": [],
   "source": [
    "import torch\n",
    "import torchvision\n",
    "from torch import nn\n",
    "from IPython import display\n",
    "from torch.utils import data\n",
    "from torchvision import transforms\n",
    "from torch.nn import functional as F\n",
    "import matplotlib.pyplot as plt\n",
    "%matplotlib inline"
   ]
  },
  {
   "cell_type": "markdown",
   "id": "5e23e793",
   "metadata": {},
   "source": [
    "## 2 搭建模型"
   ]
  },
  {
   "cell_type": "markdown",
   "id": "4a7de2cb",
   "metadata": {},
   "source": [
    "### 2.1 构造Inception块"
   ]
  },
  {
   "cell_type": "code",
   "execution_count": 2,
   "id": "16a3bef4",
   "metadata": {},
   "outputs": [],
   "source": [
    "class Inception(nn.Module):\n",
    "    def __init__(self, in_channels, c1, c2, c3, c4, **kwargs):\n",
    "        super(Inception, self).__init__(**kwargs)\n",
    "        #第一条路径卷积层\n",
    "        self.p1_1 = nn.Conv2d(in_channels = in_channels, out_channels = c1, kernel_size = 1, stride = 1)\n",
    "        #第二条路径卷积层\n",
    "        self.p2_1 = nn.Conv2d(in_channels = in_channels, out_channels = c2[0], kernel_size = 1, stride = 1)\n",
    "        self.p2_2 = nn.Conv2d(in_channels = c2[0], out_channels = c2[1], kernel_size = 3, stride = 1, padding = 1)\n",
    "        #第三条路径\n",
    "        self.p3_1 = nn.Conv2d(in_channels = in_channels, out_channels = c3[0], kernel_size = 1, stride = 1)\n",
    "        self.p3_2 = nn.Conv2d(in_channels = c3[0], out_channels = c3[1], kernel_size = 5, stride = 1, padding = 2)\n",
    "        #第四条路径\n",
    "        self.p4_1 = nn.MaxPool2d(kernel_size = 3, stride = 1, padding = 1)\n",
    "        self.p4_2 = nn.Conv2d(in_channels = in_channels, out_channels = c4, kernel_size = 1, stride = 1)\n",
    "    \n",
    "    def forward(self, x):\n",
    "        p1 = F.relu(self.p1_1(x))\n",
    "        p2 = F.relu(self.p2_2(F.relu(self.p2_1(x))))\n",
    "        p3 = F.relu(self.p3_2(F.relu(self.p3_1(x))))\n",
    "        p4 = F.relu(self.p4_2(self.p4_1(x)))\n",
    "        \n",
    "        return torch.cat((p1, p2, p3, p4), dim = 1)"
   ]
  },
  {
   "cell_type": "markdown",
   "id": "90d7aaaa",
   "metadata": {},
   "source": [
    "### 2.2 第一块"
   ]
  },
  {
   "cell_type": "code",
   "execution_count": 3,
   "id": "c438c809",
   "metadata": {},
   "outputs": [],
   "source": [
    "b1 = nn.Sequential(nn.Conv2d(in_channels = 1, out_channels = 64, kernel_size = 7, stride = 2, padding = 3), \n",
    "                   nn.ReLU(), \n",
    "                   nn.MaxPool2d(kernel_size = 3, stride = 2, padding = 1))"
   ]
  },
  {
   "cell_type": "markdown",
   "id": "4c208886",
   "metadata": {},
   "source": [
    "### 2.3 第二块"
   ]
  },
  {
   "cell_type": "code",
   "execution_count": 4,
   "id": "4626c22a",
   "metadata": {},
   "outputs": [],
   "source": [
    "b2 = nn.Sequential(nn.Conv2d(in_channels = 64, out_channels = 64, kernel_size = 1, stride = 1), \n",
    "                   nn.ReLU(), \n",
    "                   nn.Conv2d(in_channels = 64, out_channels = 192, kernel_size = 3, stride = 1, padding = 1), \n",
    "                   nn.ReLU(), \n",
    "                   nn.MaxPool2d(kernel_size = 3, stride = 2, padding = 1))"
   ]
  },
  {
   "cell_type": "markdown",
   "id": "51a75397",
   "metadata": {},
   "source": [
    "### 2.4 第三块"
   ]
  },
  {
   "cell_type": "code",
   "execution_count": 5,
   "id": "f914607b",
   "metadata": {},
   "outputs": [],
   "source": [
    "b3 = nn.Sequential(Inception(192, 64, (96, 128), (16, 32), 32), \n",
    "                   Inception(256, 128, (128, 192), (32, 96), 64), \n",
    "                   nn.MaxPool2d(kernel_size = 3, stride = 2, padding = 1))"
   ]
  },
  {
   "cell_type": "markdown",
   "id": "7ed423db",
   "metadata": {},
   "source": [
    "### 2.5 第四块"
   ]
  },
  {
   "cell_type": "code",
   "execution_count": 6,
   "id": "6103ab25",
   "metadata": {},
   "outputs": [],
   "source": [
    "b4 = nn.Sequential(Inception(480, 192, (96, 208), (16, 48), 64), \n",
    "                   Inception(512, 160, (112, 224), (24, 64), 64), \n",
    "                   Inception(512, 128, (128, 256), (24, 64), 64), \n",
    "                   Inception(512, 112, (144, 288), (32, 64), 64), \n",
    "                   Inception(528, 256, (160, 320), (32, 128), 128), \n",
    "                   nn.MaxPool2d(kernel_size = 3, stride = 2, padding = 1))"
   ]
  },
  {
   "cell_type": "markdown",
   "id": "888680da",
   "metadata": {},
   "source": [
    "### 2.6 第五块"
   ]
  },
  {
   "cell_type": "code",
   "execution_count": 7,
   "id": "3cb884b9",
   "metadata": {},
   "outputs": [],
   "source": [
    "b5 = nn.Sequential(Inception(832, 256, (160, 320), (32, 128), 128), \n",
    "                   Inception(832, 384, (192, 384), (48, 128), 128), \n",
    "                   nn.AdaptiveAvgPool2d((1, 1)), \n",
    "                   nn.Flatten())"
   ]
  },
  {
   "cell_type": "markdown",
   "id": "a6fc6495",
   "metadata": {},
   "source": [
    "### 2.7 模型"
   ]
  },
  {
   "cell_type": "code",
   "execution_count": 8,
   "id": "04d7c1de",
   "metadata": {},
   "outputs": [],
   "source": [
    "net = nn.Sequential(b1, b2, b3, b4, b5, nn.Linear(1024, 10))"
   ]
  },
  {
   "cell_type": "code",
   "execution_count": 9,
   "id": "8c50d3ee",
   "metadata": {},
   "outputs": [
    {
     "name": "stdout",
     "output_type": "stream",
     "text": [
      "Sequential output_shape:\t torch.Size([1, 64, 24, 24])\n",
      "Sequential output_shape:\t torch.Size([1, 192, 12, 12])\n",
      "Sequential output_shape:\t torch.Size([1, 480, 6, 6])\n",
      "Sequential output_shape:\t torch.Size([1, 832, 3, 3])\n",
      "Sequential output_shape:\t torch.Size([1, 1024])\n",
      "Linear output_shape:\t torch.Size([1, 10])\n"
     ]
    }
   ],
   "source": [
    "x = torch.rand(size=(1, 1, 96, 96))\n",
    "for layer in net:\n",
    "    x = layer(x)\n",
    "    print(layer.__class__.__name__, \"output_shape:\\t\", x.shape)"
   ]
  },
  {
   "cell_type": "markdown",
   "id": "831e16fe",
   "metadata": {},
   "source": [
    "## 3 动态绘图"
   ]
  },
  {
   "cell_type": "code",
   "execution_count": 10,
   "id": "4ed85b0a",
   "metadata": {},
   "outputs": [],
   "source": [
    "def plot_image(num, i, train_loss_his, val_loss_his, train_his_acc, val_his_acc):\n",
    "    plt.figure(num = num)\n",
    "    plt.ion()\n",
    "    plt.cla()\n",
    "    ax1 = plt.subplot2grid((1, 2), (0, 0), colspan=1, rowspan=1)\n",
    "    ax1.grid(ls='-.')\n",
    "    ax1.set_xlim((0, num_epochs))\n",
    "    #ax1.set_ylim(0, 1.6)\n",
    "    ax1.plot(range(i + 1), train_loss_his, label='train_loss')\n",
    "    ax1.plot(range(i + 1), val_loss_his, label='val_loss')\n",
    "    ax1.legend()\n",
    "    ax2 = plt.subplot2grid((1, 2), (0, 1), colspan=1, rowspan=1)\n",
    "    ax2.grid(ls='-.')\n",
    "    ax2.set_xlim(0, num_epochs)\n",
    "    ax2.set_ylim(0, 1)\n",
    "    ax2.plot(range(i + 1), train_his_acc, label='train_accuracy')\n",
    "    ax2.plot(range(i + 1), val_his_acc, label='val_accuracy')\n",
    "    ax2.legend()\n",
    "    display.clear_output(wait=True)\n",
    "    plt.pause(0.0000001)\n",
    "    plt.ioff()\n",
    "    plt.show()"
   ]
  },
  {
   "cell_type": "markdown",
   "id": "13fa9832",
   "metadata": {},
   "source": [
    "## 4 训练模型"
   ]
  },
  {
   "cell_type": "code",
   "execution_count": 11,
   "id": "f8b27b4d",
   "metadata": {},
   "outputs": [],
   "source": [
    "trans = transforms.Compose([transforms.ToTensor(), transforms.Resize([96, 96])])\n",
    "mnist_train = torchvision.datasets.FashionMNIST(root = \"C:/Users/CCU6/Practice/pytorch/data\", train = True,\n",
    "                                                transform = trans, download = True)\n",
    "mnist_test = torchvision.datasets.FashionMNIST(root = \"C:/Users/CCU6/Practice/pytorch/data\", train = False,\n",
    "                                                transform = trans, download = True)"
   ]
  },
  {
   "cell_type": "markdown",
   "id": "0ff26e8b",
   "metadata": {},
   "source": [
    "### 4.1 将网络参数用xavier初始化"
   ]
  },
  {
   "cell_type": "code",
   "execution_count": 12,
   "id": "c9edf8b6",
   "metadata": {},
   "outputs": [],
   "source": [
    "def init_weight(m):\n",
    "    if type(m) == nn.Linear or type(m) == nn.Conv2d:\n",
    "        nn.init.xavier_uniform_(m.weight)"
   ]
  },
  {
   "cell_type": "markdown",
   "id": "b8991e86",
   "metadata": {},
   "source": [
    "### 4.2 训练函数\n",
    "- 这里面使用了小批量梯度下降，如果不用批量梯度下降的话（其他参数不变），网络就会不收敛，准确率一直在0.1附近。或者是训练更多轮。"
   ]
  },
  {
   "cell_type": "code",
   "execution_count": 13,
   "id": "709288ba",
   "metadata": {},
   "outputs": [],
   "source": [
    "def train_model(net, num_epochs, alpha, device, batch_size):\n",
    "    #定义的东西\n",
    "    train_loss_his = []\n",
    "    val_loss_his = []\n",
    "    train_his_acc = []\n",
    "    val_his_acc = []\n",
    "    train_data_batch = torch.utils.data.DataLoader(mnist_train, batch_size = batch_size, shuffle = True, num_workers = 0)\n",
    "    val_data_batch = torch.utils.data.DataLoader(mnist_test, batch_size = batch_size, shuffle = True, num_workers = 0)\n",
    "    #正式代码\n",
    "    net.apply(init_weight)\n",
    "    print(f\"train on:{device}\")\n",
    "    net.to(device)\n",
    "    optimizer = torch.optim.SGD(net.parameters(), lr = alpha)\n",
    "    loss = nn.CrossEntropyLoss(reduction='none')\n",
    "    for i in range(num_epochs):\n",
    "        train_loss = 0.\n",
    "        train_acc = 0.\n",
    "        net.train()\n",
    "        #每次迭代用batch_size大小的数据集进行训练，一轮共every_num_epoch此迭代。\n",
    "        for k, (data_train, label_train) in enumerate(train_data_batch):\n",
    "            data_train_k = data_train.to(device)\n",
    "            label_train_k = label_train.to(device)\n",
    "            optimizer.zero_grad()\n",
    "            y_trian_hat = net(data_train_k)\n",
    "            l_train = loss(y_trian_hat, label_train_k)\n",
    "            l_train.mean().backward()\n",
    "            optimizer.step()\n",
    "            with torch.no_grad():\n",
    "                train_max_hat = torch.argmax(y_trian_hat, dim = 1)\n",
    "                train_acc_k = sum(train_max_hat == label_train_k)\n",
    "                train_acc += train_acc_k\n",
    "                train_loss += l_train.sum()\n",
    "        \n",
    "        net.eval()\n",
    "        with torch.no_grad():\n",
    "            val_loss = 0.\n",
    "            val_acc = 0.\n",
    "            #验证集的预测\n",
    "            for data_val, label_val in val_data_batch:\n",
    "                data_val_k = data_val.to(device)\n",
    "                label_val_k = label_val.to(device)\n",
    "                y_val_hat = net(data_val_k)\n",
    "                val_max_hat = torch.argmax(y_val_hat, dim = 1)\n",
    "                val_acc_k = sum(val_max_hat == label_val_k)\n",
    "                l_val = loss(y_val_hat, label_val_k)\n",
    "                val_acc += val_acc_k\n",
    "                val_loss += l_val.sum()\n",
    "            \n",
    "            train_loss_his.append(((train_loss * 1.0)/len(mnist_train)).cpu())\n",
    "            val_loss_his.append(((val_loss * 1.0)/len(mnist_test)).cpu())\n",
    "            train_his_acc.append(((train_acc * 1.0)/len(mnist_train)).cpu())\n",
    "            val_his_acc.append(((val_acc * 1.0)/len(mnist_test)).cpu())\n",
    "        #画出每次迭代的图\n",
    "        plot_image(2, i, train_loss_his, val_loss_his, train_his_acc, val_his_acc)\n",
    "    print(f\"train acc:{max(train_his_acc)}, test acc:{max(val_his_acc)}\")\n",
    "    \n",
    "    return train_loss_his, val_loss_his, train_his_acc, val_his_acc"
   ]
  },
  {
   "cell_type": "code",
   "execution_count": 14,
   "id": "8407af4d",
   "metadata": {},
   "outputs": [],
   "source": [
    "device = torch.device(\"cuda:0\")\n",
    "num_epochs, alpha, batch_size = 10, 0.1, 128"
   ]
  },
  {
   "cell_type": "code",
   "execution_count": 15,
   "id": "be335cbb",
   "metadata": {},
   "outputs": [
    {
     "data": {
      "image/png": "[encoded data removed]",
      "text/plain": [
       "<Figure size 640x480 with 2 Axes>"
      ]
     },
     "metadata": {},
     "output_type": "display_data"
    },
    {
     "name": "stdout",
     "output_type": "stream",
     "text": [
      "train acc:0.9050833582878113, test acc:0.8912000060081482\n"
     ]
    }
   ],
   "source": [
    "train_loss_his, test_loss_his, train_his_acc, test_his_acc = train_model(net, num_epochs, alpha, device, batch_size)"
   ]
  },
  {
   "cell_type": "code",
   "execution_count": null,
   "id": "21963829",
   "metadata": {},
   "outputs": [],
   "source": []
  }
 ],
 "metadata": {
  "kernelspec": {
   "display_name": "Python 3 (ipykernel)",
   "language": "python",
   "name": "python3"
  },
  "language_info": {
   "codemirror_mode": {
    "name": "ipython",
    "version": 3
   },
   "file_extension": ".py",
   "mimetype": "text/x-python",
   "name": "python",
   "nbconvert_exporter": "python",
   "pygments_lexer": "ipython3",
   "version": "3.8.19"
  }
 },
 "nbformat": 4,
 "nbformat_minor": 5
}
